{
 "cells": [
  {
   "cell_type": "markdown",
   "id": "d9f6a95c-cd5a-4267-a601-ad667c78e46e",
   "metadata": {},
   "source": [
    "Build a baseline model using the weather station data (this approach used all days in 2018 since the data was available).\n",
    "\n",
    "\n",
    "Then use the model to make predictions for the ENVI-met(micro-climate) data for that specific day and compare it to model predictions using weather station data also for the same day."
   ]
  },
  {
   "cell_type": "markdown",
   "id": "f94e1207-9300-4a88-8a5c-018f487b78bf",
   "metadata": {},
   "source": [
    "# 1. Import"
   ]
  },
  {
   "cell_type": "code",
   "execution_count": 1,
   "id": "5def07e5",
   "metadata": {},
   "outputs": [],
   "source": [
    "import pandas as pd\n",
    "import seaborn as sns\n",
    "import numpy as np\n",
    "\n",
    "import pathlib\n",
    "import matplotlib.pyplot as plt\n",
    "from matplotlib.pyplot import cm\n",
    "from datetime import datetime\n",
    "from sklearn import metrics\n",
    "\n",
    "#  for multicolinearity\n",
    "from statsmodels.stats.outliers_influence import variance_inflation_factor \n",
    "\n",
    "import PyQt5"
   ]
  },
  {
   "cell_type": "markdown",
   "id": "b95a4864-e1d6-49c8-9a69-72d440091748",
   "metadata": {},
   "source": [
    "# 2. Import csv"
   ]
  },
  {
   "cell_type": "markdown",
   "id": "731038b0-4d55-4f14-93c5-4323bccf78dd",
   "metadata": {},
   "source": [
    "## 2.1 Microclimate Data"
   ]
  },
  {
   "cell_type": "markdown",
   "id": "2d03a18c-a503-40ab-9843-8a2fb8212d73",
   "metadata": {},
   "source": [
    "This is the climate of buildings for June 9th only. We will extract weather data for Interdiciplinary AB building only. Data from ENVI-MET. "
   ]
  },
  {
   "cell_type": "code",
   "execution_count": 2,
   "id": "519847a9",
   "metadata": {},
   "outputs": [
    {
     "name": "stdout",
     "output_type": "stream",
     "text": [
      "(16, 4)\n"
     ]
    },
    {
     "data": {
      "text/html": [
       "<div>\n",
       "<style scoped>\n",
       "    .dataframe tbody tr th:only-of-type {\n",
       "        vertical-align: middle;\n",
       "    }\n",
       "\n",
       "    .dataframe tbody tr th {\n",
       "        vertical-align: top;\n",
       "    }\n",
       "\n",
       "    .dataframe thead th {\n",
       "        text-align: right;\n",
       "    }\n",
       "</style>\n",
       "<table border=\"1\" class=\"dataframe\">\n",
       "  <thead>\n",
       "    <tr style=\"text-align: right;\">\n",
       "      <th></th>\n",
       "      <th>Date</th>\n",
       "      <th>Time</th>\n",
       "      <th>Air Temp</th>\n",
       "      <th>Rel Humid</th>\n",
       "    </tr>\n",
       "  </thead>\n",
       "  <tbody>\n",
       "    <tr>\n",
       "      <th>0</th>\n",
       "      <td>6/9/2018</td>\n",
       "      <td>5.00.00 AM</td>\n",
       "      <td>29.537667</td>\n",
       "      <td>12.699708</td>\n",
       "    </tr>\n",
       "    <tr>\n",
       "      <th>1</th>\n",
       "      <td>6/9/2018</td>\n",
       "      <td>6.00.01 AM</td>\n",
       "      <td>29.033387</td>\n",
       "      <td>16.378229</td>\n",
       "    </tr>\n",
       "    <tr>\n",
       "      <th>2</th>\n",
       "      <td>6/9/2018</td>\n",
       "      <td>7.00.01 AM</td>\n",
       "      <td>29.604562</td>\n",
       "      <td>17.250977</td>\n",
       "    </tr>\n",
       "    <tr>\n",
       "      <th>3</th>\n",
       "      <td>6/9/2018</td>\n",
       "      <td>8.00.01 AM</td>\n",
       "      <td>31.459578</td>\n",
       "      <td>16.705515</td>\n",
       "    </tr>\n",
       "    <tr>\n",
       "      <th>4</th>\n",
       "      <td>6/9/2018</td>\n",
       "      <td>9.00.01 AM</td>\n",
       "      <td>33.820584</td>\n",
       "      <td>14.477529</td>\n",
       "    </tr>\n",
       "    <tr>\n",
       "      <th>5</th>\n",
       "      <td>6/9/2018</td>\n",
       "      <td>10.00.01 AM</td>\n",
       "      <td>35.796708</td>\n",
       "      <td>10.969304</td>\n",
       "    </tr>\n",
       "    <tr>\n",
       "      <th>6</th>\n",
       "      <td>6/9/2018</td>\n",
       "      <td>11.00.01 AM</td>\n",
       "      <td>36.879628</td>\n",
       "      <td>8.902718</td>\n",
       "    </tr>\n",
       "    <tr>\n",
       "      <th>7</th>\n",
       "      <td>6/9/2018</td>\n",
       "      <td>12.00.01 PM</td>\n",
       "      <td>37.837624</td>\n",
       "      <td>7.785688</td>\n",
       "    </tr>\n",
       "    <tr>\n",
       "      <th>8</th>\n",
       "      <td>6/9/2018</td>\n",
       "      <td>1.00.01 PM</td>\n",
       "      <td>38.771101</td>\n",
       "      <td>6.989491</td>\n",
       "    </tr>\n",
       "    <tr>\n",
       "      <th>9</th>\n",
       "      <td>6/9/2018</td>\n",
       "      <td>2.00.01 PM</td>\n",
       "      <td>39.486798</td>\n",
       "      <td>6.362558</td>\n",
       "    </tr>\n",
       "    <tr>\n",
       "      <th>10</th>\n",
       "      <td>6/9/2018</td>\n",
       "      <td>3.00.01 PM</td>\n",
       "      <td>39.867346</td>\n",
       "      <td>6.021546</td>\n",
       "    </tr>\n",
       "    <tr>\n",
       "      <th>11</th>\n",
       "      <td>6/9/2018</td>\n",
       "      <td>4.00.01 PM</td>\n",
       "      <td>40.046582</td>\n",
       "      <td>5.873886</td>\n",
       "    </tr>\n",
       "    <tr>\n",
       "      <th>12</th>\n",
       "      <td>6/9/2018</td>\n",
       "      <td>5.00.01 PM</td>\n",
       "      <td>39.936800</td>\n",
       "      <td>5.854970</td>\n",
       "    </tr>\n",
       "    <tr>\n",
       "      <th>13</th>\n",
       "      <td>6/9/2018</td>\n",
       "      <td>6.00.01 PM</td>\n",
       "      <td>39.575997</td>\n",
       "      <td>5.906207</td>\n",
       "    </tr>\n",
       "    <tr>\n",
       "      <th>14</th>\n",
       "      <td>6/9/2018</td>\n",
       "      <td>7.00.01 PM</td>\n",
       "      <td>38.936188</td>\n",
       "      <td>6.200171</td>\n",
       "    </tr>\n",
       "    <tr>\n",
       "      <th>15</th>\n",
       "      <td>6/9/2018</td>\n",
       "      <td>8.00.01 PM</td>\n",
       "      <td>38.108705</td>\n",
       "      <td>6.634349</td>\n",
       "    </tr>\n",
       "  </tbody>\n",
       "</table>\n",
       "</div>"
      ],
      "text/plain": [
       "        Date         Time   Air Temp  Rel Humid\n",
       "0   6/9/2018   5.00.00 AM  29.537667  12.699708\n",
       "1   6/9/2018   6.00.01 AM  29.033387  16.378229\n",
       "2   6/9/2018   7.00.01 AM  29.604562  17.250977\n",
       "3   6/9/2018   8.00.01 AM  31.459578  16.705515\n",
       "4   6/9/2018   9.00.01 AM  33.820584  14.477529\n",
       "5   6/9/2018  10.00.01 AM  35.796708  10.969304\n",
       "6   6/9/2018  11.00.01 AM  36.879628   8.902718\n",
       "7   6/9/2018  12.00.01 PM  37.837624   7.785688\n",
       "8   6/9/2018   1.00.01 PM  38.771101   6.989491\n",
       "9   6/9/2018   2.00.01 PM  39.486798   6.362558\n",
       "10  6/9/2018   3.00.01 PM  39.867346   6.021546\n",
       "11  6/9/2018   4.00.01 PM  40.046582   5.873886\n",
       "12  6/9/2018   5.00.01 PM  39.936800   5.854970\n",
       "13  6/9/2018   6.00.01 PM  39.575997   5.906207\n",
       "14  6/9/2018   7.00.01 PM  38.936188   6.200171\n",
       "15  6/9/2018   8.00.01 PM  38.108705   6.634349"
      ]
     },
     "execution_count": 2,
     "metadata": {},
     "output_type": "execute_result"
    }
   ],
   "source": [
    "microclimate_all = [] # BPS\n",
    "Fname = []\n",
    "\n",
    "# 1. Append all building data to microclimate_all (including Inter AB)\n",
    "for path in pathlib.Path(\"./Data/BPS\").iterdir():\n",
    "    if path.is_file():\n",
    "        current_file = pd.read_csv(path)\n",
    "        microclimate_all.append(current_file)\n",
    "        Fname.append(path.name.replace('.csv', ''))\n",
    "\n",
    "\n",
    "# 2. Drop last row (Nan) of microclimate\n",
    "for i in range(len(microclimate_all)):\n",
    "    microclimate_all[i] = microclimate_all[i].drop(16)\n",
    "    \n",
    "# 3. Get microclimate (interAB only)\n",
    "\n",
    "# 4. Create empty df for microclimate data of InterAB only\n",
    "microclimate = pd.DataFrame() \n",
    "\n",
    "# 5. Insert temperature data of InterAB building \n",
    "microclimate  = microclimate.append(microclimate_all[7])\n",
    "\n",
    "# 6. Only take the mean and leave the rest\n",
    "microclimate  = microclimate[['Date','Time', 'AirTempInFrontOfAllFacades_MEAN', 'RelativeAirHumidityInFrontOfAllFacades_MEAN']]\n",
    "\n",
    "# 7. Rename\n",
    "microclimate  = microclimate.rename(columns = {'AirTempInFrontOfAllFacades_MEAN':'Air Temp',\n",
    "                                    'RelativeAirHumidityInFrontOfAllFacades_MEAN':'Rel Humid'})\n",
    "\n",
    "print(microclimate.shape)\n",
    "microclimate"
   ]
  },
  {
   "cell_type": "markdown",
   "id": "80842152-55a6-4a2b-94d8-55571f2b9882",
   "metadata": {},
   "source": [
    "## 2.2 Weather Station"
   ]
  },
  {
   "cell_type": "markdown",
   "id": "20719d60-259f-4dd4-8d85-ed22bddc1926",
   "metadata": {},
   "source": [
    "This is the rural climate of Phoenix area. AZ PHX Sky Harbor Data. "
   ]
  },
  {
   "cell_type": "code",
   "execution_count": 3,
   "id": "3bbb8fa0-24f7-4f6c-9b08-bfa56a3c6d70",
   "metadata": {},
   "outputs": [
    {
     "name": "stdout",
     "output_type": "stream",
     "text": [
      "(34629, 3)\n"
     ]
    }
   ],
   "source": [
    "weather_station = pd.read_csv(\"./Data/Weather Data/KPHX-15.csv\") # AZW15\n",
    "print(weather_station.shape)\n"
   ]
  },
  {
   "cell_type": "markdown",
   "id": "297a3781-d3dc-4e3d-b7d3-f4b3b0fe5578",
   "metadata": {},
   "source": [
    "## 2.3 Building Energy consumption data"
   ]
  },
  {
   "cell_type": "markdown",
   "id": "6f798d0b-8c73-4b3d-94e6-18b0ea9b16c8",
   "metadata": {},
   "source": [
    "This is the energy consumption data of Intediciplinary AB building"
   ]
  },
  {
   "cell_type": "code",
   "execution_count": 4,
   "id": "f2cd50b1",
   "metadata": {},
   "outputs": [],
   "source": [
    "building_energy = pd.read_csv(\"./Data/Weather Data/Interdisciplinary AB 2018.csv\")\n"
   ]
  },
  {
   "cell_type": "code",
   "execution_count": 5,
   "id": "26c84443-3165-45fd-9e26-0669d3042a1c",
   "metadata": {},
   "outputs": [
    {
     "name": "stdout",
     "output_type": "stream",
     "text": [
      "(35034, 29)\n"
     ]
    },
    {
     "data": {
      "text/html": [
       "<div>\n",
       "<style scoped>\n",
       "    .dataframe tbody tr th:only-of-type {\n",
       "        vertical-align: middle;\n",
       "    }\n",
       "\n",
       "    .dataframe tbody tr th {\n",
       "        vertical-align: top;\n",
       "    }\n",
       "\n",
       "    .dataframe thead th {\n",
       "        text-align: right;\n",
       "    }\n",
       "</style>\n",
       "<table border=\"1\" class=\"dataframe\">\n",
       "  <thead>\n",
       "    <tr style=\"text-align: right;\">\n",
       "      <th></th>\n",
       "      <th>campus</th>\n",
       "      <th>bldgno</th>\n",
       "      <th>bldgname</th>\n",
       "      <th>tstamp</th>\n",
       "      <th>Year</th>\n",
       "      <th>Month</th>\n",
       "      <th>Day</th>\n",
       "      <th>Hour</th>\n",
       "      <th>KW</th>\n",
       "      <th>KWS</th>\n",
       "      <th>...</th>\n",
       "      <th>CHWTONgalsgas</th>\n",
       "      <th>HTmmBTU#Houses</th>\n",
       "      <th>HTmmBTUlightbulbs</th>\n",
       "      <th>HTmmBTUgalsgas</th>\n",
       "      <th>Total#Houses</th>\n",
       "      <th>Totallightbulbs</th>\n",
       "      <th>Totalgalsgas</th>\n",
       "      <th>GHG</th>\n",
       "      <th>DOW</th>\n",
       "      <th>tstamp2</th>\n",
       "    </tr>\n",
       "  </thead>\n",
       "  <tbody>\n",
       "    <tr>\n",
       "      <th>0</th>\n",
       "      <td>Tempe</td>\n",
       "      <td>2_3</td>\n",
       "      <td>Interdisciplinary AB</td>\n",
       "      <td>2018-01-01T00:00:00</td>\n",
       "      <td></td>\n",
       "      <td></td>\n",
       "      <td></td>\n",
       "      <td></td>\n",
       "      <td>138.33</td>\n",
       "      <td>0.00</td>\n",
       "      <td>...</td>\n",
       "      <td>0</td>\n",
       "      <td>0</td>\n",
       "      <td>0</td>\n",
       "      <td>0</td>\n",
       "      <td>41</td>\n",
       "      <td>10156</td>\n",
       "      <td>22</td>\n",
       "      <td>0.019</td>\n",
       "      <td>2</td>\n",
       "      <td>2018-01-01T00:00:00</td>\n",
       "    </tr>\n",
       "    <tr>\n",
       "      <th>1</th>\n",
       "      <td>Tempe</td>\n",
       "      <td>2_3</td>\n",
       "      <td>Interdisciplinary AB</td>\n",
       "      <td>2018-01-01T00:15:00</td>\n",
       "      <td></td>\n",
       "      <td></td>\n",
       "      <td></td>\n",
       "      <td></td>\n",
       "      <td>90.14</td>\n",
       "      <td>0.00</td>\n",
       "      <td>...</td>\n",
       "      <td>0</td>\n",
       "      <td>0</td>\n",
       "      <td>0</td>\n",
       "      <td>0</td>\n",
       "      <td>27</td>\n",
       "      <td>6688</td>\n",
       "      <td>17</td>\n",
       "      <td>0.012</td>\n",
       "      <td>2</td>\n",
       "      <td>2018-01-01T00:15:00</td>\n",
       "    </tr>\n",
       "    <tr>\n",
       "      <th>2</th>\n",
       "      <td>Tempe</td>\n",
       "      <td>2_3</td>\n",
       "      <td>Interdisciplinary AB</td>\n",
       "      <td>2018-01-01T00:30:00</td>\n",
       "      <td></td>\n",
       "      <td></td>\n",
       "      <td></td>\n",
       "      <td></td>\n",
       "      <td>80.49</td>\n",
       "      <td>0.00</td>\n",
       "      <td>...</td>\n",
       "      <td>0</td>\n",
       "      <td>0</td>\n",
       "      <td>0</td>\n",
       "      <td>0</td>\n",
       "      <td>24</td>\n",
       "      <td>6002</td>\n",
       "      <td>16</td>\n",
       "      <td>0.011</td>\n",
       "      <td>2</td>\n",
       "      <td>2018-01-01T00:30:00</td>\n",
       "    </tr>\n",
       "    <tr>\n",
       "      <th>3</th>\n",
       "      <td>Tempe</td>\n",
       "      <td>2_3</td>\n",
       "      <td>Interdisciplinary AB</td>\n",
       "      <td>2018-01-01T00:45:00</td>\n",
       "      <td></td>\n",
       "      <td></td>\n",
       "      <td></td>\n",
       "      <td></td>\n",
       "      <td>84.88</td>\n",
       "      <td>0.00</td>\n",
       "      <td>...</td>\n",
       "      <td>0</td>\n",
       "      <td>0</td>\n",
       "      <td>0</td>\n",
       "      <td>0</td>\n",
       "      <td>25</td>\n",
       "      <td>6289</td>\n",
       "      <td>15</td>\n",
       "      <td>0.012</td>\n",
       "      <td>2</td>\n",
       "      <td>2018-01-01T00:45:00</td>\n",
       "    </tr>\n",
       "    <tr>\n",
       "      <th>4</th>\n",
       "      <td>Tempe</td>\n",
       "      <td>2_3</td>\n",
       "      <td>Interdisciplinary AB</td>\n",
       "      <td>2018-01-01T01:00:00</td>\n",
       "      <td></td>\n",
       "      <td></td>\n",
       "      <td></td>\n",
       "      <td></td>\n",
       "      <td>85.83</td>\n",
       "      <td>0.00</td>\n",
       "      <td>...</td>\n",
       "      <td>0</td>\n",
       "      <td>0</td>\n",
       "      <td>0</td>\n",
       "      <td>0</td>\n",
       "      <td>25</td>\n",
       "      <td>6350</td>\n",
       "      <td>15</td>\n",
       "      <td>0.012</td>\n",
       "      <td>2</td>\n",
       "      <td>2018-01-01T01:00:00</td>\n",
       "    </tr>\n",
       "    <tr>\n",
       "      <th>...</th>\n",
       "      <td>...</td>\n",
       "      <td>...</td>\n",
       "      <td>...</td>\n",
       "      <td>...</td>\n",
       "      <td>...</td>\n",
       "      <td>...</td>\n",
       "      <td>...</td>\n",
       "      <td>...</td>\n",
       "      <td>...</td>\n",
       "      <td>...</td>\n",
       "      <td>...</td>\n",
       "      <td>...</td>\n",
       "      <td>...</td>\n",
       "      <td>...</td>\n",
       "      <td>...</td>\n",
       "      <td>...</td>\n",
       "      <td>...</td>\n",
       "      <td>...</td>\n",
       "      <td>...</td>\n",
       "      <td>...</td>\n",
       "      <td>...</td>\n",
       "    </tr>\n",
       "    <tr>\n",
       "      <th>35029</th>\n",
       "      <td>Tempe</td>\n",
       "      <td>2_3</td>\n",
       "      <td>Interdisciplinary AB</td>\n",
       "      <td>2018-12-31T22:45:00</td>\n",
       "      <td></td>\n",
       "      <td></td>\n",
       "      <td></td>\n",
       "      <td></td>\n",
       "      <td>133.01</td>\n",
       "      <td>0.21</td>\n",
       "      <td>...</td>\n",
       "      <td>0</td>\n",
       "      <td>0</td>\n",
       "      <td>0</td>\n",
       "      <td>0</td>\n",
       "      <td>38</td>\n",
       "      <td>9501</td>\n",
       "      <td>13</td>\n",
       "      <td>0.018</td>\n",
       "      <td>2</td>\n",
       "      <td>2018-12-31T22:45:00</td>\n",
       "    </tr>\n",
       "    <tr>\n",
       "      <th>35030</th>\n",
       "      <td>Tempe</td>\n",
       "      <td>2_3</td>\n",
       "      <td>Interdisciplinary AB</td>\n",
       "      <td>2018-12-31T23:00:00</td>\n",
       "      <td></td>\n",
       "      <td></td>\n",
       "      <td></td>\n",
       "      <td></td>\n",
       "      <td>130.59</td>\n",
       "      <td>0.21</td>\n",
       "      <td>...</td>\n",
       "      <td>0</td>\n",
       "      <td>0</td>\n",
       "      <td>0</td>\n",
       "      <td>0</td>\n",
       "      <td>37</td>\n",
       "      <td>9328</td>\n",
       "      <td>13</td>\n",
       "      <td>0.018</td>\n",
       "      <td>2</td>\n",
       "      <td>2018-12-31T23:00:00</td>\n",
       "    </tr>\n",
       "    <tr>\n",
       "      <th>35031</th>\n",
       "      <td>Tempe</td>\n",
       "      <td>2_3</td>\n",
       "      <td>Interdisciplinary AB</td>\n",
       "      <td>2018-12-31T23:15:00</td>\n",
       "      <td></td>\n",
       "      <td></td>\n",
       "      <td></td>\n",
       "      <td></td>\n",
       "      <td>129.08</td>\n",
       "      <td>0.21</td>\n",
       "      <td>...</td>\n",
       "      <td>0</td>\n",
       "      <td>0</td>\n",
       "      <td>0</td>\n",
       "      <td>0</td>\n",
       "      <td>37</td>\n",
       "      <td>9220</td>\n",
       "      <td>12</td>\n",
       "      <td>0.018</td>\n",
       "      <td>2</td>\n",
       "      <td>2018-12-31T23:15:00</td>\n",
       "    </tr>\n",
       "    <tr>\n",
       "      <th>35032</th>\n",
       "      <td>Tempe</td>\n",
       "      <td>2_3</td>\n",
       "      <td>Interdisciplinary AB</td>\n",
       "      <td>2018-12-31T23:30:00</td>\n",
       "      <td></td>\n",
       "      <td></td>\n",
       "      <td></td>\n",
       "      <td></td>\n",
       "      <td>131.71</td>\n",
       "      <td>0.22</td>\n",
       "      <td>...</td>\n",
       "      <td>0</td>\n",
       "      <td>0</td>\n",
       "      <td>0</td>\n",
       "      <td>0</td>\n",
       "      <td>38</td>\n",
       "      <td>9408</td>\n",
       "      <td>13</td>\n",
       "      <td>0.018</td>\n",
       "      <td>2</td>\n",
       "      <td>2018-12-31T23:30:00</td>\n",
       "    </tr>\n",
       "    <tr>\n",
       "      <th>35033</th>\n",
       "      <td>Tempe</td>\n",
       "      <td>2_3</td>\n",
       "      <td>Interdisciplinary AB</td>\n",
       "      <td>2018-12-31T23:45:00</td>\n",
       "      <td></td>\n",
       "      <td></td>\n",
       "      <td></td>\n",
       "      <td></td>\n",
       "      <td>132.32</td>\n",
       "      <td>0.21</td>\n",
       "      <td>...</td>\n",
       "      <td>0</td>\n",
       "      <td>0</td>\n",
       "      <td>0</td>\n",
       "      <td>0</td>\n",
       "      <td>38</td>\n",
       "      <td>9451</td>\n",
       "      <td>13</td>\n",
       "      <td>0.018</td>\n",
       "      <td>2</td>\n",
       "      <td>2018-12-31T23:45:00</td>\n",
       "    </tr>\n",
       "  </tbody>\n",
       "</table>\n",
       "<p>35034 rows × 29 columns</p>\n",
       "</div>"
      ],
      "text/plain": [
       "      campus bldgno              bldgname                   tstamp Year Month  \\\n",
       "0      Tempe    2_3  Interdisciplinary AB  2018-01-01T00:00:00                  \n",
       "1      Tempe    2_3  Interdisciplinary AB  2018-01-01T00:15:00                  \n",
       "2      Tempe    2_3  Interdisciplinary AB  2018-01-01T00:30:00                  \n",
       "3      Tempe    2_3  Interdisciplinary AB  2018-01-01T00:45:00                  \n",
       "4      Tempe    2_3  Interdisciplinary AB  2018-01-01T01:00:00                  \n",
       "...      ...    ...                   ...                      ...  ...   ...   \n",
       "35029  Tempe    2_3  Interdisciplinary AB  2018-12-31T22:45:00                  \n",
       "35030  Tempe    2_3  Interdisciplinary AB  2018-12-31T23:00:00                  \n",
       "35031  Tempe    2_3  Interdisciplinary AB  2018-12-31T23:15:00                  \n",
       "35032  Tempe    2_3  Interdisciplinary AB  2018-12-31T23:30:00                  \n",
       "35033  Tempe    2_3  Interdisciplinary AB  2018-12-31T23:45:00                  \n",
       "\n",
       "      Day Hour      KW   KWS  ...  CHWTONgalsgas  HTmmBTU#Houses  \\\n",
       "0               138.33  0.00  ...              0               0   \n",
       "1                90.14  0.00  ...              0               0   \n",
       "2                80.49  0.00  ...              0               0   \n",
       "3                84.88  0.00  ...              0               0   \n",
       "4                85.83  0.00  ...              0               0   \n",
       "...    ..  ...     ...   ...  ...            ...             ...   \n",
       "35029           133.01  0.21  ...              0               0   \n",
       "35030           130.59  0.21  ...              0               0   \n",
       "35031           129.08  0.21  ...              0               0   \n",
       "35032           131.71  0.22  ...              0               0   \n",
       "35033           132.32  0.21  ...              0               0   \n",
       "\n",
       "       HTmmBTUlightbulbs  HTmmBTUgalsgas  Total#Houses  Totallightbulbs  \\\n",
       "0                      0               0            41            10156   \n",
       "1                      0               0            27             6688   \n",
       "2                      0               0            24             6002   \n",
       "3                      0               0            25             6289   \n",
       "4                      0               0            25             6350   \n",
       "...                  ...             ...           ...              ...   \n",
       "35029                  0               0            38             9501   \n",
       "35030                  0               0            37             9328   \n",
       "35031                  0               0            37             9220   \n",
       "35032                  0               0            38             9408   \n",
       "35033                  0               0            38             9451   \n",
       "\n",
       "       Totalgalsgas    GHG  DOW              tstamp2  \n",
       "0                22  0.019    2  2018-01-01T00:00:00  \n",
       "1                17  0.012    2  2018-01-01T00:15:00  \n",
       "2                16  0.011    2  2018-01-01T00:30:00  \n",
       "3                15  0.012    2  2018-01-01T00:45:00  \n",
       "4                15  0.012    2  2018-01-01T01:00:00  \n",
       "...             ...    ...  ...                  ...  \n",
       "35029            13  0.018    2  2018-12-31T22:45:00  \n",
       "35030            13  0.018    2  2018-12-31T23:00:00  \n",
       "35031            12  0.018    2  2018-12-31T23:15:00  \n",
       "35032            13  0.018    2  2018-12-31T23:30:00  \n",
       "35033            13  0.018    2  2018-12-31T23:45:00  \n",
       "\n",
       "[35034 rows x 29 columns]"
      ]
     },
     "execution_count": 5,
     "metadata": {},
     "output_type": "execute_result"
    }
   ],
   "source": [
    "print(building_energy.shape)\n",
    "building_energy"
   ]
  },
  {
   "cell_type": "markdown",
   "id": "b284403b-4b4b-4cf8-919d-6b0b4a90be8b",
   "metadata": {},
   "source": [
    "# 3. Preprocessing"
   ]
  },
  {
   "cell_type": "markdown",
   "id": "6c5060df-c598-4830-9411-f2a61f1cd6e7",
   "metadata": {},
   "source": [
    "## 3.1 Formatting Date and Time"
   ]
  },
  {
   "cell_type": "markdown",
   "id": "df6e6d10-528d-4c9e-9af7-ad9a0871ce64",
   "metadata": {},
   "source": [
    "### a) Microclimate Dates"
   ]
  },
  {
   "cell_type": "code",
   "execution_count": 6,
   "id": "7e1ad52e-095f-45bf-b17b-4b1e68bcd887",
   "metadata": {},
   "outputs": [
    {
     "name": "stderr",
     "output_type": "stream",
     "text": [
      "<ipython-input-6-f3b6d8f03342>:2: FutureWarning: The default value of regex will change from True to False in a future version. In addition, single character regular expressions will*not* be treated as literal strings when regex=True.\n",
      "  microclimate['Time'] = microclimate['Time'].str.replace('.',':')\n"
     ]
    }
   ],
   "source": [
    "# 1. format time\n",
    "microclimate['Time'] = microclimate['Time'].str.replace('.',':')\n",
    "microclimate['Time'] = microclimate['Time'].str.replace('01','00')\n",
    "\n",
    "# convert to 24 hour format\n",
    "microclimate['Time'] = pd.to_datetime(microclimate['Time']).dt.strftime('%H:%M')\n"
   ]
  },
  {
   "cell_type": "code",
   "execution_count": 7,
   "id": "2fc8b72a-2f62-4cf5-b692-04395233f567",
   "metadata": {},
   "outputs": [],
   "source": [
    "# 2. format date (still in string)\n",
    "microclimate['Date'] = pd.to_datetime(microclimate['Date']).dt.strftime('%m/%d/%Y')"
   ]
  },
  {
   "cell_type": "code",
   "execution_count": 8,
   "id": "80a550fc-7e26-4089-83ab-534eff71a4f8",
   "metadata": {},
   "outputs": [],
   "source": [
    "# 3. combine date time column as string and set as index\n",
    "microclimate['Date_Time'] = microclimate['Date'] + ' ' + microclimate['Time']"
   ]
  },
  {
   "cell_type": "code",
   "execution_count": 9,
   "id": "f1361645-341a-4d68-8ee1-7f7d22f1a8ec",
   "metadata": {},
   "outputs": [],
   "source": [
    "# 4. Get string type for month and time\n",
    "microclimate['Month'] = microclimate['Date_Time'].str[0:2]\n",
    "microclimate['Time'] = microclimate['Time'].str.replace(':','')"
   ]
  },
  {
   "cell_type": "code",
   "execution_count": 10,
   "id": "0cc5f714-f56b-417b-92ec-f4a915675eac",
   "metadata": {},
   "outputs": [],
   "source": [
    "# # 5. Get numeric for month hour and minute\n",
    "# microclimate.Date_Time = pd.to_datetime(microclimate.Date_Time)\n",
    "# microclimate['Month_num'] = microclimate.Date_Time.dt.month\n",
    "# microclimate['Hour_num'] = microclimate.Date_Time.dt.hour\n",
    "# microclimate['Minute_num'] = microclimate.Date_Time.dt.minute\n",
    "# microclimate.Date_Time = pd.to_datetime(microclimate.Date_Time).dt.strftime('%m/%d/%Y %H:%M')\n",
    "# # 6. Rearrange columns\n",
    "# print(list(microclimate.columns))\n",
    "# microclimate = microclimate[['Date_Time','Month','Time','Month_num', 'Hour_num', 'Minute_num', 'Air Temp', 'Rel Humid' ]]"
   ]
  },
  {
   "cell_type": "code",
   "execution_count": 11,
   "id": "7bd84c68-2034-413e-89ee-74b165b36ded",
   "metadata": {},
   "outputs": [
    {
     "name": "stdout",
     "output_type": "stream",
     "text": [
      "['Date', 'Time', 'Air Temp', 'Rel Humid', 'Date_Time', 'Month']\n"
     ]
    }
   ],
   "source": [
    "# 5. Rearrange columns\n",
    "print(list(microclimate.columns))\n",
    "microclimate = microclimate[['Date_Time','Month','Time', 'Air Temp', 'Rel Humid' ]]"
   ]
  },
  {
   "cell_type": "code",
   "execution_count": 12,
   "id": "b0ba5689-580c-4424-b0cf-b5badcba11e1",
   "metadata": {},
   "outputs": [],
   "source": [
    "microclimate = microclimate.set_index('Date_Time')"
   ]
  },
  {
   "cell_type": "markdown",
   "id": "33881579-f925-4b92-8822-7209d85d92a8",
   "metadata": {},
   "source": [
    "### b) Weather Station dates"
   ]
  },
  {
   "cell_type": "code",
   "execution_count": 13,
   "id": "47a46d7b-0964-4a40-b050-bb1573b272d7",
   "metadata": {},
   "outputs": [],
   "source": [
    "# 1. Get string type for month and time\n",
    "weather_station['Month'] = weather_station['Date_Time'].str[0:2]\n",
    "weather_station['Time'] = weather_station['Date_Time'].str[11:]\n",
    "weather_station['Time'] = weather_station['Time'].str.replace(':','')"
   ]
  },
  {
   "cell_type": "code",
   "execution_count": 14,
   "id": "f6b72e5f-1a27-4ff2-937a-20d2c128079a",
   "metadata": {},
   "outputs": [],
   "source": [
    "# 2. Get numeric for month hour and minute\n",
    "weather_station.Date_Time = pd.to_datetime(weather_station.Date_Time)\n",
    "weather_station['Month_num'] = weather_station.Date_Time.dt.month\n",
    "weather_station['Hour_num'] = weather_station.Date_Time.dt.hour\n",
    "weather_station['Minute_num'] = weather_station.Date_Time.dt.minute\n",
    "weather_station.Date_Time = pd.to_datetime(weather_station.Date_Time).dt.strftime('%m/%d/%Y %H:%M')"
   ]
  },
  {
   "cell_type": "code",
   "execution_count": 15,
   "id": "a5a4d943-2284-42f5-a576-494055b0c8a6",
   "metadata": {},
   "outputs": [],
   "source": [
    "# 4. set date time as index\n",
    "weather_station = weather_station.set_index('Date_Time') \n"
   ]
  },
  {
   "cell_type": "markdown",
   "id": "af59d7e7-c179-4b0e-b21e-f9251baabb7f",
   "metadata": {},
   "source": [
    "### c) Building energy dates"
   ]
  },
  {
   "cell_type": "code",
   "execution_count": 16,
   "id": "c1844c88-eaa2-4559-8aa7-3ea657c21f3b",
   "metadata": {},
   "outputs": [],
   "source": [
    "building_energy.tstamp =  pd.to_datetime(building_energy.tstamp).dt.strftime('%m/%d/%Y %H:%M')"
   ]
  },
  {
   "cell_type": "code",
   "execution_count": 17,
   "id": "2a362451-3421-4339-81b8-200fc636c23f",
   "metadata": {},
   "outputs": [],
   "source": [
    "# remove unwanted columns\n",
    "building_energy = building_energy[['tstamp','KW', 'CHWTON']]"
   ]
  },
  {
   "cell_type": "code",
   "execution_count": 18,
   "id": "5a41169d-7bcf-4f88-a0bc-c8329759cc6b",
   "metadata": {},
   "outputs": [],
   "source": [
    "# set date time as index\n",
    "building_energy = building_energy.set_index('tstamp')\n"
   ]
  },
  {
   "cell_type": "markdown",
   "id": "57fa15a6-0d08-4376-8178-1fe4861253a9",
   "metadata": {},
   "source": [
    "## 3.2 Append Energy Consumption to Weather Station data"
   ]
  },
  {
   "cell_type": "code",
   "execution_count": 19,
   "id": "adbcf70a-15e1-4927-8e60-3ad37c51e564",
   "metadata": {},
   "outputs": [],
   "source": [
    "weather_station =  pd.concat([building_energy, weather_station], axis = 1, join = \"inner\")\n"
   ]
  },
  {
   "cell_type": "code",
   "execution_count": 20,
   "id": "36a6a858-0a22-4682-98ac-584ad92519af",
   "metadata": {},
   "outputs": [
    {
     "data": {
      "text/html": [
       "<div>\n",
       "<style scoped>\n",
       "    .dataframe tbody tr th:only-of-type {\n",
       "        vertical-align: middle;\n",
       "    }\n",
       "\n",
       "    .dataframe tbody tr th {\n",
       "        vertical-align: top;\n",
       "    }\n",
       "\n",
       "    .dataframe thead th {\n",
       "        text-align: right;\n",
       "    }\n",
       "</style>\n",
       "<table border=\"1\" class=\"dataframe\">\n",
       "  <thead>\n",
       "    <tr style=\"text-align: right;\">\n",
       "      <th></th>\n",
       "      <th>Month</th>\n",
       "      <th>Time</th>\n",
       "      <th>Month_num</th>\n",
       "      <th>Hour_num</th>\n",
       "      <th>Minute_num</th>\n",
       "      <th>Air Temp</th>\n",
       "      <th>Rel Humid</th>\n",
       "      <th>KW</th>\n",
       "      <th>CHWTON</th>\n",
       "    </tr>\n",
       "  </thead>\n",
       "  <tbody>\n",
       "    <tr>\n",
       "      <th>01/01/2018 00:00</th>\n",
       "      <td>01</td>\n",
       "      <td>0000</td>\n",
       "      <td>1</td>\n",
       "      <td>0</td>\n",
       "      <td>0</td>\n",
       "      <td>11.0</td>\n",
       "      <td>40.24</td>\n",
       "      <td>138.33</td>\n",
       "      <td>1.09</td>\n",
       "    </tr>\n",
       "    <tr>\n",
       "      <th>01/01/2018 00:15</th>\n",
       "      <td>01</td>\n",
       "      <td>0015</td>\n",
       "      <td>1</td>\n",
       "      <td>0</td>\n",
       "      <td>15</td>\n",
       "      <td>11.0</td>\n",
       "      <td>40.24</td>\n",
       "      <td>90.14</td>\n",
       "      <td>0.99</td>\n",
       "    </tr>\n",
       "    <tr>\n",
       "      <th>01/01/2018 00:30</th>\n",
       "      <td>01</td>\n",
       "      <td>0030</td>\n",
       "      <td>1</td>\n",
       "      <td>0</td>\n",
       "      <td>30</td>\n",
       "      <td>10.0</td>\n",
       "      <td>43.01</td>\n",
       "      <td>80.49</td>\n",
       "      <td>1.01</td>\n",
       "    </tr>\n",
       "    <tr>\n",
       "      <th>01/01/2018 00:45</th>\n",
       "      <td>01</td>\n",
       "      <td>0045</td>\n",
       "      <td>1</td>\n",
       "      <td>0</td>\n",
       "      <td>45</td>\n",
       "      <td>9.0</td>\n",
       "      <td>46.00</td>\n",
       "      <td>84.88</td>\n",
       "      <td>0.90</td>\n",
       "    </tr>\n",
       "    <tr>\n",
       "      <th>01/01/2018 01:00</th>\n",
       "      <td>01</td>\n",
       "      <td>0100</td>\n",
       "      <td>1</td>\n",
       "      <td>1</td>\n",
       "      <td>0</td>\n",
       "      <td>9.0</td>\n",
       "      <td>46.00</td>\n",
       "      <td>85.83</td>\n",
       "      <td>0.87</td>\n",
       "    </tr>\n",
       "    <tr>\n",
       "      <th>...</th>\n",
       "      <td>...</td>\n",
       "      <td>...</td>\n",
       "      <td>...</td>\n",
       "      <td>...</td>\n",
       "      <td>...</td>\n",
       "      <td>...</td>\n",
       "      <td>...</td>\n",
       "      <td>...</td>\n",
       "      <td>...</td>\n",
       "    </tr>\n",
       "    <tr>\n",
       "      <th>12/31/2018 22:00</th>\n",
       "      <td>12</td>\n",
       "      <td>2200</td>\n",
       "      <td>12</td>\n",
       "      <td>22</td>\n",
       "      <td>0</td>\n",
       "      <td>6.0</td>\n",
       "      <td>93.30</td>\n",
       "      <td>124.28</td>\n",
       "      <td>0.00</td>\n",
       "    </tr>\n",
       "    <tr>\n",
       "      <th>12/31/2018 22:15</th>\n",
       "      <td>12</td>\n",
       "      <td>2215</td>\n",
       "      <td>12</td>\n",
       "      <td>22</td>\n",
       "      <td>15</td>\n",
       "      <td>5.0</td>\n",
       "      <td>100.00</td>\n",
       "      <td>127.61</td>\n",
       "      <td>0.00</td>\n",
       "    </tr>\n",
       "    <tr>\n",
       "      <th>12/31/2018 22:30</th>\n",
       "      <td>12</td>\n",
       "      <td>2230</td>\n",
       "      <td>12</td>\n",
       "      <td>22</td>\n",
       "      <td>30</td>\n",
       "      <td>5.0</td>\n",
       "      <td>100.00</td>\n",
       "      <td>130.48</td>\n",
       "      <td>0.00</td>\n",
       "    </tr>\n",
       "    <tr>\n",
       "      <th>12/31/2018 22:45</th>\n",
       "      <td>12</td>\n",
       "      <td>2245</td>\n",
       "      <td>12</td>\n",
       "      <td>22</td>\n",
       "      <td>45</td>\n",
       "      <td>6.0</td>\n",
       "      <td>93.30</td>\n",
       "      <td>133.01</td>\n",
       "      <td>0.00</td>\n",
       "    </tr>\n",
       "    <tr>\n",
       "      <th>12/31/2018 23:00</th>\n",
       "      <td>12</td>\n",
       "      <td>2300</td>\n",
       "      <td>12</td>\n",
       "      <td>23</td>\n",
       "      <td>0</td>\n",
       "      <td>6.0</td>\n",
       "      <td>93.30</td>\n",
       "      <td>130.59</td>\n",
       "      <td>0.00</td>\n",
       "    </tr>\n",
       "  </tbody>\n",
       "</table>\n",
       "<p>34623 rows × 9 columns</p>\n",
       "</div>"
      ],
      "text/plain": [
       "                 Month  Time  Month_num  Hour_num  Minute_num  Air Temp  \\\n",
       "01/01/2018 00:00    01  0000          1         0           0      11.0   \n",
       "01/01/2018 00:15    01  0015          1         0          15      11.0   \n",
       "01/01/2018 00:30    01  0030          1         0          30      10.0   \n",
       "01/01/2018 00:45    01  0045          1         0          45       9.0   \n",
       "01/01/2018 01:00    01  0100          1         1           0       9.0   \n",
       "...                ...   ...        ...       ...         ...       ...   \n",
       "12/31/2018 22:00    12  2200         12        22           0       6.0   \n",
       "12/31/2018 22:15    12  2215         12        22          15       5.0   \n",
       "12/31/2018 22:30    12  2230         12        22          30       5.0   \n",
       "12/31/2018 22:45    12  2245         12        22          45       6.0   \n",
       "12/31/2018 23:00    12  2300         12        23           0       6.0   \n",
       "\n",
       "                  Rel Humid      KW  CHWTON  \n",
       "01/01/2018 00:00      40.24  138.33    1.09  \n",
       "01/01/2018 00:15      40.24   90.14    0.99  \n",
       "01/01/2018 00:30      43.01   80.49    1.01  \n",
       "01/01/2018 00:45      46.00   84.88    0.90  \n",
       "01/01/2018 01:00      46.00   85.83    0.87  \n",
       "...                     ...     ...     ...  \n",
       "12/31/2018 22:00      93.30  124.28    0.00  \n",
       "12/31/2018 22:15     100.00  127.61    0.00  \n",
       "12/31/2018 22:30     100.00  130.48    0.00  \n",
       "12/31/2018 22:45      93.30  133.01    0.00  \n",
       "12/31/2018 23:00      93.30  130.59    0.00  \n",
       "\n",
       "[34623 rows x 9 columns]"
      ]
     },
     "execution_count": 20,
     "metadata": {},
     "output_type": "execute_result"
    }
   ],
   "source": [
    "# rearrange column\n",
    "weather_station = weather_station[['Month','Time','Month_num', 'Hour_num', 'Minute_num', 'Air Temp', 'Rel Humid', 'KW','CHWTON' ]]\n",
    "weather_station "
   ]
  },
  {
   "cell_type": "code",
   "execution_count": 21,
   "id": "63de531c-38c7-4f97-ac61-c1190911ea8f",
   "metadata": {},
   "outputs": [],
   "source": [
    "weather_station.to_csv('./Data/weather_st')"
   ]
  },
  {
   "cell_type": "markdown",
   "id": "a1385a4a-bbf8-4ef0-9463-4ed2e7ab3e0b",
   "metadata": {},
   "source": [
    "# 4. Create June 9th Data "
   ]
  },
  {
   "cell_type": "markdown",
   "id": "1fa30942-496f-432d-9ac9-0577ac767f0d",
   "metadata": {},
   "source": [
    "For both microclimate and weather_station"
   ]
  },
  {
   "cell_type": "markdown",
   "id": "15ea1607-36cf-49c4-9b6b-6d6c74bc4f96",
   "metadata": {},
   "source": [
    "## 4.1 For Microclimate"
   ]
  },
  {
   "cell_type": "markdown",
   "id": "a68eda78-49d3-43b2-a168-3cf574ea3d5c",
   "metadata": {},
   "source": [
    "We want: month, hour, minute, CHWTON, KW, date, air temp, and real humidity for microclimate June 9th.\n",
    "We do this by merging with building_energy to get KW and CHWTON on the dates that appear in microclimate data\n",
    "\n"
   ]
  },
  {
   "cell_type": "code",
   "execution_count": 22,
   "id": "91cd1aa1-970d-4135-b009-61c014b4e049",
   "metadata": {},
   "outputs": [
    {
     "data": {
      "text/html": [
       "<div>\n",
       "<style scoped>\n",
       "    .dataframe tbody tr th:only-of-type {\n",
       "        vertical-align: middle;\n",
       "    }\n",
       "\n",
       "    .dataframe tbody tr th {\n",
       "        vertical-align: top;\n",
       "    }\n",
       "\n",
       "    .dataframe thead th {\n",
       "        text-align: right;\n",
       "    }\n",
       "</style>\n",
       "<table border=\"1\" class=\"dataframe\">\n",
       "  <thead>\n",
       "    <tr style=\"text-align: right;\">\n",
       "      <th></th>\n",
       "      <th>Month</th>\n",
       "      <th>Time</th>\n",
       "      <th>Air Temp</th>\n",
       "      <th>Rel Humid</th>\n",
       "      <th>KW</th>\n",
       "      <th>CHWTON</th>\n",
       "    </tr>\n",
       "  </thead>\n",
       "  <tbody>\n",
       "    <tr>\n",
       "      <th>06/09/2018 05:00</th>\n",
       "      <td>06</td>\n",
       "      <td>0500</td>\n",
       "      <td>29.537667</td>\n",
       "      <td>12.699708</td>\n",
       "      <td>93.54</td>\n",
       "      <td>2.08</td>\n",
       "    </tr>\n",
       "    <tr>\n",
       "      <th>06/09/2018 06:00</th>\n",
       "      <td>06</td>\n",
       "      <td>0600</td>\n",
       "      <td>29.033387</td>\n",
       "      <td>16.378229</td>\n",
       "      <td>117.23</td>\n",
       "      <td>1.22</td>\n",
       "    </tr>\n",
       "    <tr>\n",
       "      <th>06/09/2018 07:00</th>\n",
       "      <td>06</td>\n",
       "      <td>0700</td>\n",
       "      <td>29.604562</td>\n",
       "      <td>17.250977</td>\n",
       "      <td>103.66</td>\n",
       "      <td>1.36</td>\n",
       "    </tr>\n",
       "    <tr>\n",
       "      <th>06/09/2018 08:00</th>\n",
       "      <td>06</td>\n",
       "      <td>0800</td>\n",
       "      <td>31.459578</td>\n",
       "      <td>16.705515</td>\n",
       "      <td>106.36</td>\n",
       "      <td>2.67</td>\n",
       "    </tr>\n",
       "    <tr>\n",
       "      <th>06/09/2018 09:00</th>\n",
       "      <td>06</td>\n",
       "      <td>0900</td>\n",
       "      <td>33.820584</td>\n",
       "      <td>14.477529</td>\n",
       "      <td>105.26</td>\n",
       "      <td>2.71</td>\n",
       "    </tr>\n",
       "    <tr>\n",
       "      <th>06/09/2018 10:00</th>\n",
       "      <td>06</td>\n",
       "      <td>1000</td>\n",
       "      <td>35.796708</td>\n",
       "      <td>10.969304</td>\n",
       "      <td>103.63</td>\n",
       "      <td>3.53</td>\n",
       "    </tr>\n",
       "    <tr>\n",
       "      <th>06/09/2018 11:00</th>\n",
       "      <td>06</td>\n",
       "      <td>1100</td>\n",
       "      <td>36.879628</td>\n",
       "      <td>8.902718</td>\n",
       "      <td>105.14</td>\n",
       "      <td>4.02</td>\n",
       "    </tr>\n",
       "    <tr>\n",
       "      <th>06/09/2018 12:00</th>\n",
       "      <td>06</td>\n",
       "      <td>1200</td>\n",
       "      <td>37.837624</td>\n",
       "      <td>7.785688</td>\n",
       "      <td>103.65</td>\n",
       "      <td>5.69</td>\n",
       "    </tr>\n",
       "    <tr>\n",
       "      <th>06/09/2018 13:00</th>\n",
       "      <td>06</td>\n",
       "      <td>1300</td>\n",
       "      <td>38.771101</td>\n",
       "      <td>6.989491</td>\n",
       "      <td>105.62</td>\n",
       "      <td>4.84</td>\n",
       "    </tr>\n",
       "    <tr>\n",
       "      <th>06/09/2018 14:00</th>\n",
       "      <td>06</td>\n",
       "      <td>1400</td>\n",
       "      <td>39.486798</td>\n",
       "      <td>6.362558</td>\n",
       "      <td>102.44</td>\n",
       "      <td>4.79</td>\n",
       "    </tr>\n",
       "    <tr>\n",
       "      <th>06/09/2018 15:00</th>\n",
       "      <td>06</td>\n",
       "      <td>1500</td>\n",
       "      <td>39.867346</td>\n",
       "      <td>6.021546</td>\n",
       "      <td>107.61</td>\n",
       "      <td>4.76</td>\n",
       "    </tr>\n",
       "    <tr>\n",
       "      <th>06/09/2018 16:00</th>\n",
       "      <td>06</td>\n",
       "      <td>1600</td>\n",
       "      <td>40.046582</td>\n",
       "      <td>5.873886</td>\n",
       "      <td>100.95</td>\n",
       "      <td>5.34</td>\n",
       "    </tr>\n",
       "    <tr>\n",
       "      <th>06/09/2018 17:00</th>\n",
       "      <td>06</td>\n",
       "      <td>1700</td>\n",
       "      <td>39.936800</td>\n",
       "      <td>5.854970</td>\n",
       "      <td>107.19</td>\n",
       "      <td>5.51</td>\n",
       "    </tr>\n",
       "    <tr>\n",
       "      <th>06/09/2018 18:00</th>\n",
       "      <td>06</td>\n",
       "      <td>1800</td>\n",
       "      <td>39.575997</td>\n",
       "      <td>5.906207</td>\n",
       "      <td>82.90</td>\n",
       "      <td>4.22</td>\n",
       "    </tr>\n",
       "    <tr>\n",
       "      <th>06/09/2018 19:00</th>\n",
       "      <td>06</td>\n",
       "      <td>1900</td>\n",
       "      <td>38.936188</td>\n",
       "      <td>6.200171</td>\n",
       "      <td>93.02</td>\n",
       "      <td>4.64</td>\n",
       "    </tr>\n",
       "    <tr>\n",
       "      <th>06/09/2018 20:00</th>\n",
       "      <td>06</td>\n",
       "      <td>2000</td>\n",
       "      <td>38.108705</td>\n",
       "      <td>6.634349</td>\n",
       "      <td>91.26</td>\n",
       "      <td>3.16</td>\n",
       "    </tr>\n",
       "  </tbody>\n",
       "</table>\n",
       "</div>"
      ],
      "text/plain": [
       "                 Month  Time   Air Temp  Rel Humid      KW  CHWTON\n",
       "06/09/2018 05:00    06  0500  29.537667  12.699708   93.54    2.08\n",
       "06/09/2018 06:00    06  0600  29.033387  16.378229  117.23    1.22\n",
       "06/09/2018 07:00    06  0700  29.604562  17.250977  103.66    1.36\n",
       "06/09/2018 08:00    06  0800  31.459578  16.705515  106.36    2.67\n",
       "06/09/2018 09:00    06  0900  33.820584  14.477529  105.26    2.71\n",
       "06/09/2018 10:00    06  1000  35.796708  10.969304  103.63    3.53\n",
       "06/09/2018 11:00    06  1100  36.879628   8.902718  105.14    4.02\n",
       "06/09/2018 12:00    06  1200  37.837624   7.785688  103.65    5.69\n",
       "06/09/2018 13:00    06  1300  38.771101   6.989491  105.62    4.84\n",
       "06/09/2018 14:00    06  1400  39.486798   6.362558  102.44    4.79\n",
       "06/09/2018 15:00    06  1500  39.867346   6.021546  107.61    4.76\n",
       "06/09/2018 16:00    06  1600  40.046582   5.873886  100.95    5.34\n",
       "06/09/2018 17:00    06  1700  39.936800   5.854970  107.19    5.51\n",
       "06/09/2018 18:00    06  1800  39.575997   5.906207   82.90    4.22\n",
       "06/09/2018 19:00    06  1900  38.936188   6.200171   93.02    4.64\n",
       "06/09/2018 20:00    06  2000  38.108705   6.634349   91.26    3.16"
      ]
     },
     "execution_count": 22,
     "metadata": {},
     "output_type": "execute_result"
    }
   ],
   "source": [
    "microclimate_June_9 = pd.merge(microclimate, building_energy, left_index = True, right_index = True)\n",
    "microclimate_June_9"
   ]
  },
  {
   "cell_type": "markdown",
   "id": "1f5d8266-241c-4bbb-b5c3-139a441eb80c",
   "metadata": {},
   "source": [
    "## 4.2 For WeatherStation"
   ]
  },
  {
   "cell_type": "code",
   "execution_count": 23,
   "id": "7a381c3b-9318-4246-9cd7-0c9226cc9e77",
   "metadata": {},
   "outputs": [],
   "source": [
    "# 1. Extract june 9th data \n",
    "weather_st_June_9 = weather_station.iloc[15150:15246]\n",
    "\n",
    "# 2. Filter time ( only minute 00)\n",
    "weather_st_June_9 = weather_st_June_9[ (weather_st_June_9['Hour_num'] >= 5) & (weather_st_June_9['Hour_num'] <= 20) & (weather_st_June_9['Minute_num'] == 0)]"
   ]
  },
  {
   "cell_type": "code",
   "execution_count": 24,
   "id": "9f24970f-9f95-4193-85d5-b3591eca6a49",
   "metadata": {},
   "outputs": [],
   "source": [
    "# 3. drop June 9th data on original data\n",
    "weather_station = weather_station.drop(weather_station.index[15150:15246])\n",
    "\n",
    "# 4. drop Hour_num and minute_num\n",
    "weather_station = weather_station.drop(labels = ['Hour_num', 'Month_num','Minute_num'], axis = 1)\n",
    "weather_st_June_9 = weather_st_June_9.drop(labels = ['Hour_num', 'Month_num','Minute_num'], axis = 1)"
   ]
  },
  {
   "cell_type": "code",
   "execution_count": 25,
   "id": "1aafec8d-2ef2-4e2d-8723-ce5a0832a1e9",
   "metadata": {},
   "outputs": [
    {
     "data": {
      "text/html": [
       "<div>\n",
       "<style scoped>\n",
       "    .dataframe tbody tr th:only-of-type {\n",
       "        vertical-align: middle;\n",
       "    }\n",
       "\n",
       "    .dataframe tbody tr th {\n",
       "        vertical-align: top;\n",
       "    }\n",
       "\n",
       "    .dataframe thead th {\n",
       "        text-align: right;\n",
       "    }\n",
       "</style>\n",
       "<table border=\"1\" class=\"dataframe\">\n",
       "  <thead>\n",
       "    <tr style=\"text-align: right;\">\n",
       "      <th></th>\n",
       "      <th>Month</th>\n",
       "      <th>Time</th>\n",
       "      <th>Air Temp</th>\n",
       "      <th>Rel Humid</th>\n",
       "      <th>KW</th>\n",
       "      <th>CHWTON</th>\n",
       "    </tr>\n",
       "  </thead>\n",
       "  <tbody>\n",
       "    <tr>\n",
       "      <th>06/09/2018 05:00</th>\n",
       "      <td>06</td>\n",
       "      <td>0500</td>\n",
       "      <td>27.0</td>\n",
       "      <td>14.84</td>\n",
       "      <td>93.54</td>\n",
       "      <td>2.08</td>\n",
       "    </tr>\n",
       "    <tr>\n",
       "      <th>06/09/2018 06:00</th>\n",
       "      <td>06</td>\n",
       "      <td>0600</td>\n",
       "      <td>26.0</td>\n",
       "      <td>15.74</td>\n",
       "      <td>117.23</td>\n",
       "      <td>1.22</td>\n",
       "    </tr>\n",
       "    <tr>\n",
       "      <th>06/09/2018 07:00</th>\n",
       "      <td>06</td>\n",
       "      <td>0700</td>\n",
       "      <td>28.0</td>\n",
       "      <td>17.42</td>\n",
       "      <td>103.66</td>\n",
       "      <td>1.36</td>\n",
       "    </tr>\n",
       "    <tr>\n",
       "      <th>06/09/2018 08:00</th>\n",
       "      <td>06</td>\n",
       "      <td>0800</td>\n",
       "      <td>31.0</td>\n",
       "      <td>11.78</td>\n",
       "      <td>106.36</td>\n",
       "      <td>2.67</td>\n",
       "    </tr>\n",
       "    <tr>\n",
       "      <th>06/09/2018 09:00</th>\n",
       "      <td>06</td>\n",
       "      <td>0900</td>\n",
       "      <td>33.0</td>\n",
       "      <td>9.06</td>\n",
       "      <td>105.26</td>\n",
       "      <td>2.71</td>\n",
       "    </tr>\n",
       "    <tr>\n",
       "      <th>06/09/2018 10:00</th>\n",
       "      <td>06</td>\n",
       "      <td>1000</td>\n",
       "      <td>35.0</td>\n",
       "      <td>7.52</td>\n",
       "      <td>103.63</td>\n",
       "      <td>3.53</td>\n",
       "    </tr>\n",
       "    <tr>\n",
       "      <th>06/09/2018 11:00</th>\n",
       "      <td>06</td>\n",
       "      <td>1100</td>\n",
       "      <td>37.0</td>\n",
       "      <td>6.74</td>\n",
       "      <td>105.14</td>\n",
       "      <td>4.02</td>\n",
       "    </tr>\n",
       "    <tr>\n",
       "      <th>06/09/2018 12:00</th>\n",
       "      <td>06</td>\n",
       "      <td>1200</td>\n",
       "      <td>39.0</td>\n",
       "      <td>5.19</td>\n",
       "      <td>103.65</td>\n",
       "      <td>5.69</td>\n",
       "    </tr>\n",
       "    <tr>\n",
       "      <th>06/09/2018 13:00</th>\n",
       "      <td>06</td>\n",
       "      <td>1300</td>\n",
       "      <td>41.0</td>\n",
       "      <td>4.32</td>\n",
       "      <td>105.62</td>\n",
       "      <td>4.84</td>\n",
       "    </tr>\n",
       "    <tr>\n",
       "      <th>06/09/2018 14:00</th>\n",
       "      <td>06</td>\n",
       "      <td>1400</td>\n",
       "      <td>41.0</td>\n",
       "      <td>3.99</td>\n",
       "      <td>102.44</td>\n",
       "      <td>4.79</td>\n",
       "    </tr>\n",
       "    <tr>\n",
       "      <th>06/09/2018 15:00</th>\n",
       "      <td>06</td>\n",
       "      <td>1500</td>\n",
       "      <td>42.0</td>\n",
       "      <td>4.10</td>\n",
       "      <td>107.61</td>\n",
       "      <td>4.76</td>\n",
       "    </tr>\n",
       "    <tr>\n",
       "      <th>06/09/2018 16:00</th>\n",
       "      <td>06</td>\n",
       "      <td>1600</td>\n",
       "      <td>42.0</td>\n",
       "      <td>3.79</td>\n",
       "      <td>100.95</td>\n",
       "      <td>5.34</td>\n",
       "    </tr>\n",
       "    <tr>\n",
       "      <th>06/09/2018 17:00</th>\n",
       "      <td>06</td>\n",
       "      <td>1700</td>\n",
       "      <td>42.0</td>\n",
       "      <td>3.79</td>\n",
       "      <td>107.19</td>\n",
       "      <td>5.51</td>\n",
       "    </tr>\n",
       "    <tr>\n",
       "      <th>06/09/2018 18:00</th>\n",
       "      <td>06</td>\n",
       "      <td>1800</td>\n",
       "      <td>42.0</td>\n",
       "      <td>4.10</td>\n",
       "      <td>82.90</td>\n",
       "      <td>4.22</td>\n",
       "    </tr>\n",
       "    <tr>\n",
       "      <th>06/09/2018 19:00</th>\n",
       "      <td>06</td>\n",
       "      <td>1900</td>\n",
       "      <td>40.0</td>\n",
       "      <td>5.74</td>\n",
       "      <td>93.02</td>\n",
       "      <td>4.64</td>\n",
       "    </tr>\n",
       "    <tr>\n",
       "      <th>06/09/2018 20:00</th>\n",
       "      <td>06</td>\n",
       "      <td>2000</td>\n",
       "      <td>38.0</td>\n",
       "      <td>6.38</td>\n",
       "      <td>91.26</td>\n",
       "      <td>3.16</td>\n",
       "    </tr>\n",
       "  </tbody>\n",
       "</table>\n",
       "</div>"
      ],
      "text/plain": [
       "                 Month  Time  Air Temp  Rel Humid      KW  CHWTON\n",
       "06/09/2018 05:00    06  0500      27.0      14.84   93.54    2.08\n",
       "06/09/2018 06:00    06  0600      26.0      15.74  117.23    1.22\n",
       "06/09/2018 07:00    06  0700      28.0      17.42  103.66    1.36\n",
       "06/09/2018 08:00    06  0800      31.0      11.78  106.36    2.67\n",
       "06/09/2018 09:00    06  0900      33.0       9.06  105.26    2.71\n",
       "06/09/2018 10:00    06  1000      35.0       7.52  103.63    3.53\n",
       "06/09/2018 11:00    06  1100      37.0       6.74  105.14    4.02\n",
       "06/09/2018 12:00    06  1200      39.0       5.19  103.65    5.69\n",
       "06/09/2018 13:00    06  1300      41.0       4.32  105.62    4.84\n",
       "06/09/2018 14:00    06  1400      41.0       3.99  102.44    4.79\n",
       "06/09/2018 15:00    06  1500      42.0       4.10  107.61    4.76\n",
       "06/09/2018 16:00    06  1600      42.0       3.79  100.95    5.34\n",
       "06/09/2018 17:00    06  1700      42.0       3.79  107.19    5.51\n",
       "06/09/2018 18:00    06  1800      42.0       4.10   82.90    4.22\n",
       "06/09/2018 19:00    06  1900      40.0       5.74   93.02    4.64\n",
       "06/09/2018 20:00    06  2000      38.0       6.38   91.26    3.16"
      ]
     },
     "execution_count": 25,
     "metadata": {},
     "output_type": "execute_result"
    }
   ],
   "source": [
    "weather_st_June_9"
   ]
  },
  {
   "cell_type": "code",
   "execution_count": 26,
   "id": "6ebdd13c-9126-45d7-b490-bcb46c288c58",
   "metadata": {},
   "outputs": [
    {
     "name": "stdout",
     "output_type": "stream",
     "text": [
      "Empty DataFrame\n",
      "Columns: [Month, Time, Air Temp, Rel Humid, KW, CHWTON]\n",
      "Index: []\n"
     ]
    }
   ],
   "source": [
    "# 5. convert index to date time object\n",
    "weather_station.index = pd.to_datetime(weather_station.index)\n",
    "\n",
    "# 6. ensure theres no more june 9th data on weather_station data\n",
    "print(weather_station[(weather_station.index.month == 6) & (weather_station.index.day == 9)])\n",
    "\n",
    "# convert back\n",
    "# weather_station.index = pd.to_datetime(weather_station.index).dt.strftime('%m/%d/%Y %H:%M')"
   ]
  },
  {
   "cell_type": "code",
   "execution_count": 27,
   "id": "34b6c070-e599-4532-9b21-27e1fb36d874",
   "metadata": {},
   "outputs": [
    {
     "name": "stdout",
     "output_type": "stream",
     "text": [
      "(34527, 6)\n",
      "['Month', 'Time', 'Air Temp', 'Rel Humid', 'KW', 'CHWTON']\n"
     ]
    }
   ],
   "source": [
    "print(weather_station.shape)\n",
    "print(list(weather_station.columns))\n"
   ]
  },
  {
   "cell_type": "markdown",
   "id": "09aca76d-465d-498f-847c-843c4c6679de",
   "metadata": {},
   "source": [
    "# 5. EDA"
   ]
  },
  {
   "cell_type": "markdown",
   "id": "e6d77199-f83f-40b3-a10b-690e4e53dc3a",
   "metadata": {},
   "source": [
    "## 5.1 Correlation Matrix"
   ]
  },
  {
   "cell_type": "code",
   "execution_count": 28,
   "id": "8f833d54-9677-4c71-aba1-da46203054e2",
   "metadata": {},
   "outputs": [
    {
     "data": {
      "image/png": "[encoded data removed]",
      "text/plain": [
       "<Figure size 576x576 with 2 Axes>"
      ]
     },
     "metadata": {
      "needs_background": "light"
     },
     "output_type": "display_data"
    }
   ],
   "source": [
    "corrMatrix = weather_station.corr()\n",
    "plt.figure(figsize=(8,8))\n",
    "sns.heatmap(corrMatrix)\n",
    "plt.show()"
   ]
  },
  {
   "cell_type": "markdown",
   "id": "5927e0df-112e-4fba-89d7-d019b9235067",
   "metadata": {},
   "source": [
    "## 5.2 Multicolinearity"
   ]
  },
  {
   "cell_type": "markdown",
   "id": "5700cca6-109e-44b8-a079-87cc4faf8711",
   "metadata": {},
   "source": [
    "A simple method to detect multicollinearity in a model is by using something called the variance inflation factor or the VIF for each predicting variable. An acceptable VIF is if it’s less than the max of 10"
   ]
  },
  {
   "cell_type": "code",
   "execution_count": 29,
   "id": "5a826edd-daf9-496e-b92f-2bcadbd83703",
   "metadata": {},
   "outputs": [],
   "source": [
    "## Get X\n",
    "Y = weather_station['CHWTON']\n",
    "\n",
    "## Get Y\n",
    "X = weather_station.drop(labels = ['CHWTON'], axis = 1)"
   ]
  },
  {
   "cell_type": "code",
   "execution_count": 30,
   "id": "2d35dd41-8f36-4f7b-9241-b8b94d0698b8",
   "metadata": {},
   "outputs": [],
   "source": [
    "X_int = X.drop(labels = ['Month', 'Time'], axis = 1)"
   ]
  },
  {
   "cell_type": "code",
   "execution_count": 31,
   "id": "b4d4a90d-7bbf-4fd0-8434-462c6e5de7ed",
   "metadata": {},
   "outputs": [],
   "source": [
    "vif_data = pd.DataFrame()\n",
    "vif_data[\"feature\"] = X_int.columns\n",
    "vif_data[\"VIF\"] = [variance_inflation_factor(X_int.values, i) for i in range(len(X_int.columns))]"
   ]
  },
  {
   "cell_type": "code",
   "execution_count": 32,
   "id": "bcbf32da-34a1-46e1-b28d-8d85e1a771d9",
   "metadata": {},
   "outputs": [
    {
     "data": {
      "text/html": [
       "<div>\n",
       "<style scoped>\n",
       "    .dataframe tbody tr th:only-of-type {\n",
       "        vertical-align: middle;\n",
       "    }\n",
       "\n",
       "    .dataframe tbody tr th {\n",
       "        vertical-align: top;\n",
       "    }\n",
       "\n",
       "    .dataframe thead th {\n",
       "        text-align: right;\n",
       "    }\n",
       "</style>\n",
       "<table border=\"1\" class=\"dataframe\">\n",
       "  <thead>\n",
       "    <tr style=\"text-align: right;\">\n",
       "      <th></th>\n",
       "      <th>feature</th>\n",
       "      <th>VIF</th>\n",
       "    </tr>\n",
       "  </thead>\n",
       "  <tbody>\n",
       "    <tr>\n",
       "      <th>0</th>\n",
       "      <td>Air Temp</td>\n",
       "      <td>3.925219</td>\n",
       "    </tr>\n",
       "    <tr>\n",
       "      <th>1</th>\n",
       "      <td>Rel Humid</td>\n",
       "      <td>3.273488</td>\n",
       "    </tr>\n",
       "    <tr>\n",
       "      <th>2</th>\n",
       "      <td>KW</td>\n",
       "      <td>6.620458</td>\n",
       "    </tr>\n",
       "  </tbody>\n",
       "</table>\n",
       "</div>"
      ],
      "text/plain": [
       "     feature       VIF\n",
       "0   Air Temp  3.925219\n",
       "1  Rel Humid  3.273488\n",
       "2         KW  6.620458"
      ]
     },
     "execution_count": 32,
     "metadata": {},
     "output_type": "execute_result"
    }
   ],
   "source": [
    "vif_data"
   ]
  },
  {
   "cell_type": "markdown",
   "id": "d13f84ee-452d-4f45-ba11-ce06eaed8a43",
   "metadata": {},
   "source": [
    "# 6. Modelling"
   ]
  },
  {
   "cell_type": "markdown",
   "id": "2a11a3af-50da-4091-8db9-254c79ccaef0",
   "metadata": {},
   "source": [
    "Scoring:\n",
    "One one hand, RMSE tells us the typical distance between the predicted value made by the regression model and the actual value.\n",
    "\n",
    "On the other hand, R2 tells us how well the predictor variables can explain the variation in the response variable."
   ]
  },
  {
   "cell_type": "markdown",
   "id": "4c8407d6-5079-4f49-8067-04ae14d26590",
   "metadata": {},
   "source": [
    "## 6.1 train & predict"
   ]
  },
  {
   "cell_type": "code",
   "execution_count": 33,
   "id": "410d3209",
   "metadata": {},
   "outputs": [
    {
     "name": "stdout",
     "output_type": "stream",
     "text": [
      "                     Actual CHWTON  Predicted CHWTON\n",
      "2018-01-01 00:15:00           0.99            2.5217\n",
      "2018-01-01 00:30:00           1.01            1.1789\n",
      "2018-01-01 00:45:00           0.90            0.8819\n",
      "2018-01-01 02:00:00           1.06            1.0375\n",
      "2018-01-01 03:15:00           0.92            0.7448\n",
      "...                            ...               ...\n",
      "2018-12-31 17:30:00           0.00            0.0000\n",
      "2018-12-31 18:45:00           0.00            0.0000\n",
      "2018-12-31 22:15:00           0.00            0.0051\n",
      "2018-12-31 22:45:00           0.00            0.0000\n",
      "2018-12-31 23:00:00           0.00            0.0006\n",
      "\n",
      "[6906 rows x 2 columns]\n"
     ]
    }
   ],
   "source": [
    "############################ RANDOM FORESTS #################################\n",
    "\n",
    "# 1. Get train test \n",
    "from sklearn.model_selection import train_test_split\n",
    "\n",
    "X_train, X_test, Y_train, Y_test = train_test_split(X, Y, test_size=0.2, random_state=20)\n",
    "\n",
    "# 2. Using RandomForestRegressor to make predictions\n",
    "from sklearn.ensemble import RandomForestRegressor\n",
    "# - string\n",
    "model = RandomForestRegressor(n_estimators=100, random_state=42)\n",
    "model.fit(X_train, Y_train)\n",
    "\n",
    "# 3. Get prediction\n",
    "Y_pred = model.predict(X_test)\n",
    "ModelPred = pd.DataFrame({'Actual CHWTON':Y_test, 'Predicted CHWTON':Y_pred})\n",
    "ModelPred = ModelPred.sort_index()\n",
    "print(ModelPred)"
   ]
  },
  {
   "cell_type": "markdown",
   "id": "05ccc585-ef91-4ce1-ab3d-e461c94d4d03",
   "metadata": {},
   "source": [
    "## 6.2 Score"
   ]
  },
  {
   "cell_type": "code",
   "execution_count": 34,
   "id": "4ffd7913-16c3-4e98-92e2-d6b101f553d0",
   "metadata": {},
   "outputs": [
    {
     "name": "stdout",
     "output_type": "stream",
     "text": [
      "\u001b[1mFeature Importances:\u001b[0m\n",
      "Air Temp     0.539102\n",
      "Month        0.251560\n",
      "Time         0.123118\n",
      "KW           0.046696\n",
      "Rel Humid    0.039524\n",
      "dtype: float64 \n",
      "\n"
     ]
    }
   ],
   "source": [
    "# 1. RMSE and R2\n",
    "R2_all = model.score(X_test, Y_test)\n",
    "RMSE_all = np.sqrt(metrics.mean_squared_error(Y_test, Y_pred))\n",
    "\n",
    "# 2.Feature importance\n",
    "feature_list = list(X_train.columns)\n",
    "feature_imp = pd.Series(model.feature_importances_, index=feature_list).sort_values(ascending=False)\n",
    "print(\"\\033[1m\" + \"Feature Importances:\" + \"\\033[0m\")\n",
    "print(feature_imp, \"\\n\")\n"
   ]
  },
  {
   "cell_type": "code",
   "execution_count": 35,
   "id": "15b969e0-4175-481d-9f0e-c842b3ba43b0",
   "metadata": {},
   "outputs": [
    {
     "data": {
      "text/html": [
       "<div>\n",
       "<style scoped>\n",
       "    .dataframe tbody tr th:only-of-type {\n",
       "        vertical-align: middle;\n",
       "    }\n",
       "\n",
       "    .dataframe tbody tr th {\n",
       "        vertical-align: top;\n",
       "    }\n",
       "\n",
       "    .dataframe thead th {\n",
       "        text-align: right;\n",
       "    }\n",
       "</style>\n",
       "<table border=\"1\" class=\"dataframe\">\n",
       "  <thead>\n",
       "    <tr style=\"text-align: right;\">\n",
       "      <th></th>\n",
       "      <th>score_type</th>\n",
       "      <th>RF_allyear</th>\n",
       "    </tr>\n",
       "  </thead>\n",
       "  <tbody>\n",
       "    <tr>\n",
       "      <th>0</th>\n",
       "      <td>R2</td>\n",
       "      <td>0.937572</td>\n",
       "    </tr>\n",
       "    <tr>\n",
       "      <th>1</th>\n",
       "      <td>RMSE</td>\n",
       "      <td>0.896675</td>\n",
       "    </tr>\n",
       "  </tbody>\n",
       "</table>\n",
       "</div>"
      ],
      "text/plain": [
       "  score_type  RF_allyear\n",
       "0         R2    0.937572\n",
       "1       RMSE    0.896675"
      ]
     },
     "execution_count": 35,
     "metadata": {},
     "output_type": "execute_result"
    }
   ],
   "source": [
    "# 3. create score df\n",
    "scores_df = pd.DataFrame({\"score_type\": [\"R2\", \"RMSE\"], \"RF_allyear\": [R2_all, RMSE_all]})\n",
    "scores_df"
   ]
  },
  {
   "cell_type": "markdown",
   "id": "472a5004-f1ac-454e-bd18-1929ced89695",
   "metadata": {},
   "source": [
    "# 7. June 9th Prediction"
   ]
  },
  {
   "cell_type": "markdown",
   "id": "699dd895-2462-41d5-8fb6-a6db970832eb",
   "metadata": {},
   "source": [
    "## 7.1 Weather Station prediction"
   ]
  },
  {
   "cell_type": "code",
   "execution_count": 36,
   "id": "c5305a94-58a5-4fd2-8bd9-048018c796f9",
   "metadata": {},
   "outputs": [
    {
     "data": {
      "text/html": [
       "<div>\n",
       "<style scoped>\n",
       "    .dataframe tbody tr th:only-of-type {\n",
       "        vertical-align: middle;\n",
       "    }\n",
       "\n",
       "    .dataframe tbody tr th {\n",
       "        vertical-align: top;\n",
       "    }\n",
       "\n",
       "    .dataframe thead th {\n",
       "        text-align: right;\n",
       "    }\n",
       "</style>\n",
       "<table border=\"1\" class=\"dataframe\">\n",
       "  <thead>\n",
       "    <tr style=\"text-align: right;\">\n",
       "      <th></th>\n",
       "      <th>score_type</th>\n",
       "      <th>RF_allyear</th>\n",
       "      <th>RF_J9_AZ</th>\n",
       "    </tr>\n",
       "  </thead>\n",
       "  <tbody>\n",
       "    <tr>\n",
       "      <th>0</th>\n",
       "      <td>R2</td>\n",
       "      <td>0.937572</td>\n",
       "      <td>0.876395</td>\n",
       "    </tr>\n",
       "    <tr>\n",
       "      <th>1</th>\n",
       "      <td>RMSE</td>\n",
       "      <td>0.896675</td>\n",
       "      <td>0.491681</td>\n",
       "    </tr>\n",
       "  </tbody>\n",
       "</table>\n",
       "</div>"
      ],
      "text/plain": [
       "  score_type  RF_allyear  RF_J9_AZ\n",
       "0         R2    0.937572  0.876395\n",
       "1       RMSE    0.896675  0.491681"
      ]
     },
     "execution_count": 36,
     "metadata": {},
     "output_type": "execute_result"
    }
   ],
   "source": [
    "# 1. Get X and Y (all test)\n",
    "X_J9 = weather_st_June_9.drop(labels = ['CHWTON'], axis = 1)\n",
    "\n",
    "# 2. Get Y\n",
    "Y_actual_J9 = weather_st_June_9['CHWTON']\n",
    "\n",
    "# 3. Get Y_pred\n",
    "Y_pred_J9 = model.predict(X_J9)\n",
    "\n",
    "# 4. Score\n",
    "R2_J9 = model.score(X_J9, Y_actual_J9)\n",
    "RMSE_J9 = np.sqrt(metrics.mean_squared_error(Y_actual_J9, Y_pred_J9))\n",
    "\n",
    "# 5. Append score to df\n",
    "score_J9_AZ = [R2_J9, RMSE_J9]\n",
    "scores_df['RF_J9_AZ'] = score_J9_AZ\n",
    "\n",
    "scores_df"
   ]
  },
  {
   "cell_type": "markdown",
   "id": "02d42650-244b-40aa-bb95-a499399c7500",
   "metadata": {},
   "source": [
    "## 7.2 Microclimate prediction"
   ]
  },
  {
   "cell_type": "code",
   "execution_count": 38,
   "id": "9dc42539-afa1-4c95-aaba-b2e40fb3117d",
   "metadata": {},
   "outputs": [
    {
     "data": {
      "text/html": [
       "<div>\n",
       "<style scoped>\n",
       "    .dataframe tbody tr th:only-of-type {\n",
       "        vertical-align: middle;\n",
       "    }\n",
       "\n",
       "    .dataframe tbody tr th {\n",
       "        vertical-align: top;\n",
       "    }\n",
       "\n",
       "    .dataframe thead th {\n",
       "        text-align: right;\n",
       "    }\n",
       "</style>\n",
       "<table border=\"1\" class=\"dataframe\">\n",
       "  <thead>\n",
       "    <tr style=\"text-align: right;\">\n",
       "      <th></th>\n",
       "      <th>score_type</th>\n",
       "      <th>RF_allyear</th>\n",
       "      <th>RF_J9_AZ</th>\n",
       "      <th>RF_J9_micro</th>\n",
       "    </tr>\n",
       "  </thead>\n",
       "  <tbody>\n",
       "    <tr>\n",
       "      <th>0</th>\n",
       "      <td>R2</td>\n",
       "      <td>0.937572</td>\n",
       "      <td>0.876395</td>\n",
       "      <td>0.854341</td>\n",
       "    </tr>\n",
       "    <tr>\n",
       "      <th>1</th>\n",
       "      <td>RMSE</td>\n",
       "      <td>0.896675</td>\n",
       "      <td>0.491681</td>\n",
       "      <td>0.533744</td>\n",
       "    </tr>\n",
       "  </tbody>\n",
       "</table>\n",
       "</div>"
      ],
      "text/plain": [
       "  score_type  RF_allyear  RF_J9_AZ  RF_J9_micro\n",
       "0         R2    0.937572  0.876395     0.854341\n",
       "1       RMSE    0.896675  0.491681     0.533744"
      ]
     },
     "execution_count": 38,
     "metadata": {},
     "output_type": "execute_result"
    }
   ],
   "source": [
    "# 1. Get X\n",
    "X_J9_micro = microclimate_June_9.drop(labels = ['CHWTON'], axis = 1)\n",
    "\n",
    "# 2. Get Y_pred\n",
    "Y_pred_J9_micro = model.predict(X_J9_micro)\n",
    "\n",
    "# 3. Score\n",
    "R2_J9_micro = model.score(X_J9_micro, Y_actual_J9)\n",
    "RMSE_J9_micro = np.sqrt(metrics.mean_squared_error(Y_actual_J9, Y_pred_J9_micro))\n",
    "\n",
    "# 4. append to score df\n",
    "score_J9_micro = [R2_J9_micro, RMSE_J9_micro]\n",
    "scores_df['RF_J9_micro'] = score_J9_micro\n",
    "scores_df"
   ]
  },
  {
   "cell_type": "code",
   "execution_count": 39,
   "id": "8ea93c54-1395-4c23-9504-9526754905ee",
   "metadata": {},
   "outputs": [
    {
     "data": {
      "text/html": [
       "<div>\n",
       "<style scoped>\n",
       "    .dataframe tbody tr th:only-of-type {\n",
       "        vertical-align: middle;\n",
       "    }\n",
       "\n",
       "    .dataframe tbody tr th {\n",
       "        vertical-align: top;\n",
       "    }\n",
       "\n",
       "    .dataframe thead th {\n",
       "        text-align: right;\n",
       "    }\n",
       "</style>\n",
       "<table border=\"1\" class=\"dataframe\">\n",
       "  <thead>\n",
       "    <tr style=\"text-align: right;\">\n",
       "      <th></th>\n",
       "      <th>Actual</th>\n",
       "      <th>Baseline Predictions (AZW)</th>\n",
       "      <th>Microclimate Predictions</th>\n",
       "    </tr>\n",
       "  </thead>\n",
       "  <tbody>\n",
       "    <tr>\n",
       "      <th>06/09/2018 05:00</th>\n",
       "      <td>2.08</td>\n",
       "      <td>1.5679</td>\n",
       "      <td>2.0772</td>\n",
       "    </tr>\n",
       "    <tr>\n",
       "      <th>06/09/2018 06:00</th>\n",
       "      <td>1.22</td>\n",
       "      <td>1.2942</td>\n",
       "      <td>1.6508</td>\n",
       "    </tr>\n",
       "    <tr>\n",
       "      <th>06/09/2018 07:00</th>\n",
       "      <td>1.36</td>\n",
       "      <td>1.9569</td>\n",
       "      <td>2.2588</td>\n",
       "    </tr>\n",
       "    <tr>\n",
       "      <th>06/09/2018 08:00</th>\n",
       "      <td>2.67</td>\n",
       "      <td>2.6329</td>\n",
       "      <td>2.7653</td>\n",
       "    </tr>\n",
       "    <tr>\n",
       "      <th>06/09/2018 09:00</th>\n",
       "      <td>2.71</td>\n",
       "      <td>2.5130</td>\n",
       "      <td>3.3947</td>\n",
       "    </tr>\n",
       "    <tr>\n",
       "      <th>06/09/2018 10:00</th>\n",
       "      <td>3.53</td>\n",
       "      <td>3.4021</td>\n",
       "      <td>3.8163</td>\n",
       "    </tr>\n",
       "    <tr>\n",
       "      <th>06/09/2018 11:00</th>\n",
       "      <td>4.02</td>\n",
       "      <td>4.1991</td>\n",
       "      <td>4.1377</td>\n",
       "    </tr>\n",
       "    <tr>\n",
       "      <th>06/09/2018 12:00</th>\n",
       "      <td>5.69</td>\n",
       "      <td>4.2866</td>\n",
       "      <td>4.4807</td>\n",
       "    </tr>\n",
       "    <tr>\n",
       "      <th>06/09/2018 13:00</th>\n",
       "      <td>4.84</td>\n",
       "      <td>4.9148</td>\n",
       "      <td>4.6785</td>\n",
       "    </tr>\n",
       "    <tr>\n",
       "      <th>06/09/2018 14:00</th>\n",
       "      <td>4.79</td>\n",
       "      <td>5.0062</td>\n",
       "      <td>4.8188</td>\n",
       "    </tr>\n",
       "    <tr>\n",
       "      <th>06/09/2018 15:00</th>\n",
       "      <td>4.76</td>\n",
       "      <td>5.4988</td>\n",
       "      <td>5.0802</td>\n",
       "    </tr>\n",
       "    <tr>\n",
       "      <th>06/09/2018 16:00</th>\n",
       "      <td>5.34</td>\n",
       "      <td>5.3752</td>\n",
       "      <td>4.6928</td>\n",
       "    </tr>\n",
       "    <tr>\n",
       "      <th>06/09/2018 17:00</th>\n",
       "      <td>5.51</td>\n",
       "      <td>5.4119</td>\n",
       "      <td>4.8279</td>\n",
       "    </tr>\n",
       "    <tr>\n",
       "      <th>06/09/2018 18:00</th>\n",
       "      <td>4.22</td>\n",
       "      <td>4.7283</td>\n",
       "      <td>4.6224</td>\n",
       "    </tr>\n",
       "    <tr>\n",
       "      <th>06/09/2018 19:00</th>\n",
       "      <td>4.64</td>\n",
       "      <td>4.8021</td>\n",
       "      <td>4.8395</td>\n",
       "    </tr>\n",
       "    <tr>\n",
       "      <th>06/09/2018 20:00</th>\n",
       "      <td>3.16</td>\n",
       "      <td>3.7005</td>\n",
       "      <td>3.7197</td>\n",
       "    </tr>\n",
       "  </tbody>\n",
       "</table>\n",
       "</div>"
      ],
      "text/plain": [
       "                  Actual  Baseline Predictions (AZW)  Microclimate Predictions\n",
       "06/09/2018 05:00    2.08                      1.5679                    2.0772\n",
       "06/09/2018 06:00    1.22                      1.2942                    1.6508\n",
       "06/09/2018 07:00    1.36                      1.9569                    2.2588\n",
       "06/09/2018 08:00    2.67                      2.6329                    2.7653\n",
       "06/09/2018 09:00    2.71                      2.5130                    3.3947\n",
       "06/09/2018 10:00    3.53                      3.4021                    3.8163\n",
       "06/09/2018 11:00    4.02                      4.1991                    4.1377\n",
       "06/09/2018 12:00    5.69                      4.2866                    4.4807\n",
       "06/09/2018 13:00    4.84                      4.9148                    4.6785\n",
       "06/09/2018 14:00    4.79                      5.0062                    4.8188\n",
       "06/09/2018 15:00    4.76                      5.4988                    5.0802\n",
       "06/09/2018 16:00    5.34                      5.3752                    4.6928\n",
       "06/09/2018 17:00    5.51                      5.4119                    4.8279\n",
       "06/09/2018 18:00    4.22                      4.7283                    4.6224\n",
       "06/09/2018 19:00    4.64                      4.8021                    4.8395\n",
       "06/09/2018 20:00    3.16                      3.7005                    3.7197"
      ]
     },
     "execution_count": 39,
     "metadata": {},
     "output_type": "execute_result"
    }
   ],
   "source": [
    "Pred = pd.DataFrame({'Actual':Y_actual_J9,'Baseline Predictions (AZW)': Y_pred_J9, 'Microclimate Predictions': Y_pred_J9_micro})\n",
    "Pred"
   ]
  },
  {
   "cell_type": "markdown",
   "id": "50086d1d-8cc9-4ab1-a013-f6a2897ff0bf",
   "metadata": {},
   "source": [
    "# 8. Hypothesis Test"
   ]
  },
  {
   "cell_type": "code",
   "execution_count": 40,
   "id": "b8de764d-ae41-41bf-a5a3-651cffecaa33",
   "metadata": {},
   "outputs": [
    {
     "data": {
      "text/plain": [
       "([<matplotlib.axis.XTick at 0x7fc9d6bcefa0>,\n",
       "  <matplotlib.axis.XTick at 0x7fc9d6bcefd0>],\n",
       " [Text(1, 0, 'Baseline_pred'), Text(2, 0, 'Microclimate_pred')])"
      ]
     },
     "execution_count": 40,
     "metadata": {},
     "output_type": "execute_result"
    },
    {
     "data": {
      "image/png": "[encoded data removed]",
      "text/plain": [
       "<Figure size 432x288 with 1 Axes>"
      ]
     },
     "metadata": {
      "needs_background": "light"
     },
     "output_type": "display_data"
    }
   ],
   "source": [
    "plt.boxplot([Y_pred_J9,Y_pred_J9_micro])\n",
    "plt.xticks([1,2],['Baseline_pred', 'Microclimate_pred'])"
   ]
  },
  {
   "cell_type": "code",
   "execution_count": 41,
   "id": "e342275b-12c4-4079-a745-f483bbb0db60",
   "metadata": {},
   "outputs": [
    {
     "name": "stdout",
     "output_type": "stream",
     "text": [
      "3.8306562500000005\n",
      "3.866331250000001\n",
      "mu: -0.035675000000000345\n"
     ]
    }
   ],
   "source": [
    "print(Y_pred_J9.mean())\n",
    "print(Y_pred_J9_micro.mean())\n",
    "print('mu:', Y_pred_J9.mean()- Y_pred_J9_micro.mean())"
   ]
  },
  {
   "cell_type": "markdown",
   "id": "59304754-e8f3-42bd-af27-1f509f8cf93d",
   "metadata": {},
   "source": [
    "## Two-Sample T Test\n",
    "\n",
    "\n",
    "mean differences in CHWTON = $ \\mu_{baseline} - \\mu_{microclimate} = 3.83065-3.866 = -0.03567 $ \n",
    "\n",
    "$ H_0: $ Mean of CHWTON in baseline and microclimate are the same\n",
    "\n",
    "$ H_1: $ Mean of CHWTON in baseline and microclimate are NOT the same"
   ]
  },
  {
   "cell_type": "markdown",
   "id": "cc16c2e6-e6cd-4a43-bcf4-8e7c843c47cd",
   "metadata": {},
   "source": [
    "## 8.1 calculate standard deviation"
   ]
  },
  {
   "cell_type": "code",
   "execution_count": 42,
   "id": "a8632054-a03d-4c1d-a822-37cea5e7dda7",
   "metadata": {},
   "outputs": [
    {
     "name": "stdout",
     "output_type": "stream",
     "text": [
      "2.050340138625001 1.2513453529583354\n"
     ]
    }
   ],
   "source": [
    "# 1.variance\n",
    "var_baseline = Y_pred_J9.var(ddof = 1)\n",
    "var_micro = Y_pred_J9_micro.var(ddof = 1)\n",
    "print(var_baseline, var_micro)"
   ]
  },
  {
   "cell_type": "code",
   "execution_count": 43,
   "id": "1a5a5c35-f6e9-4079-9ddc-f7c545fda3c9",
   "metadata": {},
   "outputs": [
    {
     "data": {
      "text/plain": [
       "1.2848512543449022"
      ]
     },
     "execution_count": 43,
     "metadata": {},
     "output_type": "execute_result"
    }
   ],
   "source": [
    "# 2. standard deviation\n",
    "s = np.sqrt((var_baseline + var_micro)/2)\n",
    "s"
   ]
  },
  {
   "cell_type": "markdown",
   "id": "b63e0198-7135-481e-aeed-eaf39ea9e6b5",
   "metadata": {},
   "source": [
    "## 2. calculate T-statistic"
   ]
  },
  {
   "cell_type": "code",
   "execution_count": 44,
   "id": "3f5af72c-d801-4bd2-84c1-ced1e04d87f8",
   "metadata": {},
   "outputs": [
    {
     "name": "stdout",
     "output_type": "stream",
     "text": [
      "t statistics:  -0.07853371145811627\n",
      "p value:  0.9379554031790899\n"
     ]
    }
   ],
   "source": [
    "import scipy.stats as stats\n",
    "t_stat, p_val = stats.ttest_ind(Y_pred_J9, Y_pred_J9_micro, equal_var=False)\n",
    "print('t statistics: ', t_stat)\n",
    "print('p value: ', p_val)"
   ]
  },
  {
   "cell_type": "markdown",
   "id": "12d48f93-ec9b-4cc3-b977-f63f8991e9b7",
   "metadata": {},
   "source": [
    "P value is not less that 0.05. We cannot reject the null hypothesis. There is no significant difference between the transaction amount of fraud and non fraudulent transaction"
   ]
  },
  {
   "cell_type": "markdown",
   "id": "92c06839-9ef6-4378-befa-8e6caf8ad667",
   "metadata": {},
   "source": [
    "# 9. Plot"
   ]
  },
  {
   "cell_type": "code",
   "execution_count": 45,
   "id": "4b33a9e9",
   "metadata": {},
   "outputs": [
    {
     "data": {
      "image/png": "[encoded data removed]",
      "text/plain": [
       "<Figure size 432x288 with 1 Axes>"
      ]
     },
     "metadata": {
      "needs_background": "light"
     },
     "output_type": "display_data"
    }
   ],
   "source": [
    "####### Plotting Baseline Model for all 2018 15-min Data #######\n",
    "\n",
    "## This is a big graph, will be slow to run but gives visual of prediction accuracy\n",
    "# %matplotlib qt\n",
    "plt.xlabel('Baseline 15-Min Model')\n",
    "plt.ylabel('CHWTON')\n",
    "plt.plot(ModelPred['Actual CHWTON'], label = 'Actual CHWT')\n",
    "plt.plot(ModelPred['Predicted CHWTON'], label = 'Predicted CHWT')\n",
    "plt.legend()\n",
    "plt.show()"
   ]
  },
  {
   "cell_type": "code",
   "execution_count": 46,
   "id": "d5613547",
   "metadata": {},
   "outputs": [
    {
     "data": {
      "image/png": "[encoded data removed]",
      "text/plain": [
       "<Figure size 432x288 with 1 Axes>"
      ]
     },
     "metadata": {
      "needs_background": "light"
     },
     "output_type": "display_data"
    }
   ],
   "source": [
    "#  Plotting ENVI-met vs AZW vs Actual Data for June 9 from 5a - 8p\n",
    "\n",
    "positions = [0,1,2,3,4,5,6,7,8,9,10,11,12,13,14,15]\n",
    "labels = ['5a', '6a', '7a', '8a', '9a', '10a', '11a', '12p', '1p', '2p', '3p', '4p', '5p', '6p', '7p', '8p']\n",
    "\n",
    "# plot EnviMet vs AZ_Weather results\n",
    "plt.xlabel('Time 5a - 8p')\n",
    "plt.ylabel('CHWTON')\n",
    "plt.xticks(positions, labels)\n",
    "plt.plot(Pred['Microclimate Predictions'], label = 'ENVIMET Weather')\n",
    "plt.plot(Pred['Baseline Predictions (AZW)'], label = 'Baseline Weather (AZW)')\n",
    "plt.plot(Pred['Actual'], label = 'Actual Data')\n",
    "plt.title('Interdisciplinary AB')\n",
    "plt.legend()\n",
    "\n",
    "## show graphs\n",
    "plt.show()"
   ]
  },
  {
   "cell_type": "markdown",
   "id": "36b1dfe7-6f7c-4ee8-b7b0-66e01f5bc295",
   "metadata": {},
   "source": [
    "# 10. Save DF"
   ]
  },
  {
   "cell_type": "markdown",
   "id": "32a5c79c-05fe-4112-8dfa-4d03b3a26212",
   "metadata": {},
   "source": [
    "## 10.1 Weather Station string\n"
   ]
  },
  {
   "cell_type": "code",
   "execution_count": 47,
   "id": "c63503ef-9ddc-440b-a7e4-c88e240cdd8a",
   "metadata": {},
   "outputs": [],
   "source": [
    "weather_station.to_csv('./Data/weather_st2')"
   ]
  },
  {
   "cell_type": "markdown",
   "id": "8b2dbabd-8bf0-46ce-976a-87b75770fab3",
   "metadata": {},
   "source": [
    "## 10.2 June 9th Weather St\n"
   ]
  },
  {
   "cell_type": "code",
   "execution_count": 48,
   "id": "57703357-ac1e-486b-9ef2-eba65fb5f07b",
   "metadata": {},
   "outputs": [],
   "source": [
    "weather_st_June_9.to_csv('./Data/weather_j9')"
   ]
  },
  {
   "cell_type": "code",
   "execution_count": 49,
   "id": "43bf5320-fa48-44b2-9a04-b3caa891ed64",
   "metadata": {},
   "outputs": [],
   "source": [
    "scores_df.to_csv('./Data/score')"
   ]
  },
  {
   "cell_type": "code",
   "execution_count": null,
   "id": "e51ae9c6-60fe-47e6-84a3-22dd477cf556",
   "metadata": {},
   "outputs": [],
   "source": []
  }
 ],
 "metadata": {
  "kernelspec": {
   "display_name": "myConda",
   "language": "python",
   "name": "myconda"
  },
  "language_info": {
   "codemirror_mode": {
    "name": "ipython",
    "version": 3
   },
   "file_extension": ".py",
   "mimetype": "text/x-python",
   "name": "python",
   "nbconvert_exporter": "python",
   "pygments_lexer": "ipython3",
   "version": "3.8.8"
  },
  "toc-autonumbering": false,
  "toc-showcode": false,
  "toc-showmarkdowntxt": false
 },
 "nbformat": 4,
 "nbformat_minor": 5
}
