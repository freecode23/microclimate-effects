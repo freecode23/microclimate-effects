{
 "cells": [
  {
   "cell_type": "markdown",
   "id": "d9f6a95c-cd5a-4267-a601-ad667c78e46e",
   "metadata": {},
   "source": [
    "Build a baseline model using the weather station data (this approach used all days in 2018 since the data was available).\n",
    "\n",
    "\n",
    "Then use the model to make predictions for the ENVI-met(micro-climate) data for that specific day and compare it to model predictions using weather station data also for the same day."
   ]
  },
  {
   "cell_type": "markdown",
   "id": "f94e1207-9300-4a88-8a5c-018f487b78bf",
   "metadata": {},
   "source": [
    "# 1. Import"
   ]
  },
  {
   "cell_type": "code",
   "execution_count": 1,
   "id": "5def07e5",
   "metadata": {},
   "outputs": [],
   "source": [
    "import pandas as pd\n",
    "import seaborn as sns\n",
    "import numpy as np\n",
    "import pathlib\n",
    "import pickle\n",
    "\n",
    "import pathlib\n",
    "import matplotlib.pyplot as plt\n",
    "from matplotlib.pyplot import cm\n",
    "from datetime import datetime\n",
    "from sklearn import metrics\n",
    "\n",
    "#  for multicolinearity\n",
    "from statsmodels.stats.outliers_influence import variance_inflation_factor \n",
    "\n",
    "import PyQt5"
   ]
  },
  {
   "cell_type": "markdown",
   "id": "b5c8de9e-804f-4b18-9045-f1c3f386126f",
   "metadata": {},
   "source": [
    "# 2. Import Files"
   ]
  },
  {
   "cell_type": "markdown",
   "id": "1ee1cc7b-a97c-4f1a-bc03-a3a5f508eb33",
   "metadata": {},
   "source": [
    "## 2.1 Save csv files as pickle"
   ]
  },
  {
   "cell_type": "markdown",
   "id": "0116d399-5c7a-47f3-8c0f-c0dc69e3e18d",
   "metadata": {},
   "source": [
    "Only run this once to save our csv data as pickle files"
   ]
  },
  {
   "cell_type": "code",
   "execution_count": null,
   "id": "e954bfc0-fd9e-48cf-8bee-b070ad6b8119",
   "metadata": {},
   "outputs": [],
   "source": [
    "# --> NO NEED TO RUN SAVED AS PICKLE FILES <--\n",
    "## WEATHER FILES ##\n",
    "\n",
    "# # AZ PHX Sky Harbor Data #\n",
    "# AZW_15 = pd.read_csv(\"./Data/Weather Data/KPHX-15.csv\")\n",
    "\n",
    "# # ENVIMET DATA #\n",
    "# BPS = []\n",
    "# Fname = []\n",
    "# for path in pathlib.Path(\"./Data/BPS\").iterdir():\n",
    "#     if path.is_file():\n",
    "#         current_file = pd.read_csv(path)\n",
    "#         BPS.append(current_file)\n",
    "#         Fname.append(path.name.replace('.csv', ''))\n",
    "\n",
    "# # CAMPUS METABOLISM DATA #\n",
    "# metabol14 = []\n",
    "# for path in pathlib.Path('/Users/alialyakoob/Desktop/ASU/RA/Data/ASU 2018').iterdir():\n",
    "#     if path.is_file():\n",
    "#         current_file = pd.read_csv(path)\n",
    "#         metabol14.append(current_file)\n",
    "\n",
    "# ## Drop last row of EnviMet Data\n",
    "# for i in range(len(BPS)):\n",
    "#     BPS[i] = BPS[i].drop(16)\n",
    "\n",
    "# ## Save files as pickle\n",
    "# AZW_15.to_pickle(\"AZW_15.pkl\")\n",
    "\n",
    "# with open('BPS.pkl', 'wb') as f:\n",
    "#     pickle.dump(BPS, f)\n",
    "\n",
    "# with open('Fname.pkl', 'wb') as f:\n",
    "#     pickle.dump(Fname, f)\n",
    "\n",
    "# with open('metabol14.pkl', 'wb') as f:\n",
    "#     pickle.dump(metabol14, f)"
   ]
  },
  {
   "cell_type": "markdown",
   "id": "b95a4864-e1d6-49c8-9a69-72d440091748",
   "metadata": {},
   "source": [
    "## 2.2 Reload Pickle"
   ]
  },
  {
   "cell_type": "code",
   "execution_count": 2,
   "id": "8a8004c9-b0fc-4451-bd33-c3c54739a70e",
   "metadata": {},
   "outputs": [],
   "source": [
    "# 1. Load AZ Weather Data (15-min)\n",
    "weather_station = pd.read_pickle('AZW_15.pkl')\n",
    "\n",
    "# We will convert these to df depending on the building we choose\n",
    "# 2. Load 14 envimet bldgData (14 filtered buildings)\n",
    "with open('BPS.pkl', 'rb') as f:\n",
    "    envi14 = pickle.load(f)\n",
    "\n",
    "# 3. Load names of BPS files\n",
    "with open('Fname.pkl', 'rb') as f:\n",
    "    Fname = pickle.load(f)\n",
    "\n",
    "# 4. Load 14 campus metabolism building energy data\n",
    "with open('metabol14.pkl', 'rb') as f:\n",
    "    metabol14 = pickle.load(f)"
   ]
  },
  {
   "cell_type": "markdown",
   "id": "e1ff27af-83bb-4831-8ee1-d76d132e7f13",
   "metadata": {},
   "source": [
    "## 2.3 Choose building name to import"
   ]
  },
  {
   "cell_type": "code",
   "execution_count": 5,
   "id": "e51c48fa-6e04-463c-b72e-3365e3b6773b",
   "metadata": {},
   "outputs": [
    {
     "name": "stdout",
     "output_type": "stream",
     "text": [
      "Health Services\n",
      "Interdisciplinary AB\n",
      "Bio Design Institute A\n",
      "Lifescience A_B_D\n",
      "Bio Design Institute B\n",
      "COD North\n",
      "Goldwater\n",
      "University Club\n",
      "Engineering Research Ctr\n",
      "Best Hall\n",
      "ISTB 1\n",
      "ISTB 2\n",
      "ISTB 4\n",
      "ISTB 5\n",
      "Enter building name: Bio Design Institute A\n"
     ]
    }
   ],
   "source": [
    "##Print Building Names ##\n",
    "for i in range(len(Fname)):\n",
    "    print(Fname[i])\n",
    "    \n",
    "bldname = input('Enter building name: ')\n",
    "\n",
    "for i in range(len(envi14)):\n",
    "    if bldname == Fname[i]:\n",
    "        # save \n",
    "        envi_bldg = envi14[i]\n",
    "\n",
    "if bldname not in Fname:\n",
    "    print(\"\\x1b[31m\\\"Please enter a valid name from the list above\\\"\\x1b[0m\")\n"
   ]
  },
  {
   "cell_type": "markdown",
   "id": "7e3ffdc5-57f3-43e4-a5e5-97fe862a79a9",
   "metadata": {},
   "source": [
    "## 2.4 Create Data Frame"
   ]
  },
  {
   "cell_type": "code",
   "execution_count": 6,
   "id": "3f13e172-2ae4-455b-aebe-f8eb064195b5",
   "metadata": {},
   "outputs": [],
   "source": [
    "class building:\n",
    "    \n",
    "    def __init__(self, bldgname):\n",
    "        self.bldgname = bldgname\n",
    "    \n",
    "    def campusmetabolism(self):\n",
    "        for i in range(len(metabol14)):\n",
    "            if metabol14[i]['bldgname'][0] == bldname:\n",
    "                cmp = metabol14[i]\n",
    "        return cmp\n",
    "    \n",
    "    def envimet(self):\n",
    "        env = envi_bldg[['Date', 'Time', 'AirTempInFrontOfAllFacades_MEAN', 'RelativeAirHumidityInFrontOfAllFacades_MEAN',\n",
    "                     'WindSpeedInFrontOfAllFacades_MEAN']]\n",
    "        \n",
    "        env = env.rename(columns = {'AirTempInFrontOfAllFacades_MEAN':'Air Temp',\n",
    "                                    'RelativeAirHumidityInFrontOfAllFacades_MEAN':'Rel Humid',\n",
    "                                    'WindSpeedInFrontOfAllFacades_MEAN':'Wind Speed'})\n",
    "        return env\n",
    "\n",
    "\n",
    "Bldg = building(bldname)\n",
    "metabol = Bldg.campusmetabolism() # campus metabolism\n",
    "envimet = Bldg.envimet()          # envimet\n"
   ]
  },
  {
   "cell_type": "markdown",
   "id": "b284403b-4b4b-4cf8-919d-6b0b4a90be8b",
   "metadata": {},
   "source": [
    "# 3. Preprocessing"
   ]
  },
  {
   "cell_type": "markdown",
   "id": "6c5060df-c598-4830-9411-f2a61f1cd6e7",
   "metadata": {},
   "source": [
    "## 3.1 Formatting Date and Time"
   ]
  },
  {
   "cell_type": "markdown",
   "id": "df6e6d10-528d-4c9e-9af7-ad9a0871ce64",
   "metadata": {},
   "source": [
    "### a) Envimet dates"
   ]
  },
  {
   "cell_type": "code",
   "execution_count": 7,
   "id": "7e1ad52e-095f-45bf-b17b-4b1e68bcd887",
   "metadata": {},
   "outputs": [
    {
     "name": "stderr",
     "output_type": "stream",
     "text": [
      "<ipython-input-7-493917b9433a>:2: FutureWarning: The default value of regex will change from True to False in a future version. In addition, single character regular expressions will*not* be treated as literal strings when regex=True.\n",
      "  envimet['Time'] = envimet['Time'].str.replace('.',':')\n"
     ]
    }
   ],
   "source": [
    "# 1. format time\n",
    "envimet['Time'] = envimet['Time'].str.replace('.',':')\n",
    "envimet['Time'] = envimet['Time'].str.replace('01','00')\n",
    "\n",
    "# convert to 24 hour format\n",
    "envimet['Time'] = pd.to_datetime(envimet['Time']).dt.strftime('%H:%M')\n"
   ]
  },
  {
   "cell_type": "code",
   "execution_count": 8,
   "id": "2fc8b72a-2f62-4cf5-b692-04395233f567",
   "metadata": {},
   "outputs": [],
   "source": [
    "# 2. format date (still in string)\n",
    "envimet['Date'] = pd.to_datetime(envimet['Date']).dt.strftime('%m/%d/%Y')"
   ]
  },
  {
   "cell_type": "code",
   "execution_count": 9,
   "id": "80a550fc-7e26-4089-83ab-534eff71a4f8",
   "metadata": {},
   "outputs": [],
   "source": [
    "# 3. combine date time column as string and set as index\n",
    "envimet['Date_Time'] = envimet['Date'] + ' ' + envimet['Time']"
   ]
  },
  {
   "cell_type": "code",
   "execution_count": 10,
   "id": "c72e513f",
   "metadata": {},
   "outputs": [
    {
     "data": {
      "text/html": [
       "<div>\n",
       "<style scoped>\n",
       "    .dataframe tbody tr th:only-of-type {\n",
       "        vertical-align: middle;\n",
       "    }\n",
       "\n",
       "    .dataframe tbody tr th {\n",
       "        vertical-align: top;\n",
       "    }\n",
       "\n",
       "    .dataframe thead th {\n",
       "        text-align: right;\n",
       "    }\n",
       "</style>\n",
       "<table border=\"1\" class=\"dataframe\">\n",
       "  <thead>\n",
       "    <tr style=\"text-align: right;\">\n",
       "      <th></th>\n",
       "      <th>Date</th>\n",
       "      <th>Time</th>\n",
       "      <th>Air Temp</th>\n",
       "      <th>Rel Humid</th>\n",
       "      <th>Wind Speed</th>\n",
       "      <th>Date_Time</th>\n",
       "    </tr>\n",
       "  </thead>\n",
       "  <tbody>\n",
       "    <tr>\n",
       "      <th>0</th>\n",
       "      <td>06/09/2018</td>\n",
       "      <td>05:00</td>\n",
       "      <td>29.891090</td>\n",
       "      <td>12.408586</td>\n",
       "      <td>1.106698</td>\n",
       "      <td>06/09/2018 05:00</td>\n",
       "    </tr>\n",
       "    <tr>\n",
       "      <th>1</th>\n",
       "      <td>06/09/2018</td>\n",
       "      <td>06:00</td>\n",
       "      <td>27.234663</td>\n",
       "      <td>22.425289</td>\n",
       "      <td>1.049126</td>\n",
       "      <td>06/09/2018 06:00</td>\n",
       "    </tr>\n",
       "    <tr>\n",
       "      <th>2</th>\n",
       "      <td>06/09/2018</td>\n",
       "      <td>07:00</td>\n",
       "      <td>28.315304</td>\n",
       "      <td>23.375925</td>\n",
       "      <td>1.025436</td>\n",
       "      <td>06/09/2018 07:00</td>\n",
       "    </tr>\n",
       "    <tr>\n",
       "      <th>3</th>\n",
       "      <td>06/09/2018</td>\n",
       "      <td>08:00</td>\n",
       "      <td>30.634113</td>\n",
       "      <td>21.992292</td>\n",
       "      <td>0.990142</td>\n",
       "      <td>06/09/2018 08:00</td>\n",
       "    </tr>\n",
       "    <tr>\n",
       "      <th>4</th>\n",
       "      <td>06/09/2018</td>\n",
       "      <td>09:00</td>\n",
       "      <td>33.305874</td>\n",
       "      <td>18.676571</td>\n",
       "      <td>0.946674</td>\n",
       "      <td>06/09/2018 09:00</td>\n",
       "    </tr>\n",
       "    <tr>\n",
       "      <th>5</th>\n",
       "      <td>06/09/2018</td>\n",
       "      <td>10:00</td>\n",
       "      <td>35.191076</td>\n",
       "      <td>11.981883</td>\n",
       "      <td>0.905992</td>\n",
       "      <td>06/09/2018 10:00</td>\n",
       "    </tr>\n",
       "    <tr>\n",
       "      <th>6</th>\n",
       "      <td>06/09/2018</td>\n",
       "      <td>11:00</td>\n",
       "      <td>36.401060</td>\n",
       "      <td>9.146856</td>\n",
       "      <td>0.905894</td>\n",
       "      <td>06/09/2018 11:00</td>\n",
       "    </tr>\n",
       "    <tr>\n",
       "      <th>7</th>\n",
       "      <td>06/09/2018</td>\n",
       "      <td>12:00</td>\n",
       "      <td>37.697441</td>\n",
       "      <td>7.663672</td>\n",
       "      <td>0.906996</td>\n",
       "      <td>06/09/2018 12:00</td>\n",
       "    </tr>\n",
       "    <tr>\n",
       "      <th>8</th>\n",
       "      <td>06/09/2018</td>\n",
       "      <td>13:00</td>\n",
       "      <td>38.728530</td>\n",
       "      <td>6.747533</td>\n",
       "      <td>0.906934</td>\n",
       "      <td>06/09/2018 13:00</td>\n",
       "    </tr>\n",
       "    <tr>\n",
       "      <th>9</th>\n",
       "      <td>06/09/2018</td>\n",
       "      <td>14:00</td>\n",
       "      <td>39.432333</td>\n",
       "      <td>6.192660</td>\n",
       "      <td>0.904908</td>\n",
       "      <td>06/09/2018 14:00</td>\n",
       "    </tr>\n",
       "    <tr>\n",
       "      <th>10</th>\n",
       "      <td>06/09/2018</td>\n",
       "      <td>15:00</td>\n",
       "      <td>39.835950</td>\n",
       "      <td>5.909342</td>\n",
       "      <td>0.899557</td>\n",
       "      <td>06/09/2018 15:00</td>\n",
       "    </tr>\n",
       "    <tr>\n",
       "      <th>11</th>\n",
       "      <td>06/09/2018</td>\n",
       "      <td>16:00</td>\n",
       "      <td>40.018057</td>\n",
       "      <td>5.790905</td>\n",
       "      <td>0.895522</td>\n",
       "      <td>06/09/2018 16:00</td>\n",
       "    </tr>\n",
       "    <tr>\n",
       "      <th>12</th>\n",
       "      <td>06/09/2018</td>\n",
       "      <td>17:00</td>\n",
       "      <td>39.892676</td>\n",
       "      <td>5.785697</td>\n",
       "      <td>0.891769</td>\n",
       "      <td>06/09/2018 17:00</td>\n",
       "    </tr>\n",
       "    <tr>\n",
       "      <th>13</th>\n",
       "      <td>06/09/2018</td>\n",
       "      <td>18:00</td>\n",
       "      <td>39.545112</td>\n",
       "      <td>5.843319</td>\n",
       "      <td>0.886387</td>\n",
       "      <td>06/09/2018 18:00</td>\n",
       "    </tr>\n",
       "    <tr>\n",
       "      <th>14</th>\n",
       "      <td>06/09/2018</td>\n",
       "      <td>19:00</td>\n",
       "      <td>38.869458</td>\n",
       "      <td>6.204450</td>\n",
       "      <td>0.879203</td>\n",
       "      <td>06/09/2018 19:00</td>\n",
       "    </tr>\n",
       "    <tr>\n",
       "      <th>15</th>\n",
       "      <td>06/09/2018</td>\n",
       "      <td>20:00</td>\n",
       "      <td>38.028798</td>\n",
       "      <td>6.646360</td>\n",
       "      <td>0.869012</td>\n",
       "      <td>06/09/2018 20:00</td>\n",
       "    </tr>\n",
       "  </tbody>\n",
       "</table>\n",
       "</div>"
      ],
      "text/plain": [
       "          Date   Time   Air Temp  Rel Humid  Wind Speed         Date_Time\n",
       "0   06/09/2018  05:00  29.891090  12.408586    1.106698  06/09/2018 05:00\n",
       "1   06/09/2018  06:00  27.234663  22.425289    1.049126  06/09/2018 06:00\n",
       "2   06/09/2018  07:00  28.315304  23.375925    1.025436  06/09/2018 07:00\n",
       "3   06/09/2018  08:00  30.634113  21.992292    0.990142  06/09/2018 08:00\n",
       "4   06/09/2018  09:00  33.305874  18.676571    0.946674  06/09/2018 09:00\n",
       "5   06/09/2018  10:00  35.191076  11.981883    0.905992  06/09/2018 10:00\n",
       "6   06/09/2018  11:00  36.401060   9.146856    0.905894  06/09/2018 11:00\n",
       "7   06/09/2018  12:00  37.697441   7.663672    0.906996  06/09/2018 12:00\n",
       "8   06/09/2018  13:00  38.728530   6.747533    0.906934  06/09/2018 13:00\n",
       "9   06/09/2018  14:00  39.432333   6.192660    0.904908  06/09/2018 14:00\n",
       "10  06/09/2018  15:00  39.835950   5.909342    0.899557  06/09/2018 15:00\n",
       "11  06/09/2018  16:00  40.018057   5.790905    0.895522  06/09/2018 16:00\n",
       "12  06/09/2018  17:00  39.892676   5.785697    0.891769  06/09/2018 17:00\n",
       "13  06/09/2018  18:00  39.545112   5.843319    0.886387  06/09/2018 18:00\n",
       "14  06/09/2018  19:00  38.869458   6.204450    0.879203  06/09/2018 19:00\n",
       "15  06/09/2018  20:00  38.028798   6.646360    0.869012  06/09/2018 20:00"
      ]
     },
     "execution_count": 10,
     "metadata": {},
     "output_type": "execute_result"
    }
   ],
   "source": [
    "envimet"
   ]
  },
  {
   "cell_type": "code",
   "execution_count": 11,
   "id": "f1361645-341a-4d68-8ee1-7f7d22f1a8ec",
   "metadata": {},
   "outputs": [],
   "source": [
    "# 4. Get string type for month and time\n",
    "envimet['Month'] = envimet['Date_Time'].str[0:2]\n",
    "envimet['Time'] = envimet['Time'].str.replace(':','')"
   ]
  },
  {
   "cell_type": "code",
   "execution_count": 12,
   "id": "0cc5f714-f56b-417b-92ec-f4a915675eac",
   "metadata": {},
   "outputs": [],
   "source": [
    "# # 5. Get numeric for month hour and minute\n",
    "# microclimate.Date_Time = pd.to_datetime(microclimate.Date_Time)\n",
    "# microclimate['Month_num'] = microclimate.Date_Time.dt.month\n",
    "# microclimate['Hour_num'] = microclimate.Date_Time.dt.hour\n",
    "# microclimate['Minute_num'] = microclimate.Date_Time.dt.minute\n",
    "# microclimate.Date_Time = pd.to_datetime(microclimate.Date_Time).dt.strftime('%m/%d/%Y %H:%M')\n",
    "\n",
    "# # 6. Rearrange columns\n",
    "# print(list(microclimate.columns))\n",
    "# microclimate = microclimate[['Date_Time','Month','Time','Month_num', 'Hour_num', 'Minute_num', 'Air Temp', 'Rel Humid' ]]"
   ]
  },
  {
   "cell_type": "code",
   "execution_count": 13,
   "id": "7bd84c68-2034-413e-89ee-74b165b36ded",
   "metadata": {
    "scrolled": true
   },
   "outputs": [
    {
     "name": "stdout",
     "output_type": "stream",
     "text": [
      "['Date', 'Time', 'Air Temp', 'Rel Humid', 'Wind Speed', 'Date_Time', 'Month']\n"
     ]
    }
   ],
   "source": [
    "# 5. Rearrange columns\n",
    "print(list(envimet.columns))\n",
    "envimet = envimet[['Date_Time','Month','Time', 'Air Temp', 'Rel Humid' ]]"
   ]
  },
  {
   "cell_type": "code",
   "execution_count": 14,
   "id": "b0ba5689-580c-4424-b0cf-b5badcba11e1",
   "metadata": {},
   "outputs": [],
   "source": [
    "envimet = envimet.set_index('Date_Time')"
   ]
  },
  {
   "cell_type": "markdown",
   "id": "33881579-f925-4b92-8822-7209d85d92a8",
   "metadata": {},
   "source": [
    "### b) Weather Station dates"
   ]
  },
  {
   "cell_type": "code",
   "execution_count": 15,
   "id": "47a46d7b-0964-4a40-b050-bb1573b272d7",
   "metadata": {},
   "outputs": [],
   "source": [
    "# 1. Get string type for month and time\n",
    "weather_station['Month'] = weather_station['Date_Time'].str[0:2]\n",
    "weather_station['Time'] = weather_station['Date_Time'].str[11:]\n",
    "weather_station['Time'] = weather_station['Time'].str.replace(':','')"
   ]
  },
  {
   "cell_type": "code",
   "execution_count": 16,
   "id": "f6b72e5f-1a27-4ff2-937a-20d2c128079a",
   "metadata": {},
   "outputs": [],
   "source": [
    "# 2. Get numeric for month hour and minute\n",
    "weather_station.Date_Time = pd.to_datetime(weather_station.Date_Time)\n",
    "weather_station['Month_num'] = weather_station.Date_Time.dt.month\n",
    "weather_station['Hour_num'] = weather_station.Date_Time.dt.hour\n",
    "weather_station['Minute_num'] = weather_station.Date_Time.dt.minute\n",
    "weather_station.Date_Time = pd.to_datetime(weather_station.Date_Time).dt.strftime('%m/%d/%Y %H:%M')"
   ]
  },
  {
   "cell_type": "code",
   "execution_count": 17,
   "id": "a5a4d943-2284-42f5-a576-494055b0c8a6",
   "metadata": {},
   "outputs": [],
   "source": [
    "# 3. set date time as index\n",
    "weather_station = weather_station.set_index('Date_Time') \n"
   ]
  },
  {
   "cell_type": "markdown",
   "id": "af59d7e7-c179-4b0e-b21e-f9251baabb7f",
   "metadata": {},
   "source": [
    "### c) Building energy dates"
   ]
  },
  {
   "cell_type": "code",
   "execution_count": 18,
   "id": "c1844c88-eaa2-4559-8aa7-3ea657c21f3b",
   "metadata": {},
   "outputs": [],
   "source": [
    "metabol.tstamp = pd.to_datetime(metabol.tstamp).dt.strftime('%m/%d/%Y %H:%M')"
   ]
  },
  {
   "cell_type": "code",
   "execution_count": 19,
   "id": "2a362451-3421-4339-81b8-200fc636c23f",
   "metadata": {},
   "outputs": [],
   "source": [
    "# remove unwanted columns\n",
    "metabol = metabol[['tstamp','KW', 'CHWTON']]"
   ]
  },
  {
   "cell_type": "code",
   "execution_count": 20,
   "id": "5a41169d-7bcf-4f88-a0bc-c8329759cc6b",
   "metadata": {},
   "outputs": [],
   "source": [
    "# set date time as index\n",
    "metabol = metabol.set_index('tstamp')\n"
   ]
  },
  {
   "cell_type": "markdown",
   "id": "57fa15a6-0d08-4376-8178-1fe4861253a9",
   "metadata": {},
   "source": [
    "## 3.2 Append Energy Consumption to Weather Station data"
   ]
  },
  {
   "cell_type": "code",
   "execution_count": 21,
   "id": "adbcf70a-15e1-4927-8e60-3ad37c51e564",
   "metadata": {},
   "outputs": [],
   "source": [
    "weather_station =  pd.concat([metabol, weather_station], axis = 1, join = \"inner\")\n"
   ]
  },
  {
   "cell_type": "code",
   "execution_count": 22,
   "id": "36a6a858-0a22-4682-98ac-584ad92519af",
   "metadata": {},
   "outputs": [
    {
     "data": {
      "text/html": [
       "<div>\n",
       "<style scoped>\n",
       "    .dataframe tbody tr th:only-of-type {\n",
       "        vertical-align: middle;\n",
       "    }\n",
       "\n",
       "    .dataframe tbody tr th {\n",
       "        vertical-align: top;\n",
       "    }\n",
       "\n",
       "    .dataframe thead th {\n",
       "        text-align: right;\n",
       "    }\n",
       "</style>\n",
       "<table border=\"1\" class=\"dataframe\">\n",
       "  <thead>\n",
       "    <tr style=\"text-align: right;\">\n",
       "      <th></th>\n",
       "      <th>Month</th>\n",
       "      <th>Time</th>\n",
       "      <th>Month_num</th>\n",
       "      <th>Hour_num</th>\n",
       "      <th>Minute_num</th>\n",
       "      <th>Air Temp</th>\n",
       "      <th>Rel Humid</th>\n",
       "      <th>KW</th>\n",
       "      <th>CHWTON</th>\n",
       "    </tr>\n",
       "  </thead>\n",
       "  <tbody>\n",
       "    <tr>\n",
       "      <th>01/01/2018 00:00</th>\n",
       "      <td>01</td>\n",
       "      <td>0000</td>\n",
       "      <td>1</td>\n",
       "      <td>0</td>\n",
       "      <td>0</td>\n",
       "      <td>11.0</td>\n",
       "      <td>40.24</td>\n",
       "      <td>422.61</td>\n",
       "      <td>74.80</td>\n",
       "    </tr>\n",
       "    <tr>\n",
       "      <th>01/01/2018 00:15</th>\n",
       "      <td>01</td>\n",
       "      <td>0015</td>\n",
       "      <td>1</td>\n",
       "      <td>0</td>\n",
       "      <td>15</td>\n",
       "      <td>11.0</td>\n",
       "      <td>40.24</td>\n",
       "      <td>428.08</td>\n",
       "      <td>74.80</td>\n",
       "    </tr>\n",
       "    <tr>\n",
       "      <th>01/01/2018 00:30</th>\n",
       "      <td>01</td>\n",
       "      <td>0030</td>\n",
       "      <td>1</td>\n",
       "      <td>0</td>\n",
       "      <td>30</td>\n",
       "      <td>10.0</td>\n",
       "      <td>43.01</td>\n",
       "      <td>431.49</td>\n",
       "      <td>74.80</td>\n",
       "    </tr>\n",
       "    <tr>\n",
       "      <th>01/01/2018 00:45</th>\n",
       "      <td>01</td>\n",
       "      <td>0045</td>\n",
       "      <td>1</td>\n",
       "      <td>0</td>\n",
       "      <td>45</td>\n",
       "      <td>9.0</td>\n",
       "      <td>46.00</td>\n",
       "      <td>428.74</td>\n",
       "      <td>74.80</td>\n",
       "    </tr>\n",
       "    <tr>\n",
       "      <th>01/01/2018 01:00</th>\n",
       "      <td>01</td>\n",
       "      <td>0100</td>\n",
       "      <td>1</td>\n",
       "      <td>1</td>\n",
       "      <td>0</td>\n",
       "      <td>9.0</td>\n",
       "      <td>46.00</td>\n",
       "      <td>430.62</td>\n",
       "      <td>74.80</td>\n",
       "    </tr>\n",
       "    <tr>\n",
       "      <th>...</th>\n",
       "      <td>...</td>\n",
       "      <td>...</td>\n",
       "      <td>...</td>\n",
       "      <td>...</td>\n",
       "      <td>...</td>\n",
       "      <td>...</td>\n",
       "      <td>...</td>\n",
       "      <td>...</td>\n",
       "      <td>...</td>\n",
       "    </tr>\n",
       "    <tr>\n",
       "      <th>12/31/2018 22:00</th>\n",
       "      <td>12</td>\n",
       "      <td>2200</td>\n",
       "      <td>12</td>\n",
       "      <td>22</td>\n",
       "      <td>0</td>\n",
       "      <td>6.0</td>\n",
       "      <td>93.30</td>\n",
       "      <td>509.14</td>\n",
       "      <td>9.19</td>\n",
       "    </tr>\n",
       "    <tr>\n",
       "      <th>12/31/2018 22:15</th>\n",
       "      <td>12</td>\n",
       "      <td>2215</td>\n",
       "      <td>12</td>\n",
       "      <td>22</td>\n",
       "      <td>15</td>\n",
       "      <td>5.0</td>\n",
       "      <td>100.00</td>\n",
       "      <td>520.72</td>\n",
       "      <td>21.53</td>\n",
       "    </tr>\n",
       "    <tr>\n",
       "      <th>12/31/2018 22:30</th>\n",
       "      <td>12</td>\n",
       "      <td>2230</td>\n",
       "      <td>12</td>\n",
       "      <td>22</td>\n",
       "      <td>30</td>\n",
       "      <td>5.0</td>\n",
       "      <td>100.00</td>\n",
       "      <td>466.79</td>\n",
       "      <td>12.12</td>\n",
       "    </tr>\n",
       "    <tr>\n",
       "      <th>12/31/2018 22:45</th>\n",
       "      <td>12</td>\n",
       "      <td>2245</td>\n",
       "      <td>12</td>\n",
       "      <td>22</td>\n",
       "      <td>45</td>\n",
       "      <td>6.0</td>\n",
       "      <td>93.30</td>\n",
       "      <td>458.56</td>\n",
       "      <td>11.66</td>\n",
       "    </tr>\n",
       "    <tr>\n",
       "      <th>12/31/2018 23:00</th>\n",
       "      <td>12</td>\n",
       "      <td>2300</td>\n",
       "      <td>12</td>\n",
       "      <td>23</td>\n",
       "      <td>0</td>\n",
       "      <td>6.0</td>\n",
       "      <td>93.30</td>\n",
       "      <td>472.23</td>\n",
       "      <td>18.20</td>\n",
       "    </tr>\n",
       "  </tbody>\n",
       "</table>\n",
       "<p>34624 rows × 9 columns</p>\n",
       "</div>"
      ],
      "text/plain": [
       "                 Month  Time  Month_num  Hour_num  Minute_num  Air Temp  \\\n",
       "01/01/2018 00:00    01  0000          1         0           0      11.0   \n",
       "01/01/2018 00:15    01  0015          1         0          15      11.0   \n",
       "01/01/2018 00:30    01  0030          1         0          30      10.0   \n",
       "01/01/2018 00:45    01  0045          1         0          45       9.0   \n",
       "01/01/2018 01:00    01  0100          1         1           0       9.0   \n",
       "...                ...   ...        ...       ...         ...       ...   \n",
       "12/31/2018 22:00    12  2200         12        22           0       6.0   \n",
       "12/31/2018 22:15    12  2215         12        22          15       5.0   \n",
       "12/31/2018 22:30    12  2230         12        22          30       5.0   \n",
       "12/31/2018 22:45    12  2245         12        22          45       6.0   \n",
       "12/31/2018 23:00    12  2300         12        23           0       6.0   \n",
       "\n",
       "                  Rel Humid      KW  CHWTON  \n",
       "01/01/2018 00:00      40.24  422.61   74.80  \n",
       "01/01/2018 00:15      40.24  428.08   74.80  \n",
       "01/01/2018 00:30      43.01  431.49   74.80  \n",
       "01/01/2018 00:45      46.00  428.74   74.80  \n",
       "01/01/2018 01:00      46.00  430.62   74.80  \n",
       "...                     ...     ...     ...  \n",
       "12/31/2018 22:00      93.30  509.14    9.19  \n",
       "12/31/2018 22:15     100.00  520.72   21.53  \n",
       "12/31/2018 22:30     100.00  466.79   12.12  \n",
       "12/31/2018 22:45      93.30  458.56   11.66  \n",
       "12/31/2018 23:00      93.30  472.23   18.20  \n",
       "\n",
       "[34624 rows x 9 columns]"
      ]
     },
     "execution_count": 22,
     "metadata": {},
     "output_type": "execute_result"
    }
   ],
   "source": [
    "# rearrange column\n",
    "weather_station = weather_station[['Month','Time','Month_num', 'Hour_num', 'Minute_num', 'Air Temp', 'Rel Humid', 'KW','CHWTON' ]]\n",
    "weather_station "
   ]
  },
  {
   "cell_type": "code",
   "execution_count": 23,
   "id": "63de531c-38c7-4f97-ac61-c1190911ea8f",
   "metadata": {},
   "outputs": [],
   "source": [
    "# weather_station.to_csv('./Data/weather_st')"
   ]
  },
  {
   "cell_type": "markdown",
   "id": "a1385a4a-bbf8-4ef0-9463-4ed2e7ab3e0b",
   "metadata": {},
   "source": [
    "# 4. Create June 9th Data "
   ]
  },
  {
   "cell_type": "markdown",
   "id": "1fa30942-496f-432d-9ac9-0577ac767f0d",
   "metadata": {},
   "source": [
    "For both microclimate and weather_station"
   ]
  },
  {
   "cell_type": "markdown",
   "id": "15ea1607-36cf-49c4-9b6b-6d6c74bc4f96",
   "metadata": {},
   "source": [
    "## 4.1 For Microclimate"
   ]
  },
  {
   "cell_type": "markdown",
   "id": "a68eda78-49d3-43b2-a168-3cf574ea3d5c",
   "metadata": {},
   "source": [
    "We want: month, hour, minute, CHWTON, KW, date, air temp, and real humidity for microclimate June 9th.\n",
    "We do this by merging with building_energy to get KW and CHWTON on the dates that appear in microclimate data\n",
    "\n"
   ]
  },
  {
   "cell_type": "code",
   "execution_count": 24,
   "id": "91cd1aa1-970d-4135-b009-61c014b4e049",
   "metadata": {
    "scrolled": false
   },
   "outputs": [
    {
     "data": {
      "text/html": [
       "<div>\n",
       "<style scoped>\n",
       "    .dataframe tbody tr th:only-of-type {\n",
       "        vertical-align: middle;\n",
       "    }\n",
       "\n",
       "    .dataframe tbody tr th {\n",
       "        vertical-align: top;\n",
       "    }\n",
       "\n",
       "    .dataframe thead th {\n",
       "        text-align: right;\n",
       "    }\n",
       "</style>\n",
       "<table border=\"1\" class=\"dataframe\">\n",
       "  <thead>\n",
       "    <tr style=\"text-align: right;\">\n",
       "      <th></th>\n",
       "      <th>Month</th>\n",
       "      <th>Time</th>\n",
       "      <th>Air Temp</th>\n",
       "      <th>Rel Humid</th>\n",
       "      <th>KW</th>\n",
       "      <th>CHWTON</th>\n",
       "    </tr>\n",
       "  </thead>\n",
       "  <tbody>\n",
       "    <tr>\n",
       "      <th>06/09/2018 05:00</th>\n",
       "      <td>06</td>\n",
       "      <td>0500</td>\n",
       "      <td>29.891090</td>\n",
       "      <td>12.408586</td>\n",
       "      <td>497.04</td>\n",
       "      <td>223.15</td>\n",
       "    </tr>\n",
       "    <tr>\n",
       "      <th>06/09/2018 06:00</th>\n",
       "      <td>06</td>\n",
       "      <td>0600</td>\n",
       "      <td>27.234663</td>\n",
       "      <td>22.425289</td>\n",
       "      <td>482.50</td>\n",
       "      <td>216.54</td>\n",
       "    </tr>\n",
       "    <tr>\n",
       "      <th>06/09/2018 07:00</th>\n",
       "      <td>06</td>\n",
       "      <td>0700</td>\n",
       "      <td>28.315304</td>\n",
       "      <td>23.375925</td>\n",
       "      <td>497.69</td>\n",
       "      <td>322.63</td>\n",
       "    </tr>\n",
       "    <tr>\n",
       "      <th>06/09/2018 08:00</th>\n",
       "      <td>06</td>\n",
       "      <td>0800</td>\n",
       "      <td>30.634113</td>\n",
       "      <td>21.992292</td>\n",
       "      <td>515.12</td>\n",
       "      <td>389.24</td>\n",
       "    </tr>\n",
       "    <tr>\n",
       "      <th>06/09/2018 09:00</th>\n",
       "      <td>06</td>\n",
       "      <td>0900</td>\n",
       "      <td>33.305874</td>\n",
       "      <td>18.676571</td>\n",
       "      <td>531.16</td>\n",
       "      <td>438.15</td>\n",
       "    </tr>\n",
       "    <tr>\n",
       "      <th>06/09/2018 10:00</th>\n",
       "      <td>06</td>\n",
       "      <td>1000</td>\n",
       "      <td>35.191076</td>\n",
       "      <td>11.981883</td>\n",
       "      <td>556.34</td>\n",
       "      <td>488.09</td>\n",
       "    </tr>\n",
       "    <tr>\n",
       "      <th>06/09/2018 11:00</th>\n",
       "      <td>06</td>\n",
       "      <td>1100</td>\n",
       "      <td>36.401060</td>\n",
       "      <td>9.146856</td>\n",
       "      <td>553.01</td>\n",
       "      <td>524.02</td>\n",
       "    </tr>\n",
       "    <tr>\n",
       "      <th>06/09/2018 12:00</th>\n",
       "      <td>06</td>\n",
       "      <td>1200</td>\n",
       "      <td>37.697441</td>\n",
       "      <td>7.663672</td>\n",
       "      <td>556.07</td>\n",
       "      <td>521.17</td>\n",
       "    </tr>\n",
       "    <tr>\n",
       "      <th>06/09/2018 13:00</th>\n",
       "      <td>06</td>\n",
       "      <td>1300</td>\n",
       "      <td>38.728530</td>\n",
       "      <td>6.747533</td>\n",
       "      <td>594.91</td>\n",
       "      <td>492.75</td>\n",
       "    </tr>\n",
       "    <tr>\n",
       "      <th>06/09/2018 14:00</th>\n",
       "      <td>06</td>\n",
       "      <td>1400</td>\n",
       "      <td>39.432333</td>\n",
       "      <td>6.192660</td>\n",
       "      <td>569.91</td>\n",
       "      <td>530.70</td>\n",
       "    </tr>\n",
       "    <tr>\n",
       "      <th>06/09/2018 15:00</th>\n",
       "      <td>06</td>\n",
       "      <td>1500</td>\n",
       "      <td>39.835950</td>\n",
       "      <td>5.909342</td>\n",
       "      <td>551.27</td>\n",
       "      <td>525.69</td>\n",
       "    </tr>\n",
       "    <tr>\n",
       "      <th>06/09/2018 16:00</th>\n",
       "      <td>06</td>\n",
       "      <td>1600</td>\n",
       "      <td>40.018057</td>\n",
       "      <td>5.790905</td>\n",
       "      <td>548.40</td>\n",
       "      <td>526.29</td>\n",
       "    </tr>\n",
       "    <tr>\n",
       "      <th>06/09/2018 17:00</th>\n",
       "      <td>06</td>\n",
       "      <td>1700</td>\n",
       "      <td>39.892676</td>\n",
       "      <td>5.785697</td>\n",
       "      <td>565.27</td>\n",
       "      <td>510.53</td>\n",
       "    </tr>\n",
       "    <tr>\n",
       "      <th>06/09/2018 18:00</th>\n",
       "      <td>06</td>\n",
       "      <td>1800</td>\n",
       "      <td>39.545112</td>\n",
       "      <td>5.843319</td>\n",
       "      <td>555.90</td>\n",
       "      <td>507.65</td>\n",
       "    </tr>\n",
       "    <tr>\n",
       "      <th>06/09/2018 19:00</th>\n",
       "      <td>06</td>\n",
       "      <td>1900</td>\n",
       "      <td>38.869458</td>\n",
       "      <td>6.204450</td>\n",
       "      <td>564.80</td>\n",
       "      <td>490.26</td>\n",
       "    </tr>\n",
       "    <tr>\n",
       "      <th>06/09/2018 20:00</th>\n",
       "      <td>06</td>\n",
       "      <td>2000</td>\n",
       "      <td>38.028798</td>\n",
       "      <td>6.646360</td>\n",
       "      <td>539.02</td>\n",
       "      <td>445.73</td>\n",
       "    </tr>\n",
       "  </tbody>\n",
       "</table>\n",
       "</div>"
      ],
      "text/plain": [
       "                 Month  Time   Air Temp  Rel Humid      KW  CHWTON\n",
       "06/09/2018 05:00    06  0500  29.891090  12.408586  497.04  223.15\n",
       "06/09/2018 06:00    06  0600  27.234663  22.425289  482.50  216.54\n",
       "06/09/2018 07:00    06  0700  28.315304  23.375925  497.69  322.63\n",
       "06/09/2018 08:00    06  0800  30.634113  21.992292  515.12  389.24\n",
       "06/09/2018 09:00    06  0900  33.305874  18.676571  531.16  438.15\n",
       "06/09/2018 10:00    06  1000  35.191076  11.981883  556.34  488.09\n",
       "06/09/2018 11:00    06  1100  36.401060   9.146856  553.01  524.02\n",
       "06/09/2018 12:00    06  1200  37.697441   7.663672  556.07  521.17\n",
       "06/09/2018 13:00    06  1300  38.728530   6.747533  594.91  492.75\n",
       "06/09/2018 14:00    06  1400  39.432333   6.192660  569.91  530.70\n",
       "06/09/2018 15:00    06  1500  39.835950   5.909342  551.27  525.69\n",
       "06/09/2018 16:00    06  1600  40.018057   5.790905  548.40  526.29\n",
       "06/09/2018 17:00    06  1700  39.892676   5.785697  565.27  510.53\n",
       "06/09/2018 18:00    06  1800  39.545112   5.843319  555.90  507.65\n",
       "06/09/2018 19:00    06  1900  38.869458   6.204450  564.80  490.26\n",
       "06/09/2018 20:00    06  2000  38.028798   6.646360  539.02  445.73"
      ]
     },
     "execution_count": 24,
     "metadata": {},
     "output_type": "execute_result"
    }
   ],
   "source": [
    "envimet_j9 = pd.merge(envimet, metabol, left_index = True, right_index = True)\n",
    "envimet_j9"
   ]
  },
  {
   "cell_type": "markdown",
   "id": "1f5d8266-241c-4bbb-b5c3-139a441eb80c",
   "metadata": {},
   "source": [
    "## 4.2 For Weather Station"
   ]
  },
  {
   "cell_type": "code",
   "execution_count": 25,
   "id": "7a381c3b-9318-4246-9cd7-0c9226cc9e77",
   "metadata": {},
   "outputs": [],
   "source": [
    "# 1. Extract june 9th data \n",
    "station_j9 = weather_station.iloc[15150:15246]\n",
    "\n",
    "# 2. Filter time ( only minute 00)\n",
    "station_j9 = station_j9[ (station_j9['Hour_num'] >= 5) & (station_j9['Hour_num'] <= 20) & (station_j9['Minute_num'] == 0)]\n"
   ]
  },
  {
   "cell_type": "code",
   "execution_count": 26,
   "id": "9f24970f-9f95-4193-85d5-b3591eca6a49",
   "metadata": {},
   "outputs": [],
   "source": [
    "# 3. drop June 9th data on original data\n",
    "weather_station = weather_station.drop(weather_station.index[15150:15246])\n",
    "\n",
    "# 4. drop Hour_num and minute_num\n",
    "weather_station = weather_station.drop(labels = ['Hour_num', 'Month_num','Minute_num'], axis = 1)\n",
    "station_j9 = station_j9.drop(labels = ['Hour_num', 'Month_num','Minute_num'], axis = 1)"
   ]
  },
  {
   "cell_type": "code",
   "execution_count": 27,
   "id": "1aafec8d-2ef2-4e2d-8723-ce5a0832a1e9",
   "metadata": {},
   "outputs": [
    {
     "data": {
      "text/html": [
       "<div>\n",
       "<style scoped>\n",
       "    .dataframe tbody tr th:only-of-type {\n",
       "        vertical-align: middle;\n",
       "    }\n",
       "\n",
       "    .dataframe tbody tr th {\n",
       "        vertical-align: top;\n",
       "    }\n",
       "\n",
       "    .dataframe thead th {\n",
       "        text-align: right;\n",
       "    }\n",
       "</style>\n",
       "<table border=\"1\" class=\"dataframe\">\n",
       "  <thead>\n",
       "    <tr style=\"text-align: right;\">\n",
       "      <th></th>\n",
       "      <th>Month</th>\n",
       "      <th>Time</th>\n",
       "      <th>Air Temp</th>\n",
       "      <th>Rel Humid</th>\n",
       "      <th>KW</th>\n",
       "      <th>CHWTON</th>\n",
       "    </tr>\n",
       "  </thead>\n",
       "  <tbody>\n",
       "    <tr>\n",
       "      <th>06/09/2018 05:00</th>\n",
       "      <td>06</td>\n",
       "      <td>0500</td>\n",
       "      <td>27.0</td>\n",
       "      <td>14.84</td>\n",
       "      <td>497.04</td>\n",
       "      <td>223.15</td>\n",
       "    </tr>\n",
       "    <tr>\n",
       "      <th>06/09/2018 06:00</th>\n",
       "      <td>06</td>\n",
       "      <td>0600</td>\n",
       "      <td>26.0</td>\n",
       "      <td>15.74</td>\n",
       "      <td>482.50</td>\n",
       "      <td>216.54</td>\n",
       "    </tr>\n",
       "    <tr>\n",
       "      <th>06/09/2018 07:00</th>\n",
       "      <td>06</td>\n",
       "      <td>0700</td>\n",
       "      <td>28.0</td>\n",
       "      <td>17.42</td>\n",
       "      <td>497.69</td>\n",
       "      <td>322.63</td>\n",
       "    </tr>\n",
       "    <tr>\n",
       "      <th>06/09/2018 08:00</th>\n",
       "      <td>06</td>\n",
       "      <td>0800</td>\n",
       "      <td>31.0</td>\n",
       "      <td>11.78</td>\n",
       "      <td>515.12</td>\n",
       "      <td>389.24</td>\n",
       "    </tr>\n",
       "    <tr>\n",
       "      <th>06/09/2018 09:00</th>\n",
       "      <td>06</td>\n",
       "      <td>0900</td>\n",
       "      <td>33.0</td>\n",
       "      <td>9.06</td>\n",
       "      <td>531.16</td>\n",
       "      <td>438.15</td>\n",
       "    </tr>\n",
       "    <tr>\n",
       "      <th>06/09/2018 10:00</th>\n",
       "      <td>06</td>\n",
       "      <td>1000</td>\n",
       "      <td>35.0</td>\n",
       "      <td>7.52</td>\n",
       "      <td>556.34</td>\n",
       "      <td>488.09</td>\n",
       "    </tr>\n",
       "    <tr>\n",
       "      <th>06/09/2018 11:00</th>\n",
       "      <td>06</td>\n",
       "      <td>1100</td>\n",
       "      <td>37.0</td>\n",
       "      <td>6.74</td>\n",
       "      <td>553.01</td>\n",
       "      <td>524.02</td>\n",
       "    </tr>\n",
       "    <tr>\n",
       "      <th>06/09/2018 12:00</th>\n",
       "      <td>06</td>\n",
       "      <td>1200</td>\n",
       "      <td>39.0</td>\n",
       "      <td>5.19</td>\n",
       "      <td>556.07</td>\n",
       "      <td>521.17</td>\n",
       "    </tr>\n",
       "    <tr>\n",
       "      <th>06/09/2018 13:00</th>\n",
       "      <td>06</td>\n",
       "      <td>1300</td>\n",
       "      <td>41.0</td>\n",
       "      <td>4.32</td>\n",
       "      <td>594.91</td>\n",
       "      <td>492.75</td>\n",
       "    </tr>\n",
       "    <tr>\n",
       "      <th>06/09/2018 14:00</th>\n",
       "      <td>06</td>\n",
       "      <td>1400</td>\n",
       "      <td>41.0</td>\n",
       "      <td>3.99</td>\n",
       "      <td>569.91</td>\n",
       "      <td>530.70</td>\n",
       "    </tr>\n",
       "    <tr>\n",
       "      <th>06/09/2018 15:00</th>\n",
       "      <td>06</td>\n",
       "      <td>1500</td>\n",
       "      <td>42.0</td>\n",
       "      <td>4.10</td>\n",
       "      <td>551.27</td>\n",
       "      <td>525.69</td>\n",
       "    </tr>\n",
       "    <tr>\n",
       "      <th>06/09/2018 16:00</th>\n",
       "      <td>06</td>\n",
       "      <td>1600</td>\n",
       "      <td>42.0</td>\n",
       "      <td>3.79</td>\n",
       "      <td>548.40</td>\n",
       "      <td>526.29</td>\n",
       "    </tr>\n",
       "    <tr>\n",
       "      <th>06/09/2018 17:00</th>\n",
       "      <td>06</td>\n",
       "      <td>1700</td>\n",
       "      <td>42.0</td>\n",
       "      <td>3.79</td>\n",
       "      <td>565.27</td>\n",
       "      <td>510.53</td>\n",
       "    </tr>\n",
       "    <tr>\n",
       "      <th>06/09/2018 18:00</th>\n",
       "      <td>06</td>\n",
       "      <td>1800</td>\n",
       "      <td>42.0</td>\n",
       "      <td>4.10</td>\n",
       "      <td>555.90</td>\n",
       "      <td>507.65</td>\n",
       "    </tr>\n",
       "    <tr>\n",
       "      <th>06/09/2018 19:00</th>\n",
       "      <td>06</td>\n",
       "      <td>1900</td>\n",
       "      <td>40.0</td>\n",
       "      <td>5.74</td>\n",
       "      <td>564.80</td>\n",
       "      <td>490.26</td>\n",
       "    </tr>\n",
       "    <tr>\n",
       "      <th>06/09/2018 20:00</th>\n",
       "      <td>06</td>\n",
       "      <td>2000</td>\n",
       "      <td>38.0</td>\n",
       "      <td>6.38</td>\n",
       "      <td>539.02</td>\n",
       "      <td>445.73</td>\n",
       "    </tr>\n",
       "  </tbody>\n",
       "</table>\n",
       "</div>"
      ],
      "text/plain": [
       "                 Month  Time  Air Temp  Rel Humid      KW  CHWTON\n",
       "06/09/2018 05:00    06  0500      27.0      14.84  497.04  223.15\n",
       "06/09/2018 06:00    06  0600      26.0      15.74  482.50  216.54\n",
       "06/09/2018 07:00    06  0700      28.0      17.42  497.69  322.63\n",
       "06/09/2018 08:00    06  0800      31.0      11.78  515.12  389.24\n",
       "06/09/2018 09:00    06  0900      33.0       9.06  531.16  438.15\n",
       "06/09/2018 10:00    06  1000      35.0       7.52  556.34  488.09\n",
       "06/09/2018 11:00    06  1100      37.0       6.74  553.01  524.02\n",
       "06/09/2018 12:00    06  1200      39.0       5.19  556.07  521.17\n",
       "06/09/2018 13:00    06  1300      41.0       4.32  594.91  492.75\n",
       "06/09/2018 14:00    06  1400      41.0       3.99  569.91  530.70\n",
       "06/09/2018 15:00    06  1500      42.0       4.10  551.27  525.69\n",
       "06/09/2018 16:00    06  1600      42.0       3.79  548.40  526.29\n",
       "06/09/2018 17:00    06  1700      42.0       3.79  565.27  510.53\n",
       "06/09/2018 18:00    06  1800      42.0       4.10  555.90  507.65\n",
       "06/09/2018 19:00    06  1900      40.0       5.74  564.80  490.26\n",
       "06/09/2018 20:00    06  2000      38.0       6.38  539.02  445.73"
      ]
     },
     "execution_count": 27,
     "metadata": {},
     "output_type": "execute_result"
    }
   ],
   "source": [
    "station_j9"
   ]
  },
  {
   "cell_type": "code",
   "execution_count": 28,
   "id": "6ebdd13c-9126-45d7-b490-bcb46c288c58",
   "metadata": {},
   "outputs": [
    {
     "name": "stdout",
     "output_type": "stream",
     "text": [
      "Empty DataFrame\n",
      "Columns: [Month, Time, Air Temp, Rel Humid, KW, CHWTON]\n",
      "Index: []\n"
     ]
    }
   ],
   "source": [
    "# 5. convert index to date time object\n",
    "weather_station.index = pd.to_datetime(weather_station.index)\n",
    "\n",
    "# 6. ensure theres no more june 9th data on weather_station data\n",
    "print(weather_station[(weather_station.index.month == 6) & (weather_station.index.day == 9)])\n",
    "\n",
    "# convert back\n",
    "# weather_station.index = pd.to_datetime(weather_station.index).dt.strftime('%m/%d/%Y %H:%M')"
   ]
  },
  {
   "cell_type": "markdown",
   "id": "09aca76d-465d-498f-847c-843c4c6679de",
   "metadata": {},
   "source": [
    "# 5. EDA"
   ]
  },
  {
   "cell_type": "markdown",
   "id": "e6d77199-f83f-40b3-a10b-690e4e53dc3a",
   "metadata": {},
   "source": [
    "## 5.1 Correlation Matrix"
   ]
  },
  {
   "cell_type": "code",
   "execution_count": 29,
   "id": "8f833d54-9677-4c71-aba1-da46203054e2",
   "metadata": {},
   "outputs": [
    {
     "data": {
      "image/png": "[encoded data removed]",
      "text/plain": [
       "<Figure size 576x576 with 2 Axes>"
      ]
     },
     "metadata": {
      "needs_background": "light"
     },
     "output_type": "display_data"
    }
   ],
   "source": [
    "corrMatrix = weather_station.corr()\n",
    "plt.figure(figsize=(8,8))\n",
    "sns.heatmap(corrMatrix)\n",
    "plt.show()"
   ]
  },
  {
   "cell_type": "markdown",
   "id": "5927e0df-112e-4fba-89d7-d019b9235067",
   "metadata": {},
   "source": [
    "## 5.2 Multicolinearity"
   ]
  },
  {
   "cell_type": "markdown",
   "id": "5700cca6-109e-44b8-a079-87cc4faf8711",
   "metadata": {},
   "source": [
    "A simple method to detect multicollinearity in a model is by using something called the variance inflation factor or the VIF for each predicting variable. An acceptable VIF is if it’s less than the max of 10"
   ]
  },
  {
   "cell_type": "code",
   "execution_count": 30,
   "id": "5a826edd-daf9-496e-b92f-2bcadbd83703",
   "metadata": {},
   "outputs": [],
   "source": [
    "## Get X\n",
    "Y = weather_station['CHWTON']\n",
    "\n",
    "## Get Y\n",
    "X = weather_station.drop(labels = ['CHWTON'], axis = 1)"
   ]
  },
  {
   "cell_type": "code",
   "execution_count": 31,
   "id": "2d35dd41-8f36-4f7b-9241-b8b94d0698b8",
   "metadata": {},
   "outputs": [],
   "source": [
    "X_int = X.drop(labels = ['Month', 'Time'], axis = 1)"
   ]
  },
  {
   "cell_type": "code",
   "execution_count": 32,
   "id": "b4d4a90d-7bbf-4fd0-8434-462c6e5de7ed",
   "metadata": {},
   "outputs": [],
   "source": [
    "vif_data = pd.DataFrame()\n",
    "vif_data[\"feature\"] = X_int.columns\n",
    "vif_data[\"VIF\"] = [variance_inflation_factor(X_int.values, i) for i in range(len(X_int.columns))]"
   ]
  },
  {
   "cell_type": "code",
   "execution_count": 33,
   "id": "bcbf32da-34a1-46e1-b28d-8d85e1a771d9",
   "metadata": {},
   "outputs": [
    {
     "data": {
      "text/html": [
       "<div>\n",
       "<style scoped>\n",
       "    .dataframe tbody tr th:only-of-type {\n",
       "        vertical-align: middle;\n",
       "    }\n",
       "\n",
       "    .dataframe tbody tr th {\n",
       "        vertical-align: top;\n",
       "    }\n",
       "\n",
       "    .dataframe thead th {\n",
       "        text-align: right;\n",
       "    }\n",
       "</style>\n",
       "<table border=\"1\" class=\"dataframe\">\n",
       "  <thead>\n",
       "    <tr style=\"text-align: right;\">\n",
       "      <th></th>\n",
       "      <th>feature</th>\n",
       "      <th>VIF</th>\n",
       "    </tr>\n",
       "  </thead>\n",
       "  <tbody>\n",
       "    <tr>\n",
       "      <th>0</th>\n",
       "      <td>Air Temp</td>\n",
       "      <td>11.195486</td>\n",
       "    </tr>\n",
       "    <tr>\n",
       "      <th>1</th>\n",
       "      <td>Rel Humid</td>\n",
       "      <td>3.489038</td>\n",
       "    </tr>\n",
       "    <tr>\n",
       "      <th>2</th>\n",
       "      <td>KW</td>\n",
       "      <td>17.108884</td>\n",
       "    </tr>\n",
       "  </tbody>\n",
       "</table>\n",
       "</div>"
      ],
      "text/plain": [
       "     feature        VIF\n",
       "0   Air Temp  11.195486\n",
       "1  Rel Humid   3.489038\n",
       "2         KW  17.108884"
      ]
     },
     "execution_count": 33,
     "metadata": {},
     "output_type": "execute_result"
    }
   ],
   "source": [
    "vif_data"
   ]
  },
  {
   "cell_type": "markdown",
   "id": "d13f84ee-452d-4f45-ba11-ce06eaed8a43",
   "metadata": {},
   "source": [
    "# 6. Modelling"
   ]
  },
  {
   "cell_type": "markdown",
   "id": "2a11a3af-50da-4091-8db9-254c79ccaef0",
   "metadata": {},
   "source": [
    "Scoring:\n",
    "One one hand, RMSE tells us the typical distance between the predicted value made by the regression model and the actual value.\n",
    "\n",
    "On the other hand, R2 tells us how well the predictor variables can explain the variation in the response variable."
   ]
  },
  {
   "cell_type": "markdown",
   "id": "4c8407d6-5079-4f49-8067-04ae14d26590",
   "metadata": {},
   "source": [
    "## 6.1 train & predict"
   ]
  },
  {
   "cell_type": "code",
   "execution_count": 34,
   "id": "410d3209",
   "metadata": {},
   "outputs": [
    {
     "name": "stdout",
     "output_type": "stream",
     "text": [
      "                     Actual CHWTON  Predicted CHWTON\n",
      "2018-01-01 00:15:00          74.80           74.8000\n",
      "2018-01-01 00:30:00          74.80           74.8000\n",
      "2018-01-01 00:45:00          74.80           74.8000\n",
      "2018-01-01 02:00:00          74.80           74.8000\n",
      "2018-01-01 03:15:00          74.80           74.8000\n",
      "...                            ...               ...\n",
      "2018-12-31 17:30:00          19.62           12.0434\n",
      "2018-12-31 18:45:00          21.64           11.2858\n",
      "2018-12-31 21:15:00          16.29           10.4680\n",
      "2018-12-31 21:45:00          22.12           12.4731\n",
      "2018-12-31 22:45:00          11.66           15.6229\n",
      "\n",
      "[6906 rows x 2 columns]\n"
     ]
    }
   ],
   "source": [
    "############################ RANDOM FORESTS #################################\n",
    "\n",
    "# 1. Get train test \n",
    "from sklearn.model_selection import train_test_split\n",
    "\n",
    "X_train, X_test, Y_train, Y_test = train_test_split(X, Y, test_size=0.2, random_state=20)\n",
    "\n",
    "# 2. Using RandomForestRegressor to make predictions\n",
    "from sklearn.ensemble import RandomForestRegressor\n",
    "# - string\n",
    "model = RandomForestRegressor(n_estimators=100, random_state=42)\n",
    "model.fit(X_train, Y_train)\n",
    "\n",
    "# 3. Get prediction\n",
    "Y_pred = model.predict(X_test)\n",
    "ModelPred = pd.DataFrame({'Actual CHWTON':Y_test, 'Predicted CHWTON':Y_pred})\n",
    "ModelPred = ModelPred.sort_index()\n",
    "print(ModelPred)"
   ]
  },
  {
   "cell_type": "markdown",
   "id": "05ccc585-ef91-4ce1-ab3d-e461c94d4d03",
   "metadata": {},
   "source": [
    "## 6.2 Score"
   ]
  },
  {
   "cell_type": "code",
   "execution_count": 35,
   "id": "4ffd7913-16c3-4e98-92e2-d6b101f553d0",
   "metadata": {},
   "outputs": [
    {
     "name": "stdout",
     "output_type": "stream",
     "text": [
      "\u001b[1mFeature Importances:\u001b[0m\n",
      "Air Temp     0.759434\n",
      "Month        0.097115\n",
      "Rel Humid    0.065805\n",
      "KW           0.058164\n",
      "Time         0.019482\n",
      "dtype: float64 \n",
      "\n"
     ]
    }
   ],
   "source": [
    "# 1. RMSE and R2\n",
    "R2_all = model.score(X_test, Y_test)\n",
    "RMSE_all = np.sqrt(metrics.mean_squared_error(Y_test, Y_pred))\n",
    "\n",
    "# 2.Feature importance\n",
    "feature_list = list(X_train.columns)\n",
    "feature_imp = pd.Series(model.feature_importances_, index=feature_list).sort_values(ascending=False)\n",
    "print(\"\\033[1m\" + \"Feature Importances:\" + \"\\033[0m\")\n",
    "print(feature_imp, \"\\n\")\n"
   ]
  },
  {
   "cell_type": "code",
   "execution_count": 36,
   "id": "15b969e0-4175-481d-9f0e-c842b3ba43b0",
   "metadata": {},
   "outputs": [
    {
     "data": {
      "text/html": [
       "<div>\n",
       "<style scoped>\n",
       "    .dataframe tbody tr th:only-of-type {\n",
       "        vertical-align: middle;\n",
       "    }\n",
       "\n",
       "    .dataframe tbody tr th {\n",
       "        vertical-align: top;\n",
       "    }\n",
       "\n",
       "    .dataframe thead th {\n",
       "        text-align: right;\n",
       "    }\n",
       "</style>\n",
       "<table border=\"1\" class=\"dataframe\">\n",
       "  <thead>\n",
       "    <tr style=\"text-align: right;\">\n",
       "      <th></th>\n",
       "      <th>score_type</th>\n",
       "      <th>RF_allyear</th>\n",
       "    </tr>\n",
       "  </thead>\n",
       "  <tbody>\n",
       "    <tr>\n",
       "      <th>0</th>\n",
       "      <td>R2</td>\n",
       "      <td>0.983197</td>\n",
       "    </tr>\n",
       "    <tr>\n",
       "      <th>1</th>\n",
       "      <td>RMSE</td>\n",
       "      <td>30.134666</td>\n",
       "    </tr>\n",
       "  </tbody>\n",
       "</table>\n",
       "</div>"
      ],
      "text/plain": [
       "  score_type  RF_allyear\n",
       "0         R2    0.983197\n",
       "1       RMSE   30.134666"
      ]
     },
     "execution_count": 36,
     "metadata": {},
     "output_type": "execute_result"
    }
   ],
   "source": [
    "# 3. create score df\n",
    "scores_df = pd.DataFrame({\"score_type\": [\"R2\", \"RMSE\"], \"RF_allyear\": [R2_all, RMSE_all]})\n",
    "scores_df\n"
   ]
  },
  {
   "cell_type": "markdown",
   "id": "472a5004-f1ac-454e-bd18-1929ced89695",
   "metadata": {},
   "source": [
    "# 7. June 9th Prediction"
   ]
  },
  {
   "cell_type": "markdown",
   "id": "699dd895-2462-41d5-8fb6-a6db970832eb",
   "metadata": {},
   "source": [
    "## 7.1 Weather Station prediction"
   ]
  },
  {
   "cell_type": "code",
   "execution_count": 37,
   "id": "c5305a94-58a5-4fd2-8bd9-048018c796f9",
   "metadata": {},
   "outputs": [
    {
     "data": {
      "text/html": [
       "<div>\n",
       "<style scoped>\n",
       "    .dataframe tbody tr th:only-of-type {\n",
       "        vertical-align: middle;\n",
       "    }\n",
       "\n",
       "    .dataframe tbody tr th {\n",
       "        vertical-align: top;\n",
       "    }\n",
       "\n",
       "    .dataframe thead th {\n",
       "        text-align: right;\n",
       "    }\n",
       "</style>\n",
       "<table border=\"1\" class=\"dataframe\">\n",
       "  <thead>\n",
       "    <tr style=\"text-align: right;\">\n",
       "      <th></th>\n",
       "      <th>score_type</th>\n",
       "      <th>RF_allyear</th>\n",
       "      <th>RF_j9_AZ</th>\n",
       "    </tr>\n",
       "  </thead>\n",
       "  <tbody>\n",
       "    <tr>\n",
       "      <th>0</th>\n",
       "      <td>R2</td>\n",
       "      <td>0.983197</td>\n",
       "      <td>0.978206</td>\n",
       "    </tr>\n",
       "    <tr>\n",
       "      <th>1</th>\n",
       "      <td>RMSE</td>\n",
       "      <td>30.134666</td>\n",
       "      <td>15.054584</td>\n",
       "    </tr>\n",
       "  </tbody>\n",
       "</table>\n",
       "</div>"
      ],
      "text/plain": [
       "  score_type  RF_allyear   RF_j9_AZ\n",
       "0         R2    0.983197   0.978206\n",
       "1       RMSE   30.134666  15.054584"
      ]
     },
     "execution_count": 37,
     "metadata": {},
     "output_type": "execute_result"
    }
   ],
   "source": [
    "# 1. Get X and Y (all test)\n",
    "X_j9 = station_j9.drop(labels = ['CHWTON'], axis = 1)\n",
    "\n",
    "# 2. Get Y\n",
    "Y_actual_j9 = station_j9['CHWTON']\n",
    "\n",
    "# 3. Get Y_pred\n",
    "Y_pred_j9 = model.predict(X_j9)\n",
    "\n",
    "# 4. Score\n",
    "R2_j9 = model.score(X_j9, Y_actual_j9)\n",
    "RMSE_j9 = np.sqrt(metrics.mean_squared_error(Y_actual_j9, Y_pred_j9))\n",
    "\n",
    "# 5. Append score to df\n",
    "score_j9_AZ = [R2_j9, RMSE_j9]\n",
    "scores_df['RF_j9_AZ'] = score_j9_AZ\n",
    "\n",
    "scores_df"
   ]
  },
  {
   "cell_type": "markdown",
   "id": "02d42650-244b-40aa-bb95-a499399c7500",
   "metadata": {},
   "source": [
    "## 7.2 Microclimate prediction"
   ]
  },
  {
   "cell_type": "code",
   "execution_count": 38,
   "id": "9dc42539-afa1-4c95-aaba-b2e40fb3117d",
   "metadata": {},
   "outputs": [
    {
     "data": {
      "text/html": [
       "<div>\n",
       "<style scoped>\n",
       "    .dataframe tbody tr th:only-of-type {\n",
       "        vertical-align: middle;\n",
       "    }\n",
       "\n",
       "    .dataframe tbody tr th {\n",
       "        vertical-align: top;\n",
       "    }\n",
       "\n",
       "    .dataframe thead th {\n",
       "        text-align: right;\n",
       "    }\n",
       "</style>\n",
       "<table border=\"1\" class=\"dataframe\">\n",
       "  <thead>\n",
       "    <tr style=\"text-align: right;\">\n",
       "      <th></th>\n",
       "      <th>score_type</th>\n",
       "      <th>RF_allyear</th>\n",
       "      <th>RF_j9_AZ</th>\n",
       "      <th>RF_j9_micro</th>\n",
       "    </tr>\n",
       "  </thead>\n",
       "  <tbody>\n",
       "    <tr>\n",
       "      <th>0</th>\n",
       "      <td>R2</td>\n",
       "      <td>0.983197</td>\n",
       "      <td>0.978206</td>\n",
       "      <td>0.932054</td>\n",
       "    </tr>\n",
       "    <tr>\n",
       "      <th>1</th>\n",
       "      <td>RMSE</td>\n",
       "      <td>30.134666</td>\n",
       "      <td>15.054584</td>\n",
       "      <td>26.581914</td>\n",
       "    </tr>\n",
       "  </tbody>\n",
       "</table>\n",
       "</div>"
      ],
      "text/plain": [
       "  score_type  RF_allyear   RF_j9_AZ  RF_j9_micro\n",
       "0         R2    0.983197   0.978206     0.932054\n",
       "1       RMSE   30.134666  15.054584    26.581914"
      ]
     },
     "execution_count": 38,
     "metadata": {},
     "output_type": "execute_result"
    }
   ],
   "source": [
    "# 1. Get X\n",
    "X_j9_envi = envimet_j9 .drop(labels = ['CHWTON'], axis = 1)\n",
    "\n",
    "# 2. Get Y_pred\n",
    "Y_pred_j9_envi = model.predict(X_j9_envi)\n",
    "\n",
    "# 3. Score\n",
    "R2_j9_envi = model.score(X_j9_envi, Y_actual_j9)\n",
    "RMSE_j9_envi = np.sqrt(metrics.mean_squared_error(Y_actual_j9, Y_pred_j9_envi))\n",
    "\n",
    "# 4. append to score df\n",
    "score_j9_envi = [R2_j9_envi, RMSE_j9_envi]\n",
    "scores_df['RF_j9_micro'] = score_j9_envi\n",
    "scores_df"
   ]
  },
  {
   "cell_type": "code",
   "execution_count": 39,
   "id": "8ea93c54-1395-4c23-9504-9526754905ee",
   "metadata": {},
   "outputs": [
    {
     "data": {
      "text/html": [
       "<div>\n",
       "<style scoped>\n",
       "    .dataframe tbody tr th:only-of-type {\n",
       "        vertical-align: middle;\n",
       "    }\n",
       "\n",
       "    .dataframe tbody tr th {\n",
       "        vertical-align: top;\n",
       "    }\n",
       "\n",
       "    .dataframe thead th {\n",
       "        text-align: right;\n",
       "    }\n",
       "</style>\n",
       "<table border=\"1\" class=\"dataframe\">\n",
       "  <thead>\n",
       "    <tr style=\"text-align: right;\">\n",
       "      <th></th>\n",
       "      <th>Actual</th>\n",
       "      <th>Baseline Predictions (AZW)</th>\n",
       "      <th>Microclimate Predictions</th>\n",
       "    </tr>\n",
       "  </thead>\n",
       "  <tbody>\n",
       "    <tr>\n",
       "      <th>06/09/2018 05:00</th>\n",
       "      <td>223.15</td>\n",
       "      <td>231.8091</td>\n",
       "      <td>299.0118</td>\n",
       "    </tr>\n",
       "    <tr>\n",
       "      <th>06/09/2018 06:00</th>\n",
       "      <td>216.54</td>\n",
       "      <td>215.1030</td>\n",
       "      <td>240.0071</td>\n",
       "    </tr>\n",
       "    <tr>\n",
       "      <th>06/09/2018 07:00</th>\n",
       "      <td>322.63</td>\n",
       "      <td>297.2681</td>\n",
       "      <td>321.8524</td>\n",
       "    </tr>\n",
       "    <tr>\n",
       "      <th>06/09/2018 08:00</th>\n",
       "      <td>389.24</td>\n",
       "      <td>386.4693</td>\n",
       "      <td>408.1026</td>\n",
       "    </tr>\n",
       "    <tr>\n",
       "      <th>06/09/2018 09:00</th>\n",
       "      <td>438.15</td>\n",
       "      <td>443.9627</td>\n",
       "      <td>441.6406</td>\n",
       "    </tr>\n",
       "    <tr>\n",
       "      <th>06/09/2018 10:00</th>\n",
       "      <td>488.09</td>\n",
       "      <td>495.6954</td>\n",
       "      <td>491.3914</td>\n",
       "    </tr>\n",
       "    <tr>\n",
       "      <th>06/09/2018 11:00</th>\n",
       "      <td>524.02</td>\n",
       "      <td>516.3857</td>\n",
       "      <td>493.0634</td>\n",
       "    </tr>\n",
       "    <tr>\n",
       "      <th>06/09/2018 12:00</th>\n",
       "      <td>521.17</td>\n",
       "      <td>520.6033</td>\n",
       "      <td>499.8650</td>\n",
       "    </tr>\n",
       "    <tr>\n",
       "      <th>06/09/2018 13:00</th>\n",
       "      <td>492.75</td>\n",
       "      <td>533.3055</td>\n",
       "      <td>519.6782</td>\n",
       "    </tr>\n",
       "    <tr>\n",
       "      <th>06/09/2018 14:00</th>\n",
       "      <td>530.70</td>\n",
       "      <td>512.0206</td>\n",
       "      <td>513.7082</td>\n",
       "    </tr>\n",
       "    <tr>\n",
       "      <th>06/09/2018 15:00</th>\n",
       "      <td>525.69</td>\n",
       "      <td>511.9132</td>\n",
       "      <td>492.8536</td>\n",
       "    </tr>\n",
       "    <tr>\n",
       "      <th>06/09/2018 16:00</th>\n",
       "      <td>526.29</td>\n",
       "      <td>514.8497</td>\n",
       "      <td>504.8554</td>\n",
       "    </tr>\n",
       "    <tr>\n",
       "      <th>06/09/2018 17:00</th>\n",
       "      <td>510.53</td>\n",
       "      <td>518.0884</td>\n",
       "      <td>503.6988</td>\n",
       "    </tr>\n",
       "    <tr>\n",
       "      <th>06/09/2018 18:00</th>\n",
       "      <td>507.65</td>\n",
       "      <td>524.6403</td>\n",
       "      <td>500.3531</td>\n",
       "    </tr>\n",
       "    <tr>\n",
       "      <th>06/09/2018 19:00</th>\n",
       "      <td>490.26</td>\n",
       "      <td>488.1649</td>\n",
       "      <td>512.0480</td>\n",
       "    </tr>\n",
       "    <tr>\n",
       "      <th>06/09/2018 20:00</th>\n",
       "      <td>445.73</td>\n",
       "      <td>454.8694</td>\n",
       "      <td>454.7857</td>\n",
       "    </tr>\n",
       "  </tbody>\n",
       "</table>\n",
       "</div>"
      ],
      "text/plain": [
       "                  Actual  Baseline Predictions (AZW)  Microclimate Predictions\n",
       "06/09/2018 05:00  223.15                    231.8091                  299.0118\n",
       "06/09/2018 06:00  216.54                    215.1030                  240.0071\n",
       "06/09/2018 07:00  322.63                    297.2681                  321.8524\n",
       "06/09/2018 08:00  389.24                    386.4693                  408.1026\n",
       "06/09/2018 09:00  438.15                    443.9627                  441.6406\n",
       "06/09/2018 10:00  488.09                    495.6954                  491.3914\n",
       "06/09/2018 11:00  524.02                    516.3857                  493.0634\n",
       "06/09/2018 12:00  521.17                    520.6033                  499.8650\n",
       "06/09/2018 13:00  492.75                    533.3055                  519.6782\n",
       "06/09/2018 14:00  530.70                    512.0206                  513.7082\n",
       "06/09/2018 15:00  525.69                    511.9132                  492.8536\n",
       "06/09/2018 16:00  526.29                    514.8497                  504.8554\n",
       "06/09/2018 17:00  510.53                    518.0884                  503.6988\n",
       "06/09/2018 18:00  507.65                    524.6403                  500.3531\n",
       "06/09/2018 19:00  490.26                    488.1649                  512.0480\n",
       "06/09/2018 20:00  445.73                    454.8694                  454.7857"
      ]
     },
     "execution_count": 39,
     "metadata": {},
     "output_type": "execute_result"
    }
   ],
   "source": [
    "Pred = pd.DataFrame({'Actual':Y_actual_j9,'Baseline Predictions (AZW)': Y_pred_j9, 'Microclimate Predictions': Y_pred_j9_envi})\n",
    "Pred"
   ]
  },
  {
   "cell_type": "markdown",
   "id": "50086d1d-8cc9-4ab1-a013-f6a2897ff0bf",
   "metadata": {},
   "source": [
    "# 8. Hypothesis Test"
   ]
  },
  {
   "cell_type": "code",
   "execution_count": 40,
   "id": "b8de764d-ae41-41bf-a5a3-651cffecaa33",
   "metadata": {},
   "outputs": [
    {
     "data": {
      "text/plain": [
       "([<matplotlib.axis.XTick at 0x7fd8aedac7f0>,\n",
       "  <matplotlib.axis.XTick at 0x7fd8aedacd30>],\n",
       " [Text(1, 0, 'Baseline_pred'), Text(2, 0, 'Microclimate_pred')])"
      ]
     },
     "execution_count": 40,
     "metadata": {},
     "output_type": "execute_result"
    },
    {
     "data": {
      "image/png": "[encoded data removed]",
      "text/plain": [
       "<Figure size 432x288 with 1 Axes>"
      ]
     },
     "metadata": {
      "needs_background": "light"
     },
     "output_type": "display_data"
    }
   ],
   "source": [
    "plt.boxplot([Y_pred_j9, Y_pred_j9_envi])\n",
    "plt.xticks([1,2],['Baseline_pred', 'Microclimate_pred'])"
   ]
  },
  {
   "cell_type": "code",
   "execution_count": 41,
   "id": "e342275b-12c4-4079-a745-f483bbb0db60",
   "metadata": {},
   "outputs": [
    {
     "name": "stdout",
     "output_type": "stream",
     "text": [
      "447.8217875\n",
      "449.80720625\n",
      "mu: -1.9854187499999512\n"
     ]
    }
   ],
   "source": [
    "print(Y_pred_j9.mean())\n",
    "print(Y_pred_j9_envi.mean())\n",
    "print('mu:', Y_pred_j9.mean()- Y_pred_j9_envi.mean())"
   ]
  },
  {
   "cell_type": "markdown",
   "id": "0364231d",
   "metadata": {},
   "source": [
    "# Two-Sample T Test\n",
    "\n",
    "\n",
    "mean differences in CHWTON = $ \\mu_{baseline} - \\mu_{microclimate} = 3.83065-3.866 = -0.03567 $ \n",
    "\n",
    "$ H_0: $ Mean of CHWTON in baseline and microclimate are the same\n",
    "\n",
    "$ H_1: $ Mean of CHWTON in baseline and microclimate are NOT the same"
   ]
  },
  {
   "cell_type": "markdown",
   "id": "cc16c2e6-e6cd-4a43-bcf4-8e7c843c47cd",
   "metadata": {},
   "source": [
    "## 8.1 calculate standard deviation"
   ]
  },
  {
   "cell_type": "code",
   "execution_count": 42,
   "id": "a8632054-a03d-4c1d-a822-37cea5e7dda7",
   "metadata": {},
   "outputs": [
    {
     "name": "stdout",
     "output_type": "stream",
     "text": [
      "11473.34059003848 7616.4231248206115\n"
     ]
    }
   ],
   "source": [
    "# 1.variance\n",
    "var_baseline = Y_pred_j9.var(ddof = 1)\n",
    "var_micro = Y_pred_j9_envi.var(ddof = 1)\n",
    "print(var_baseline, var_micro)"
   ]
  },
  {
   "cell_type": "code",
   "execution_count": 43,
   "id": "1a5a5c35-f6e9-4079-9ddc-f7c545fda3c9",
   "metadata": {},
   "outputs": [
    {
     "data": {
      "text/plain": [
       "97.69791122347266"
      ]
     },
     "execution_count": 43,
     "metadata": {},
     "output_type": "execute_result"
    }
   ],
   "source": [
    "# 2. standard deviation\n",
    "s = np.sqrt((var_baseline + var_micro)/2)\n",
    "s"
   ]
  },
  {
   "cell_type": "markdown",
   "id": "b63e0198-7135-481e-aeed-eaf39ea9e6b5",
   "metadata": {},
   "source": [
    "## 8.2 calculate T-statistic"
   ]
  },
  {
   "cell_type": "code",
   "execution_count": 44,
   "id": "3f5af72c-d801-4bd2-84c1-ced1e04d87f8",
   "metadata": {},
   "outputs": [
    {
     "name": "stdout",
     "output_type": "stream",
     "text": [
      "t statistics:  -0.057479348085902\n",
      "p value:  0.9545599898105406\n"
     ]
    }
   ],
   "source": [
    "import scipy.stats as stats\n",
    "t_stat, p_val = stats.ttest_ind(Y_pred_j9, Y_pred_j9_envi, equal_var=False)\n",
    "print('t statistics: ', t_stat)\n",
    "print('p value: ', p_val)"
   ]
  },
  {
   "cell_type": "markdown",
   "id": "12d48f93-ec9b-4cc3-b977-f63f8991e9b7",
   "metadata": {},
   "source": [
    "P value is not less that 0.05. We cannot reject the null hypothesis. There is no significant difference between the transaction amount of fraud and non fraudulent transaction"
   ]
  },
  {
   "cell_type": "markdown",
   "id": "92c06839-9ef6-4378-befa-8e6caf8ad667",
   "metadata": {},
   "source": [
    "# 9. Plot"
   ]
  },
  {
   "cell_type": "code",
   "execution_count": 45,
   "id": "4b33a9e9",
   "metadata": {},
   "outputs": [
    {
     "data": {
      "image/png": "[encoded data removed]",
      "text/plain": [
       "<Figure size 432x288 with 1 Axes>"
      ]
     },
     "metadata": {
      "needs_background": "light"
     },
     "output_type": "display_data"
    }
   ],
   "source": [
    "####### Plotting Baseline Model for all 2018 15-min Data #######\n",
    "\n",
    "## This is a big graph, will be slow to run but gives visual of prediction accuracy\n",
    "# %matplotlib qt\n",
    "plt.xlabel('Baseline 15-Min Model')\n",
    "plt.ylabel('CHWTON')\n",
    "plt.plot(ModelPred['Actual CHWTON'], label = 'Actual CHWT')\n",
    "plt.plot(ModelPred['Predicted CHWTON'], label = 'Predicted CHWT')\n",
    "plt.legend()\n",
    "plt.show()"
   ]
  },
  {
   "cell_type": "code",
   "execution_count": 46,
   "id": "d5613547",
   "metadata": {},
   "outputs": [
    {
     "data": {
      "image/png": "[encoded data removed]",
      "text/plain": [
       "<Figure size 432x288 with 1 Axes>"
      ]
     },
     "metadata": {
      "needs_background": "light"
     },
     "output_type": "display_data"
    }
   ],
   "source": [
    "#  Plotting ENVI-met vs AZW vs Actual Data for June 9 from 5a - 8p\n",
    "\n",
    "positions = [0,1,2,3,4,5,6,7,8,9,10,11,12,13,14,15]\n",
    "labels = ['5a', '6a', '7a', '8a', '9a', '10a', '11a', '12p', '1p', '2p', '3p', '4p', '5p', '6p', '7p', '8p']\n",
    "\n",
    "# plot EnviMet vs AZ_Weather results\n",
    "plt.xlabel('Time 5a - 8p')\n",
    "plt.ylabel('CHWTON')\n",
    "plt.xticks(positions, labels)\n",
    "plt.plot(Pred['Microclimate Predictions'], label = 'ENVIMET Weather')\n",
    "plt.plot(Pred['Baseline Predictions (AZW)'], label = 'Baseline Weather (AZW)')\n",
    "plt.plot(Pred['Actual'], label = 'Actual Data')\n",
    "plt.title(bldname)\n",
    "plt.legend()\n",
    "\n",
    "## show graphs\n",
    "plt.show()"
   ]
  },
  {
   "cell_type": "markdown",
   "id": "36b1dfe7-6f7c-4ee8-b7b0-66e01f5bc295",
   "metadata": {},
   "source": [
    "# 10. Save DF"
   ]
  },
  {
   "cell_type": "markdown",
   "id": "32a5c79c-05fe-4112-8dfa-4d03b3a26212",
   "metadata": {},
   "source": [
    "## 10.1 Weather Station string\n"
   ]
  },
  {
   "cell_type": "code",
   "execution_count": null,
   "id": "c63503ef-9ddc-440b-a7e4-c88e240cdd8a",
   "metadata": {},
   "outputs": [],
   "source": [
    "# weather_station.to_csv('./Data/weather_st2')"
   ]
  },
  {
   "cell_type": "markdown",
   "id": "8b2dbabd-8bf0-46ce-976a-87b75770fab3",
   "metadata": {},
   "source": [
    "## 10.2 June 9th Weather St\n"
   ]
  },
  {
   "cell_type": "code",
   "execution_count": null,
   "id": "57703357-ac1e-486b-9ef2-eba65fb5f07b",
   "metadata": {},
   "outputs": [],
   "source": [
    "# weather_st_June_9.to_csv('./Data/weather_j9')"
   ]
  },
  {
   "cell_type": "code",
   "execution_count": null,
   "id": "43bf5320-fa48-44b2-9a04-b3caa891ed64",
   "metadata": {},
   "outputs": [],
   "source": [
    "# scores_df.to_csv('./Data/score')"
   ]
  },
  {
   "cell_type": "code",
   "execution_count": null,
   "id": "e51ae9c6-60fe-47e6-84a3-22dd477cf556",
   "metadata": {},
   "outputs": [],
   "source": []
  }
 ],
 "metadata": {
  "kernelspec": {
   "display_name": "Python 3.8.8 64-bit ('base': conda)",
   "language": "python",
   "name": "python388jvsc74a57bd05743e2273c9542cf7022ebd3e101ce4ff09b272df8f3a22ea02f51200ed7a568"
  },
  "language_info": {
   "codemirror_mode": {
    "name": "ipython",
    "version": 3
   },
   "file_extension": ".py",
   "mimetype": "text/x-python",
   "name": "python",
   "nbconvert_exporter": "python",
   "pygments_lexer": "ipython3",
   "version": "3.8.8"
  },
  "toc-autonumbering": false,
  "toc-showcode": false,
  "toc-showmarkdowntxt": false,
  "toc-showtags": false
 },
 "nbformat": 4,
 "nbformat_minor": 5
}
