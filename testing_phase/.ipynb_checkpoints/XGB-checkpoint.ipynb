{
 "cells": [
  {
   "cell_type": "markdown",
   "metadata": {},
   "source": [
    "# 1. Import"
   ]
  },
  {
   "cell_type": "code",
   "execution_count": 15,
   "metadata": {},
   "outputs": [],
   "source": [
    "import pandas as pd\n",
    "import seaborn as sns\n",
    "import numpy as np\n",
    "import pickle\n",
    "\n",
    "# graph\n",
    "import pathlib\n",
    "import matplotlib.pyplot as plt\n",
    "from matplotlib.pyplot import cm\n",
    "from datetime import datetime\n",
    "\n",
    "\n",
    "# model\n",
    "from sklearn.model_selection import train_test_split\n",
    "from xgboost import XGBRegressor\n",
    "from sklearn import metrics\n",
    "\n",
    "#  for multicolinearity\n",
    "from statsmodels.stats.outliers_influence import variance_inflation_factor "
   ]
  },
  {
   "cell_type": "markdown",
   "metadata": {},
   "source": [
    "# 2. Import Files"
   ]
  },
  {
   "cell_type": "code",
   "execution_count": 2,
   "metadata": {},
   "outputs": [],
   "source": [
    "# 1. to make sure month and time column is read as string\n",
    "string_cols = ['Month', 'Time']\n",
    "dict_dtypes = {x : 'str'  for x in string_cols}\n",
    "\n",
    "# 2. get all year data\n",
    "all_year = pd.read_csv('./Data/station.csv', index_col = 0, dtype = dict_dtypes)\n"
   ]
  },
  {
   "cell_type": "code",
   "execution_count": 4,
   "metadata": {},
   "outputs": [
    {
     "data": {
      "text/plain": [
       "01/01/2018 00:00    56.93\n",
       "01/01/2018 00:15    65.03\n",
       "01/01/2018 00:30    47.84\n",
       "01/01/2018 00:45    53.82\n",
       "01/01/2018 01:00    51.24\n",
       "                    ...  \n",
       "12/31/2018 22:00    35.75\n",
       "12/31/2018 22:15    34.16\n",
       "12/31/2018 22:30    36.17\n",
       "12/31/2018 22:45    36.37\n",
       "12/31/2018 23:00    33.81\n",
       "Name: CHWTON, Length: 34622, dtype: float64"
      ]
     },
     "execution_count": 4,
     "metadata": {},
     "output_type": "execute_result"
    }
   ],
   "source": [
    "Y"
   ]
  },
  {
   "cell_type": "markdown",
   "metadata": {},
   "source": [
    "# 3. Cyclical Features encoding"
   ]
  },
  {
   "cell_type": "code",
   "execution_count": null,
   "metadata": {},
   "outputs": [],
   "source": [
    "# https://www.kaggle.com/avanwyk/encoding-cyclical-features-for-deep-learning\n",
    "# https://towardsdatascience.com/cyclical-features-encoding-its-about-time-ce23581845ca\n",
    "# http://blog.davidkaleko.com/feature-engineering-cyclical-features.html"
   ]
  },
  {
   "cell_type": "code",
   "execution_count": 5,
   "metadata": {},
   "outputs": [],
   "source": [
    "# encode df columns into sine and cosine\n",
    "def encode(df, col, max_val):\n",
    "    df[col.replace('_num', '') + '_sin'] = np.sin(2 * np.pi * df[col]/max_val)\n",
    "    df[col.replace('_num', '') + '_cos'] = np.cos(2 * np.pi * df[col]/max_val)\n",
    "    df.drop(columns = [col], inplace = True)\n",
    "    return df\n"
   ]
  },
  {
   "cell_type": "code",
   "execution_count": 6,
   "metadata": {},
   "outputs": [],
   "source": [
    "X_encode = X.copy(deep=True)\n",
    "X_encode = encode(X_encode, 'Minute_num', 60.0)\n",
    "X_encode = encode(X_encode, 'Hour_num', 23.0)\n",
    "X_encode = encode(X_encode, 'Day_num', 30.0)\n",
    "X_encode = encode(X_encode, 'Month_num', 12.0)\n"
   ]
  },
  {
   "cell_type": "code",
   "execution_count": 7,
   "metadata": {},
   "outputs": [
    {
     "data": {
      "text/html": [
       "<div>\n",
       "<style scoped>\n",
       "    .dataframe tbody tr th:only-of-type {\n",
       "        vertical-align: middle;\n",
       "    }\n",
       "\n",
       "    .dataframe tbody tr th {\n",
       "        vertical-align: top;\n",
       "    }\n",
       "\n",
       "    .dataframe thead th {\n",
       "        text-align: right;\n",
       "    }\n",
       "</style>\n",
       "<table border=\"1\" class=\"dataframe\">\n",
       "  <thead>\n",
       "    <tr style=\"text-align: right;\">\n",
       "      <th></th>\n",
       "      <th>Air Temp</th>\n",
       "      <th>Rel Humid</th>\n",
       "      <th>KW</th>\n",
       "      <th>Minute_sin</th>\n",
       "      <th>Minute_cos</th>\n",
       "      <th>Hour_sin</th>\n",
       "      <th>Hour_cos</th>\n",
       "      <th>Day_sin</th>\n",
       "      <th>Day_cos</th>\n",
       "      <th>Month_sin</th>\n",
       "      <th>Month_cos</th>\n",
       "    </tr>\n",
       "  </thead>\n",
       "  <tbody>\n",
       "    <tr>\n",
       "      <th>01/01/2018 00:00</th>\n",
       "      <td>11.0</td>\n",
       "      <td>40.24</td>\n",
       "      <td>153.92</td>\n",
       "      <td>0.000000e+00</td>\n",
       "      <td>1.000000e+00</td>\n",
       "      <td>0.000000e+00</td>\n",
       "      <td>1.000000</td>\n",
       "      <td>0.207912</td>\n",
       "      <td>0.978148</td>\n",
       "      <td>5.000000e-01</td>\n",
       "      <td>0.866025</td>\n",
       "    </tr>\n",
       "    <tr>\n",
       "      <th>01/01/2018 00:15</th>\n",
       "      <td>11.0</td>\n",
       "      <td>40.24</td>\n",
       "      <td>155.92</td>\n",
       "      <td>1.000000e+00</td>\n",
       "      <td>2.832769e-16</td>\n",
       "      <td>0.000000e+00</td>\n",
       "      <td>1.000000</td>\n",
       "      <td>0.207912</td>\n",
       "      <td>0.978148</td>\n",
       "      <td>5.000000e-01</td>\n",
       "      <td>0.866025</td>\n",
       "    </tr>\n",
       "    <tr>\n",
       "      <th>01/01/2018 00:30</th>\n",
       "      <td>10.0</td>\n",
       "      <td>43.01</td>\n",
       "      <td>152.79</td>\n",
       "      <td>5.665539e-16</td>\n",
       "      <td>-1.000000e+00</td>\n",
       "      <td>0.000000e+00</td>\n",
       "      <td>1.000000</td>\n",
       "      <td>0.207912</td>\n",
       "      <td>0.978148</td>\n",
       "      <td>5.000000e-01</td>\n",
       "      <td>0.866025</td>\n",
       "    </tr>\n",
       "    <tr>\n",
       "      <th>01/01/2018 00:45</th>\n",
       "      <td>9.0</td>\n",
       "      <td>46.00</td>\n",
       "      <td>155.39</td>\n",
       "      <td>-1.000000e+00</td>\n",
       "      <td>-1.836970e-16</td>\n",
       "      <td>0.000000e+00</td>\n",
       "      <td>1.000000</td>\n",
       "      <td>0.207912</td>\n",
       "      <td>0.978148</td>\n",
       "      <td>5.000000e-01</td>\n",
       "      <td>0.866025</td>\n",
       "    </tr>\n",
       "    <tr>\n",
       "      <th>01/01/2018 01:00</th>\n",
       "      <td>9.0</td>\n",
       "      <td>46.00</td>\n",
       "      <td>151.32</td>\n",
       "      <td>0.000000e+00</td>\n",
       "      <td>1.000000e+00</td>\n",
       "      <td>2.697968e-01</td>\n",
       "      <td>0.962917</td>\n",
       "      <td>0.207912</td>\n",
       "      <td>0.978148</td>\n",
       "      <td>5.000000e-01</td>\n",
       "      <td>0.866025</td>\n",
       "    </tr>\n",
       "    <tr>\n",
       "      <th>...</th>\n",
       "      <td>...</td>\n",
       "      <td>...</td>\n",
       "      <td>...</td>\n",
       "      <td>...</td>\n",
       "      <td>...</td>\n",
       "      <td>...</td>\n",
       "      <td>...</td>\n",
       "      <td>...</td>\n",
       "      <td>...</td>\n",
       "      <td>...</td>\n",
       "      <td>...</td>\n",
       "    </tr>\n",
       "    <tr>\n",
       "      <th>12/31/2018 22:00</th>\n",
       "      <td>6.0</td>\n",
       "      <td>93.30</td>\n",
       "      <td>148.92</td>\n",
       "      <td>0.000000e+00</td>\n",
       "      <td>1.000000e+00</td>\n",
       "      <td>-2.697968e-01</td>\n",
       "      <td>0.962917</td>\n",
       "      <td>0.207912</td>\n",
       "      <td>0.978148</td>\n",
       "      <td>-2.449294e-16</td>\n",
       "      <td>1.000000</td>\n",
       "    </tr>\n",
       "    <tr>\n",
       "      <th>12/31/2018 22:15</th>\n",
       "      <td>5.0</td>\n",
       "      <td>100.00</td>\n",
       "      <td>150.79</td>\n",
       "      <td>1.000000e+00</td>\n",
       "      <td>2.832769e-16</td>\n",
       "      <td>-2.697968e-01</td>\n",
       "      <td>0.962917</td>\n",
       "      <td>0.207912</td>\n",
       "      <td>0.978148</td>\n",
       "      <td>-2.449294e-16</td>\n",
       "      <td>1.000000</td>\n",
       "    </tr>\n",
       "    <tr>\n",
       "      <th>12/31/2018 22:30</th>\n",
       "      <td>5.0</td>\n",
       "      <td>100.00</td>\n",
       "      <td>151.93</td>\n",
       "      <td>5.665539e-16</td>\n",
       "      <td>-1.000000e+00</td>\n",
       "      <td>-2.697968e-01</td>\n",
       "      <td>0.962917</td>\n",
       "      <td>0.207912</td>\n",
       "      <td>0.978148</td>\n",
       "      <td>-2.449294e-16</td>\n",
       "      <td>1.000000</td>\n",
       "    </tr>\n",
       "    <tr>\n",
       "      <th>12/31/2018 22:45</th>\n",
       "      <td>6.0</td>\n",
       "      <td>93.30</td>\n",
       "      <td>144.93</td>\n",
       "      <td>-1.000000e+00</td>\n",
       "      <td>-1.836970e-16</td>\n",
       "      <td>-2.697968e-01</td>\n",
       "      <td>0.962917</td>\n",
       "      <td>0.207912</td>\n",
       "      <td>0.978148</td>\n",
       "      <td>-2.449294e-16</td>\n",
       "      <td>1.000000</td>\n",
       "    </tr>\n",
       "    <tr>\n",
       "      <th>12/31/2018 23:00</th>\n",
       "      <td>6.0</td>\n",
       "      <td>93.30</td>\n",
       "      <td>148.93</td>\n",
       "      <td>0.000000e+00</td>\n",
       "      <td>1.000000e+00</td>\n",
       "      <td>-2.449294e-16</td>\n",
       "      <td>1.000000</td>\n",
       "      <td>0.207912</td>\n",
       "      <td>0.978148</td>\n",
       "      <td>-2.449294e-16</td>\n",
       "      <td>1.000000</td>\n",
       "    </tr>\n",
       "  </tbody>\n",
       "</table>\n",
       "<p>34622 rows × 11 columns</p>\n",
       "</div>"
      ],
      "text/plain": [
       "                  Air Temp  Rel Humid      KW    Minute_sin    Minute_cos  \\\n",
       "01/01/2018 00:00      11.0      40.24  153.92  0.000000e+00  1.000000e+00   \n",
       "01/01/2018 00:15      11.0      40.24  155.92  1.000000e+00  2.832769e-16   \n",
       "01/01/2018 00:30      10.0      43.01  152.79  5.665539e-16 -1.000000e+00   \n",
       "01/01/2018 00:45       9.0      46.00  155.39 -1.000000e+00 -1.836970e-16   \n",
       "01/01/2018 01:00       9.0      46.00  151.32  0.000000e+00  1.000000e+00   \n",
       "...                    ...        ...     ...           ...           ...   \n",
       "12/31/2018 22:00       6.0      93.30  148.92  0.000000e+00  1.000000e+00   \n",
       "12/31/2018 22:15       5.0     100.00  150.79  1.000000e+00  2.832769e-16   \n",
       "12/31/2018 22:30       5.0     100.00  151.93  5.665539e-16 -1.000000e+00   \n",
       "12/31/2018 22:45       6.0      93.30  144.93 -1.000000e+00 -1.836970e-16   \n",
       "12/31/2018 23:00       6.0      93.30  148.93  0.000000e+00  1.000000e+00   \n",
       "\n",
       "                      Hour_sin  Hour_cos   Day_sin   Day_cos     Month_sin  \\\n",
       "01/01/2018 00:00  0.000000e+00  1.000000  0.207912  0.978148  5.000000e-01   \n",
       "01/01/2018 00:15  0.000000e+00  1.000000  0.207912  0.978148  5.000000e-01   \n",
       "01/01/2018 00:30  0.000000e+00  1.000000  0.207912  0.978148  5.000000e-01   \n",
       "01/01/2018 00:45  0.000000e+00  1.000000  0.207912  0.978148  5.000000e-01   \n",
       "01/01/2018 01:00  2.697968e-01  0.962917  0.207912  0.978148  5.000000e-01   \n",
       "...                        ...       ...       ...       ...           ...   \n",
       "12/31/2018 22:00 -2.697968e-01  0.962917  0.207912  0.978148 -2.449294e-16   \n",
       "12/31/2018 22:15 -2.697968e-01  0.962917  0.207912  0.978148 -2.449294e-16   \n",
       "12/31/2018 22:30 -2.697968e-01  0.962917  0.207912  0.978148 -2.449294e-16   \n",
       "12/31/2018 22:45 -2.697968e-01  0.962917  0.207912  0.978148 -2.449294e-16   \n",
       "12/31/2018 23:00 -2.449294e-16  1.000000  0.207912  0.978148 -2.449294e-16   \n",
       "\n",
       "                  Month_cos  \n",
       "01/01/2018 00:00   0.866025  \n",
       "01/01/2018 00:15   0.866025  \n",
       "01/01/2018 00:30   0.866025  \n",
       "01/01/2018 00:45   0.866025  \n",
       "01/01/2018 01:00   0.866025  \n",
       "...                     ...  \n",
       "12/31/2018 22:00   1.000000  \n",
       "12/31/2018 22:15   1.000000  \n",
       "12/31/2018 22:30   1.000000  \n",
       "12/31/2018 22:45   1.000000  \n",
       "12/31/2018 23:00   1.000000  \n",
       "\n",
       "[34622 rows x 11 columns]"
      ]
     },
     "execution_count": 7,
     "metadata": {},
     "output_type": "execute_result"
    }
   ],
   "source": [
    "X_encode"
   ]
  },
  {
   "cell_type": "code",
   "execution_count": 8,
   "metadata": {},
   "outputs": [
    {
     "data": {
      "image/png": "[encoded data removed]",
      "text/plain": [
       "<Figure size 576x504 with 4 Axes>"
      ]
     },
     "metadata": {
      "needs_background": "light"
     },
     "output_type": "display_data"
    }
   ],
   "source": [
    "# 1. create firgure for 2 rows 2 columns\n",
    "fig, ax = plt.subplots(2,2, figsize = (8,7))\n",
    "X_encode.plot.scatter('Minute_sin', 'Minute_cos', ax = ax[0,0]).set_aspect('equal')\n",
    "X_encode.plot.scatter('Hour_sin', 'Hour_cos', ax = ax[0,1]).set_aspect('equal')\n",
    "X_encode.plot.scatter('Day_sin', 'Day_cos', ax = ax[1,0]).set_aspect('equal')\n",
    "X_encode.plot.scatter('Month_sin', 'Month_cos', ax = ax[1,1]).set_aspect('equal')"
   ]
  },
  {
   "cell_type": "markdown",
   "metadata": {},
   "source": [
    "# 4. XG Boost"
   ]
  },
  {
   "cell_type": "markdown",
   "metadata": {},
   "source": [
    "## 4.1 On non-cyclical"
   ]
  },
  {
   "cell_type": "code",
   "execution_count": 9,
   "metadata": {},
   "outputs": [],
   "source": [
    "# Train test split\n",
    "# 1. Split into train test data\n",
    "X_train, X_test, Y_train, Y_test = train_test_split(X, Y, test_size=0.2, random_state=42)\n",
    "\n",
    "# 2. create an xgboost regression model\n",
    "XGB = XGBRegressor(n_estimators = 1000, max_depth=7, eta=0.1, subsample=0.7, colsample_bytree=0.8)\n",
    "\n",
    "# 3. Train\n",
    "XGB.fit(X_train, Y_train)\n",
    "\n",
    "# 4. Predict\n",
    "R2non = XGB.score(X_test, Y_test)\n",
    "\n",
    "# 5. Score\n",
    "R2non = XGB.score(X_test, Y_test)\n",
    "print('R2 non-cyclical: ',R2non)"
   ]
  },
  {
   "cell_type": "code",
   "execution_count": null,
   "metadata": {},
   "outputs": [],
   "source": [
    "X_train"
   ]
  },
  {
   "cell_type": "markdown",
   "metadata": {},
   "source": [
    "## 4.2 On Cyclical"
   ]
  },
  {
   "cell_type": "code",
   "execution_count": 10,
   "metadata": {},
   "outputs": [],
   "source": [
    "# Train test split\n",
    "# 1. Split into train test data\n",
    "X_train_encode, X_test_encode, Y_train, Y_test = train_test_split(X_encode, Y, test_size=0.2, random_state=42)\n",
    "\n",
    "# # 2. create an xgboost regression model\n",
    "# XGB = XGBRegressor(n_estimators=1000, max_depth=7, eta=0.1, subsample=0.7, colsample_bytree=0.8)\n",
    "\n",
    "# # 3. Train\n",
    "# XGB.fit(X_train_encode, Y_train)\n",
    "\n",
    "# # 4. Predict & scoreb\n",
    "# R2 = XGB.score(X_test_encode, Y_test)\n",
    "# print('R2 cyclical: ', R2)\n"
   ]
  },
  {
   "cell_type": "code",
   "execution_count": null,
   "metadata": {},
   "outputs": [],
   "source": [
    "Y"
   ]
  },
  {
   "cell_type": "markdown",
   "metadata": {},
   "source": [
    "# 5. Ada Boost"
   ]
  },
  {
   "cell_type": "code",
   "execution_count": null,
   "metadata": {},
   "outputs": [],
   "source": [
    "from sklearn.ensemble import AdaBoostRegressor\n",
    "from sklearn.datasets import make_regression\n",
    "\n",
    "# non cyclical\n",
    "ADAregr = AdaBoostRegressor(random_state=0, n_estimators=1000)\n",
    "ADAregr.fit(X_train, Y_train)\n",
    "R2_ADA_non = ADAregr.score(X_test, Y_test)\n",
    "print('R2 non-cyclical: ',R2_ADA_non)"
   ]
  },
  {
   "cell_type": "code",
   "execution_count": null,
   "metadata": {},
   "outputs": [],
   "source": [
    "# cyclical\n",
    "ADAregr.fit(X_train_encode, Y_train)\n",
    "R2_ADA = ADAregr.score(X_test_encode, Y_test)\n",
    "print('R2: ',R2_ADA)"
   ]
  },
  {
   "cell_type": "markdown",
   "metadata": {},
   "source": [
    "# 6. Random RF"
   ]
  },
  {
   "cell_type": "code",
   "execution_count": null,
   "metadata": {},
   "outputs": [],
   "source": []
  },
  {
   "cell_type": "code",
   "execution_count": 11,
   "metadata": {},
   "outputs": [],
   "source": [
    "from sklearn.ensemble import RandomForestRegressor"
   ]
  },
  {
   "cell_type": "code",
   "execution_count": 13,
   "metadata": {},
   "outputs": [
    {
     "name": "stdout",
     "output_type": "stream",
     "text": [
      "R2 non-cyclical:  0.9851007364763341\n"
     ]
    }
   ],
   "source": [
    "# # 1. create an xgboost regression model\n",
    "base_RF = RandomForestRegressor(n_estimators = 100, random_state = 42)\n",
    "\n",
    "# 2. Train\n",
    "base_RF.fit(X_train, Y_train)\n",
    "\n",
    "# # 4. Predict & scoreb\n",
    "R2 = base_RF.score(X_test, Y_test)\n",
    "print('R2 non-cyclical: ', R2)"
   ]
  },
  {
   "cell_type": "code",
   "execution_count": 14,
   "metadata": {},
   "outputs": [
    {
     "name": "stdout",
     "output_type": "stream",
     "text": [
      "R2 cyclical:  0.9858921496466247\n"
     ]
    }
   ],
   "source": [
    "\n",
    "# 3. Train\n",
    "base_RF.fit(X_train_encode, Y_train)\n",
    "\n",
    "# 4. Predict & scoreb\n",
    "R2 = base_RF.score(X_test_encode, Y_test)\n",
    "print('R2 cyclical: ', R2)"
   ]
  },
  {
   "cell_type": "markdown",
   "metadata": {},
   "source": [
    "# 7. Randomized Search"
   ]
  },
  {
   "cell_type": "code",
   "execution_count": null,
   "metadata": {},
   "outputs": [],
   "source": [
    "from sklearn.model_selection import RandomizedSearchCV\n",
    "import time"
   ]
  },
  {
   "cell_type": "code",
   "execution_count": null,
   "metadata": {},
   "outputs": [],
   "source": [
    "# Train test split\n",
    "# 1. Split into train test data\n",
    "X_train, X_test, Y_train, Y_test = train_test_split(X, Y, test_size=0.2, random_state=20)"
   ]
  },
  {
   "cell_type": "code",
   "execution_count": null,
   "metadata": {
    "scrolled": true,
    "tags": []
   },
   "outputs": [],
   "source": [
    "# A parameter grid for XGBoost\n",
    "params = {\n",
    "    'n_estimators':[ 100 , 250, 500, 1000],\n",
    "    'min_child_weight':[4,5], \n",
    "    'gamma':[i/10.0 for i in range(3,6)],  \n",
    "    'subsample':[i/10.0 for i in range(6,11)],\n",
    "    'colsample_bytree':[i/10.0 for i in range(6,11)], \n",
    "    'max_depth': [2,3,4,6,7],\n",
    "    'objective': ['reg:squarederror', 'reg:tweedie'],\n",
    "    'booster': ['gbtree', 'gblinear'],\n",
    "    'eval_metric': ['rmse'],\n",
    "    'eta': [i/10.0 for i in range(3,6)],\n",
    "}\n",
    "\n",
    "reg = XGBRegressor()\n",
    "\n",
    "n_iter_search = 20\n",
    "xgb_random = RandomizedSearchCV(reg,\n",
    "       Y                         param_distributions = params,\n",
    "                                n_iter = n_iter_search,\n",
    "                                cv = 5,\n",
    "                                verbose = 2,\n",
    "                                random_state = 20,\n",
    "                                scoring ='r2',\n",
    "                                n_jobs = -1)\n",
    "\n",
    "start = time.time()\n",
    "xgb_random.fit(X_train, Y_train)\n",
    "print(\"RandomizedSearchCV took %.2f seconds for %d candidates\"\n",
    "      \" parameter settings.\" % ((time.time() - start), n_iter_search))\n",
    "\n"
   ]
  },
  {
   "cell_type": "code",
   "execution_count": null,
   "metadata": {},
   "outputs": [],
   "source": [
    "# 1. print winning set of hyperparameters\n",
    "print(xgb_random.best_estimator_.get_params())\n",
    "print(xgb_random.best_score_)\n",
    "\n",
    "# 2. save model\n",
    "xgb_best = xgb_random.best_estimator_"
   ]
  },
  {
   "cell_type": "code",
   "execution_count": null,
   "metadata": {},
   "outputs": [],
   "source": [
    "# June 9th prediction\n",
    "# 1. get X\n",
    "X_j9_dum = j9_dum.drop(labels = ['CHWTON', 'Month', 'Time'], axis = 1)\n",
    "\n",
    "# 2. Ypred\n",
    "Y_pred_xgb_j9 = xgb_best.predict(X_j9_dum)\n",
    "\n",
    "# 3. Score\n",
    "R2_j9_xgb = xgb_best.score(X_j9_dum, Y_j9)\n",
    "RMSE_j9_xgb = np.sqrt(metrics.mean_squared_error(Y_j9, Y_pred_xgb_j9))\n",
    "\n",
    "# 4. append to score df\n",
    "score_J9_xgb = [R2_j9_xgb, RMSE_j9_xgb]\n",
    "scores_df['XGB_J9_AZ'] = score_J9_xgb\n",
    "scores_df"
   ]
  },
  {
   "cell_type": "code",
   "execution_count": null,
   "metadata": {},
   "outputs": [],
   "source": []
  }
 ],
 "metadata": {
  "kernelspec": {
   "display_name": "Python [conda env:root] *",
   "language": "python",
   "name": "conda-root-py"
  },
  "language_info": {
   "codemirror_mode": {
    "name": "ipython",
    "version": 3
   },
   "file_extension": ".py",
   "mimetype": "text/x-python",
   "name": "python",
   "nbconvert_exporter": "python",
   "pygments_lexer": "ipython3",
   "version": "3.8.5"
  }
 },
 "nbformat": 4,
 "nbformat_minor": 4
}
