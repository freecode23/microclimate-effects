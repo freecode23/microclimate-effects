{
 "cells": [
  {
   "cell_type": "markdown",
   "id": "da9b2ed8-783e-437f-b4dd-ee4536489cd9",
   "metadata": {
    "id": "da9b2ed8-783e-437f-b4dd-ee4536489cd9"
   },
   "source": [
    "<!-- Data: Combined with added features , Shades and Radiation. <br>\n",
    "Split: Train, Validate, Test -->"
   ]
  },
  {
   "cell_type": "markdown",
   "id": "ea6dbd75",
   "metadata": {
    "id": "ea6dbd75",
    "tags": []
   },
   "source": [
    "# 1. Import Library - Load Data - Functions"
   ]
  },
  {
   "cell_type": "code",
   "execution_count": 1,
   "id": "f6345f94",
   "metadata": {
    "id": "f6345f94"
   },
   "outputs": [],
   "source": [
    "import pandas as pd\n",
    "import numpy as np\n",
    "import seaborn as sns\n",
    "\n",
    "from sklearn.preprocessing import LabelEncoder\n",
    "from sklearn.preprocessing import OneHotEncoder\n",
    "\n",
    "from sklearn.model_selection import train_test_split\n",
    "from sklearn.model_selection import cross_val_score\n",
    "\n",
    "# parameters search\n",
    "from sklearn.model_selection import RandomizedSearchCV\n",
    "from sklearn.model_selection import GridSearchCV\n",
    "\n",
    "# models\n",
    "from sklearn.ensemble import RandomForestRegressor\n",
    "\n",
    "# explain\n",
    "from sklearn.tree import export_graphviz\n",
    "\n",
    "from datetime import datetime\n",
    "import os\n",
    "import pathlib\n",
    "import matplotlib.pyplot as plt\n",
    "import matplotlib.dates as mdates\n",
    "from matplotlib.pyplot import figure"
   ]
  },
  {
   "cell_type": "code",
   "execution_count": 2,
   "id": "hNNCdcpOR_iX",
   "metadata": {
    "id": "hNNCdcpOR_iX"
   },
   "outputs": [],
   "source": [
    "## FUNCTIONS USED IN NOTEBOOK ##\n",
    "\n",
    "def undummify(df, prefix_sep=\"_\"):\n",
    "    cols2collapse = {\n",
    "        item.split(prefix_sep)[0]: (prefix_sep in item) for item in df.columns\n",
    "    }\n",
    "    series_list = []\n",
    "    for col, needs_to_collapse in cols2collapse.items():\n",
    "        if needs_to_collapse:\n",
    "            undummified = (\n",
    "                df.filter(like=col)\n",
    "                .idxmax(axis=1)\n",
    "                .apply(lambda x: x.split(prefix_sep, maxsplit=1)[1])\n",
    "                .rename(col)\n",
    "            )\n",
    "            series_list.append(undummified)\n",
    "        else:\n",
    "            series_list.append(df[col])\n",
    "    undummified_df = pd.concat(series_list, axis=1)\n",
    "    return undummified_df"
   ]
  },
  {
   "cell_type": "code",
   "execution_count": null,
   "id": "98beeaa3",
   "metadata": {
    "id": "98beeaa3",
    "scrolled": true
   },
   "outputs": [],
   "source": [
    "# Bldg = pd.read_csv(\"/Users/alialyakoob/Dropbox/Mac/Desktop/ASU/RA/Data/Model_Data/microclimate_model/Combined/Summer Days/summer_limited2.csv\")\n",
    "# #Bldg1 = pd.read_csv(\"/content/drive/Shareddrives/Microclimate-Building Energy/Data/microclimate_model/Combined/all_buildings_limited.csv\")\n",
    "# Bldg = Bldg.drop(columns = ['Unnamed: 0','CHWTON'])\n",
    "# Bldg['Date_Time'] = pd.to_datetime(Bldg['Date_Time'])\n",
    "\n",
    "\n",
    " # >>>> changed here:\n",
    "filepath_summer = \"../Data/microclimate_model/Combined/summer_limited2.csv\"\n",
    "filepath_june9_trees = \"../Data/microclimate_model/Combined/June_9_trees.csv\"\n",
    "filepath_bldg1 = \"../Data/microclimate_model/Combined/all_buildings_limited.csv\"\n",
    "\n",
    "Bldg = pd.read_csv(filepath_summer)\n",
    "Bldg = Bldg.drop(columns = ['Unnamed: 0','CHWTON'])\n",
    "Bldg['Date_Time'] = pd.to_datetime(Bldg['Date_Time'])"
   ]
  },
  {
   "cell_type": "code",
   "execution_count": null,
   "id": "9a0b7837-8d20-4c30-bf9e-549551671d4e",
   "metadata": {
    "id": "9a0b7837-8d20-4c30-bf9e-549551671d4e"
   },
   "outputs": [],
   "source": [
    "# >>>>>> not needed\n",
    "# Tree_X = pd.read_csv(\"/Users/alialyakoob/Dropbox/Mac/Desktop/ASU/RA/Data/Model_Data/microclimate_model/Combined/Trees_Scenario/June_9_trees.csv\")\n",
    "# Tree_X = Tree_X.drop(columns = ['Unnamed: 0','CHWTON','CHWTON/SQFT' ])\n",
    "# Tree_X['Date_Time'] = pd.to_datetime(Tree_X['Date_Time'])\n",
    "# Tree_X.set_index(Tree_X['Date_Time'], inplace=True)"
   ]
  },
  {
   "cell_type": "markdown",
   "id": "i7bmT2bfevOU",
   "metadata": {
    "id": "i7bmT2bfevOU",
    "tags": []
   },
   "source": [
    "# 2. Data Visualization"
   ]
  },
  {
   "cell_type": "code",
   "execution_count": null,
   "id": "01f2da3f",
   "metadata": {},
   "outputs": [],
   "source": [
    "# Add CHWTON/SQM \n",
    "Bldg['CHWTON/SQM'] = Bldg['CHWTON/SQFT']/0.092903\n"
   ]
  },
  {
   "cell_type": "code",
   "execution_count": null,
   "id": "PfpYg976ex8o",
   "metadata": {
    "colab": {
     "base_uri": "https://localhost:8080/",
     "height": 881
    },
    "id": "PfpYg976ex8o",
    "outputId": "b16c3921-3e10-49ad-8475-92fca3c5494e"
   },
   "outputs": [],
   "source": [
    "Bldg.info()\n",
    "Bldg.describe()"
   ]
  },
  {
   "cell_type": "code",
   "execution_count": null,
   "id": "fa875111-1924-45b9-bef1-e8cce9244732",
   "metadata": {},
   "outputs": [],
   "source": [
    "Bldg.columns"
   ]
  },
  {
   "cell_type": "code",
   "execution_count": null,
   "id": "db3a837c-7222-4a0e-8b35-440fcbbf76b7",
   "metadata": {},
   "outputs": [],
   "source": [
    "sns.displot(Bldg, x=\"CHWTON/SQM\", hue=\"bldgname\", kind=\"kde\", fill=True, height=10, aspect=2)"
   ]
  },
  {
   "cell_type": "code",
   "execution_count": null,
   "id": "F2QemaWcmDMb",
   "metadata": {
    "colab": {
     "base_uri": "https://localhost:8080/",
     "height": 286
    },
    "id": "F2QemaWcmDMb",
    "outputId": "3bfce724-4084-45b3-a9c3-bd0e7eaf6330"
   },
   "outputs": [],
   "source": [
    "plt.figure(figsize=(10, 10))\n",
    "Bldg[['Air Temp', 'Abs Hum']].boxplot()"
   ]
  },
  {
   "cell_type": "markdown",
   "id": "02fa6e05-4d17-452c-b759-c4594148a683",
   "metadata": {},
   "source": [
    "Set Date_Time as index"
   ]
  },
  {
   "cell_type": "code",
   "execution_count": null,
   "id": "6197b5ef-3007-4fd1-a858-0ef10c7fe06e",
   "metadata": {},
   "outputs": [],
   "source": [
    "Bldg.set_index(Bldg['Date_Time'], inplace=True)"
   ]
  },
  {
   "cell_type": "code",
   "execution_count": null,
   "id": "501ccd17",
   "metadata": {
    "scrolled": true
   },
   "outputs": [],
   "source": [
    "b = Bldg[(Bldg['bldgname'] == 'ISTB 4') | (Bldg['bldgname'] == 'Psychology' )\n",
    "        | (Bldg['bldgname'] == 'Psychology North')]"
   ]
  },
  {
   "cell_type": "code",
   "execution_count": null,
   "id": "91127189",
   "metadata": {
    "scrolled": true
   },
   "outputs": [],
   "source": [
    "b[b['bldgname'] == 'ISTB 4']"
   ]
  },
  {
   "cell_type": "markdown",
   "id": "ec078f8b-2a8b-47cd-b54b-fe5d45bb93db",
   "metadata": {},
   "source": [
    "Visualize Time Series By Day"
   ]
  },
  {
   "cell_type": "code",
   "execution_count": null,
   "id": "4cfcf122-147c-45a0-b5a6-a0a458ff2c6d",
   "metadata": {},
   "outputs": [],
   "source": [
    "fig, ax = plt.subplots(15,2,figsize=(20,120))\n",
    "b = Bldg\n",
    "counter = -1\n",
    "for i in b['Month'].unique():\n",
    "    m = b[(b['Month'] == i)]\n",
    "    for z in m['Day'].unique():\n",
    "        d = m[(m['Day'] == z)]\n",
    "        counter+=1\n",
    "        for un in d['bldgname'].unique():\n",
    "            bl = d[(d['bldgname'] == un)]\n",
    "            ax[counter,0].plot((bl['CHWTON/SQM']/bl['CHWTON/SQM'].max()), label = bl['bldgname'][0])\n",
    "            ax[counter,0].set_title(str(bl['Month'].iloc[0]) + '/' + str(bl['Day'].iloc[0]), fontsize = 15)\n",
    "            ax[counter,0].legend()\n",
    "            ax[counter,1].plot(bl['Air Temp'], label = bl['bldgname'][0])\n",
    "            ax[counter,1].set_title(str(bl['Month'].iloc[0]) + '/' + str(bl['Day'].iloc[0]), fontsize = 15)\n",
    "            ax[counter,1].legend()"
   ]
  },
  {
   "cell_type": "markdown",
   "id": "c65763f0-98fc-4305-9564-7ac9ee75d7b8",
   "metadata": {},
   "source": [
    "Clean Data based on Visualization"
   ]
  },
  {
   "cell_type": "code",
   "execution_count": null,
   "id": "bea44122-ce31-44a1-be24-edc8f8290059",
   "metadata": {},
   "outputs": [],
   "source": [
    "Bldg = Bldg.drop(Bldg.loc[pd.date_range('2018-06-27 05:00:00','2018-06-27 12:30:00', freq = '15min')].index)\n",
    "Bldg = Bldg.drop(Bldg.loc[pd.date_range('2018-08-01 05:00:00','2018-08-01 20:45:00', freq = '15min')].index)\n",
    "Bldg = Bldg.drop(Bldg.loc[pd.date_range('2018-08-03 05:00:00','2018-08-03 20:45:00', freq = '15min')].index)\n",
    "Bldg = Bldg.drop(Bldg.loc[pd.Timestamp('2018-06-27 20:00:00')].index)\n",
    "Bldg = Bldg[Bldg['bldgname'] != 'Biodesign C']\n",
    "Bldg = Bldg[Bldg['bldgname'] != 'Noble Library']\n",
    "Bldg = Bldg[Bldg['bldgname'] != 'Bulldog Hall']"
   ]
  },
  {
   "cell_type": "code",
   "execution_count": null,
   "id": "a6b67d02-6223-443d-8200-df1df7a87184",
   "metadata": {
    "scrolled": true
   },
   "outputs": [],
   "source": [
    "fig, ax = plt.subplots(12,2,figsize=(20,120))\n",
    "b = Bldg\n",
    "counter = -1\n",
    "for i in b['Month'].unique():\n",
    "    m = b[(b['Month'] == i)]\n",
    "    for z in m['Day'].unique():\n",
    "        d = m[(m['Day'] == z)]\n",
    "        counter+=1\n",
    "        for un in d['bldgname'].unique():\n",
    "            bl = d[(d['bldgname'] == un)]\n",
    "            ax[counter,0].plot((bl['CHWTON/SQM']/bl['CHWTON/SQM'].max()), label = bl['bldgname'][0])\n",
    "            ax[counter,0].set_title(str(bl['Month'].iloc[0]) + '/' + str(bl['Day'].iloc[0]), fontsize = 15)\n",
    "            ax[counter,0].legend()\n",
    "            ax[counter,1].plot(bl['Air Temp'], label = bl['bldgname'][0])\n",
    "            ax[counter,1].set_title(str(bl['Month'].iloc[0]) + '/' + str(bl['Day'].iloc[0]), fontsize = 15)\n",
    "            ax[counter,1].legend()"
   ]
  },
  {
   "cell_type": "code",
   "execution_count": null,
   "id": "58fe1227",
   "metadata": {},
   "outputs": [],
   "source": [
    "fig, axes = plt.subplots(3,1,figsize=(10,15))\n",
    "\n",
    "for i in b['Month'].unique():\n",
    "    m = b[(b['Month'] == i)]\n",
    "    for z in m['Day'].unique():\n",
    "        d = m[(m['Day'] == z)]\n",
    "        d[d['bldgname'] == 'ISTB 4'].plot(y = 'CHWTON/SQFT', x = 'Hour', ax = axes[0], label = str(d['Month'][0]) + '/' + str(d['Day'][0]));\n",
    "        d[d['bldgname'] == 'Psychology'].plot(y = 'CHWTON/SQFT', x = 'Hour', ax = axes[1], label = str(d['Month'][0]) + '/' + str(d['Day'][0]));\n",
    "        d[d['bldgname'] == 'Psychology'].plot(y = 'CHWTON/SQFT', x = 'Hour', ax = axes[2], label = str(d['Month'][0]) + '/' + str(d['Day'][0]));\n"
   ]
  },
  {
   "cell_type": "code",
   "execution_count": null,
   "id": "29ed0f1b-2b0d-4cc3-914d-ed176901f836",
   "metadata": {
    "colab": {
     "base_uri": "https://localhost:8080/",
     "height": 932
    },
    "id": "29ed0f1b-2b0d-4cc3-914d-ed176901f836",
    "outputId": "054e278d-3058-4a82-95d5-19ff467fe239"
   },
   "outputs": [],
   "source": [
    "corrMatrix = Bldg.corr()\n",
    "plt.figure(figsize=(15,15))\n",
    "sns.heatmap(corrMatrix, cmap='RdYlGn', annot = True, linewidths = 1)\n",
    "plt.show()"
   ]
  },
  {
   "cell_type": "code",
   "execution_count": null,
   "id": "kdMhKh6335f2",
   "metadata": {
    "colab": {
     "base_uri": "https://localhost:8080/",
     "height": 851
    },
    "id": "kdMhKh6335f2",
    "outputId": "a5c14b0d-f215-426c-c457-4db5197d106c",
    "scrolled": true
   },
   "outputs": [],
   "source": [
    "# ## CHOOSE Y TO PLOT ##\n",
    "# y = 'HTmmBTU'\n",
    "# df = J9.copy()\n",
    "# df = undummify(df)\n",
    "# for i in df['bldgname'].unique():\n",
    "#     b = df[df['bldgname'] == i]\n",
    "#     c = undummify(Scen1)\n",
    "#     c = (c[c['bldgname'] == i])\n",
    "#     ax = b.plot(y = y, label = \"Baseline\", \n",
    "#                 ylabel = y, title = i)\n",
    "#     c.plot(y = y, label = \"Scenario\",\n",
    "#          ylabel = y, ax=ax)"
   ]
  },
  {
   "cell_type": "markdown",
   "id": "-so_mSvajrw5",
   "metadata": {
    "id": "-so_mSvajrw5",
    "tags": []
   },
   "source": [
    "# 3. Random Forests Model"
   ]
  },
  {
   "cell_type": "code",
   "execution_count": null,
   "id": "ExQp6ui7Dwyc",
   "metadata": {
    "colab": {
     "base_uri": "https://localhost:8080/",
     "height": 135
    },
    "id": "ExQp6ui7Dwyc",
    "outputId": "f2205039-cd74-4bdb-fd53-045b00c91a94"
   },
   "outputs": [],
   "source": [
    "### PREPROCESSING DATA FOR MODEL ###\n",
    "# , 'DSW Top', 'DSW North','DSW East','DSW South','DSW West'\n",
    "MD = Bldg.copy()\n",
    "# Remove Columns\n",
    "MD = MD.drop(columns = ['Rel Hum', 'Minute','CHWTON/SQFT'])\n",
    "\n",
    "# Select ISTB4, Psychology, and Psychology North\n",
    "MD = MD[(MD['bldgname'] == 'ISTB 4') | (MD['bldgname'] == 'Psychology') | (MD['bldgname'] == 'Psychology North')]\n",
    "\n",
    "# One hot encode building names\n",
    "MD = pd.get_dummies(MD)\n",
    "# Remove June 9 from data and save to new df\n",
    "J9 = MD.loc['2018-06-09']\n",
    "MD.drop(MD[(MD['Day'] == 9) & (MD['Month'] == 6)].index, inplace = True)\n",
    "# Check if June 9 data is still in MD\n",
    "MD.loc['2018-06-09']"
   ]
  },
  {
   "cell_type": "code",
   "execution_count": null,
   "id": "a84025f0",
   "metadata": {},
   "outputs": [],
   "source": [
    "J9"
   ]
  },
  {
   "cell_type": "code",
   "execution_count": null,
   "id": "9ac4bbbf",
   "metadata": {},
   "outputs": [],
   "source": [
    "Psyc = J9[J9['bldgname_Psychology'] == 1]\n",
    "Psyc_N = J9[J9['bldgname_Psychology North'] == 1]\n",
    "ISTB4  = J9[J9['bldgname_ISTB 4'] == 1]"
   ]
  },
  {
   "cell_type": "code",
   "execution_count": null,
   "id": "765fba34",
   "metadata": {},
   "outputs": [],
   "source": [
    "fig, ax = plt.subplots()\n",
    "yplot = 'Abs Hum'\n",
    "ylab = 'Abs Hum'\n",
    "title = 'Absolute Humidity - June 9, 2018'\n",
    "Psyc.plot(x = 'Date_Time', y = yplot, label = 'Psychology', xlabel = 'Time', ylabel = ylab, title = title,ax = ax)\n",
    "Psyc_N.plot(x = 'Date_Time', y = yplot, label = 'Psychology North', xlabel = 'Time', ylabel = ylab, ax = ax)\n",
    "ISTB4.plot(x = 'Date_Time', y = yplot, label = 'ISTB 4', xlabel = 'Time', ylabel = ylab, ax = ax)"
   ]
  },
  {
   "cell_type": "code",
   "execution_count": null,
   "id": "d4540e4b",
   "metadata": {},
   "outputs": [],
   "source": [
    "fig, ax = plt.subplots()\n",
    "yplot = 'Air Temp'\n",
    "ylab = 'Air Temp'\n",
    "title = 'Air Temperature - June 9, 2018'\n",
    "Psyc.plot(x = 'Date_Time', y = yplot, label = 'Psychology', xlabel = 'Time', ylabel = ylab, title = title,ax = ax)\n",
    "Psyc_N.plot(x = 'Date_Time', y = yplot, label = 'Psychology North', xlabel = 'Time', ylabel = ylab, ax = ax)\n",
    "ISTB4.plot(x = 'Date_Time', y = yplot, label = 'ISTB 4', xlabel = 'Time', ylabel = ylab, ax = ax)"
   ]
  },
  {
   "cell_type": "code",
   "execution_count": null,
   "id": "6819d34a",
   "metadata": {},
   "outputs": [],
   "source": [
    "fig, ax = plt.subplots()\n",
    "yplot = 'DSW South'\n",
    "ylab = 'DSW South'\n",
    "title = 'Direct Shortwave (South) - June 9, 2018'\n",
    "Psyc.plot(x = 'Date_Time', y = yplot, label = 'Psychology', xlabel = 'Time', ylabel = ylab, title = title,ax = ax)\n",
    "Psyc_N.plot(x = 'Date_Time', y = yplot, label = 'Psychology North', xlabel = 'Time', ylabel = ylab, ax = ax)\n",
    "ISTB4.plot(x = 'Date_Time', y = yplot, label = 'ISTB 4', xlabel = 'Time', ylabel = ylab, ax = ax)"
   ]
  },
  {
   "cell_type": "code",
   "execution_count": null,
   "id": "81e4f3e1",
   "metadata": {},
   "outputs": [],
   "source": [
    "fig, ax = plt.subplots()\n",
    "yplot = 'Shade South'\n",
    "ylab = 'Shade South'\n",
    "title = 'Shade (South) - June 9, 2018'\n",
    "Psyc.plot(x = 'Date_Time', y = yplot, label = 'Psychology', xlabel = 'Time', ylabel = ylab, title = title,ax = ax)\n",
    "Psyc_N.plot(x = 'Date_Time', y = yplot, label = 'Psychology North', xlabel = 'Time', ylabel = ylab, ax = ax)\n",
    "ISTB4.plot(x = 'Date_Time', y = yplot, label = 'ISTB 4', xlabel = 'Time', ylabel = ylab, ax = ax)"
   ]
  },
  {
   "cell_type": "code",
   "execution_count": null,
   "id": "83893355-4fa2-47cf-acdf-d14481127ac3",
   "metadata": {},
   "outputs": [],
   "source": [
    "J9"
   ]
  },
  {
   "cell_type": "code",
   "execution_count": null,
   "id": "6071f865-5d7d-4a67-bb12-d059e0cbf753",
   "metadata": {},
   "outputs": [],
   "source": [
    "# export MD as csv\n",
    "# dropcols = ['Date_Time', 'Month', 'Hour', 'Day']\n",
    "# MD_export =  MD.drop(columns=dropcols)\n",
    "# train_filepath =\"././Data/microclimate_model/Combined/three_bldgs_dropped.csv\"\n",
    "# MD_export.to_csv(train_filepath)\n",
    "\n",
    "# # export J9 as csv\n",
    "# test_filepath =\"././Data/microclimate_model/Combined/three_bldgs_J9_dropped.csv\"\n",
    "# J9_export = J9.drop(columns=dropcols)\n",
    "# J9_export.to_csv(test_filepath)"
   ]
  },
  {
   "cell_type": "markdown",
   "id": "11b5a9a3-9464-4237-9a20-40b7030f9861",
   "metadata": {
    "tags": []
   },
   "source": [
    "## 3.1 RandomForests no Tuning"
   ]
  },
  {
   "cell_type": "code",
   "execution_count": null,
   "id": "xHdbw6tXFoYl",
   "metadata": {
    "colab": {
     "base_uri": "https://localhost:8080/"
    },
    "id": "xHdbw6tXFoYl",
    "outputId": "52c14a0d-3d75-4e3c-e63b-c918f47a0676"
   },
   "outputs": [],
   "source": [
    "## TRAIN-VALIDATE SPLIT --> FIT RF MODEL --> GET SCORE ##\n",
    "\n",
    "# 1. Get X and y\n",
    "dropcols = ['CHWTON/SQM', 'Date_Time', 'Month', 'Hour', 'Day']\n",
    "X = MD.drop(columns=dropcols)\n",
    "y = MD['CHWTON/SQM']  \n",
    "    \n",
    "# 2. Train-Validate Split\n",
    "X_train, X_validate, y_train, y_validate = train_test_split(X, y, test_size=0.3, random_state=20)\n",
    "\n",
    "# 3. RF\n",
    "RF_base = RandomForestRegressor(n_estimators = 100, random_state = 42, oob_score = True)\n",
    "\n",
    "# # 4. Fit model that already has parameters\n",
    "RF_base.fit(X_train, y_train)"
   ]
  },
  {
   "cell_type": "code",
   "execution_count": null,
   "id": "UMn21YXAlTY2",
   "metadata": {
    "colab": {
     "base_uri": "https://localhost:8080/",
     "height": 488
    },
    "id": "UMn21YXAlTY2",
    "outputId": "c1921497-4955-4a8f-99b1-08f13b1bea8f"
   },
   "outputs": [],
   "source": [
    "## FEATURE IMPORTANCE ##\n",
    "pd.DataFrame({\"Features\":RF_base.feature_names_in_, \n",
    "              \"Feature Importance\":RF_base.feature_importances_}).sort_values(by='Feature Importance', ascending=False)"
   ]
  },
  {
   "cell_type": "code",
   "execution_count": null,
   "id": "Cw0ykRTevhYT",
   "metadata": {
    "colab": {
     "base_uri": "https://localhost:8080/"
    },
    "id": "Cw0ykRTevhYT",
    "outputId": "beefacba-67c2-4ede-c5b2-d58798d1515e"
   },
   "outputs": [],
   "source": [
    "print('criterion: ', RF_base.criterion)\n",
    "print('max_depth: ', RF_base.max_depth)\n",
    "print('min_samples_split: ', RF_base.min_samples_split)\n",
    "print('min_samples_leaf: ', RF_base.min_samples_leaf)\n",
    "print('min_weight_fraction_leaf: ', RF_base.min_weight_fraction_leaf)\n",
    "print('max_features: ', RF_base.max_features)\n",
    "print('max_leaf_nodes: ', RF_base.max_leaf_nodes)\n",
    "print('min_impurity_decrease: ', RF_base.min_impurity_decrease)\n",
    "print('random_state: ', RF_base.random_state)\n",
    "print('ccp_alpha: ', RF_base.ccp_alpha)"
   ]
  },
  {
   "cell_type": "code",
   "execution_count": null,
   "id": "LqKKrDyx-Me1",
   "metadata": {
    "colab": {
     "base_uri": "https://localhost:8080/",
     "height": 144
    },
    "id": "LqKKrDyx-Me1",
    "outputId": "e0174ff1-8594-419a-dce2-e55de754239f"
   },
   "outputs": [],
   "source": [
    "## TEST AND VALIDATION SCORES ##\n",
    "\n",
    "# Validation Score on All\n",
    "scoreValidate = RF_base.score(X_validate, y_validate)\n",
    "\n",
    "# Test Score on All\n",
    "X_test = J9.drop(columns=dropcols)\n",
    "Y_test = J9['CHWTON/SQM']\n",
    "Y_pred = RF_base.predict(X_test)\n",
    "scoreTest = RF_base.score(X_test, Y_test)\n",
    "\n",
    "# J\n",
    "J9B = []\n",
    "ScoresT = []\n",
    "for i in ['ISTB 4', 'Psychology', 'Psychology North']:\n",
    "    b = J9[J9['bldgname_' + i] == 1]\n",
    "    J9B.append(b)\n",
    "    X_test = b.drop(columns=dropcols)\n",
    "    y_test = b['CHWTON/SQM']\n",
    "    ScoresT.append(RF_base.score(X_test, y_test))\n",
    "\n",
    "AllBuildingsTest = pd.DataFrame({'Building':['ISTB 4', 'Psychology', 'Psychology North'], \n",
    "                                 '[Test Scores (June 9) Individual]': ScoresT,\n",
    "                                 '[Test Score (June 9) All]' : scoreTest,\n",
    "                                 '[Validation Score All]': scoreValidate})\n",
    "AllBuildingsTest"
   ]
  },
  {
   "cell_type": "code",
   "execution_count": null,
   "id": "cItsWtya1U3Q",
   "metadata": {
    "id": "cItsWtya1U3Q"
   },
   "outputs": [],
   "source": [
    "### JUNE 9 SENSITIVITY ###\n",
    "\n",
    "## AIR TEMP AND ABS HUM ##\n",
    "AirTdelta = -0.5\n",
    "AbsHdelta = 0\n",
    "Scen1 = J9.copy()\n",
    "Scen1['Air Temp'] = Scen1['Air Temp'] + AirTdelta\n",
    "Scen1['Abs Hum'] = Scen1['Abs Hum'] + AbsHdelta\n",
    "\n",
    "## SHADING ##\n",
    "shadred = 0\n",
    "\n",
    "# SINGLE FACADE #\n",
    "f = 'Shade South'\n",
    "Scen1[f] = Scen1[f] + shadred\n",
    "Scen1.loc[Scen1[f] > 1, f] = 1\n",
    "\n",
    "# ALL FACADES #\n",
    "# shadcol = ['Shade East', 'Shade West', 'Shade North', 'Shade South']\n",
    "# for i in shadcol: \n",
    "#   Scen1[i] = Scen1[i] + shadred\n",
    "#   Scen1.loc[Scen1[i] + shadred > 1, i] = 1\n",
    "\n",
    "\n",
    "X_scentest = Scen1.drop(columns=dropcols)\n",
    "Y_scenpred = RF_base.predict(X_scentest)"
   ]
  },
  {
   "cell_type": "code",
   "execution_count": null,
   "id": "e5W-bJNWGkzf",
   "metadata": {
    "colab": {
     "base_uri": "https://localhost:8080/",
     "height": 851
    },
    "id": "e5W-bJNWGkzf",
    "outputId": "eabbce4a-f616-4351-aa45-9838b2cee3c8"
   },
   "outputs": [],
   "source": [
    "## PREDICTION PLOTS ##\n",
    "X_test = J9.drop(columns=dropcols)\n",
    "Y_test = J9['CHWTON/SQM']\n",
    "Y_pred = RF_base.predict(X_test)\n",
    "df = X_test.copy()\n",
    "df['Predicted'] = Y_pred\n",
    "df['Actual'] = Y_test\n",
    "df['Scenario'] = Y_scenpred\n",
    "df = undummify(df)\n",
    "for i in df['bldgname'].unique():\n",
    "    b = df[df['bldgname'] == i]\n",
    "    l = str(round(((b['Predicted'].mean() - \n",
    "                    b['Actual'].mean())/b['Actual'].mean())*100,2)) + \" %\"\n",
    "    ax = b.plot(y = 'Predicted', label = \"Predicted\", \n",
    "                ylabel = 'CHWTON/SQM', title = i + \"    [Avg Diff:  \" + l + ']')\n",
    "    b.plot(y = 'Actual', label = 'Actual', ax=ax)"
   ]
  },
  {
   "cell_type": "code",
   "execution_count": null,
   "id": "tJiIrXw9IRnF",
   "metadata": {
    "colab": {
     "base_uri": "https://localhost:8080/",
     "height": 851
    },
    "id": "tJiIrXw9IRnF",
    "outputId": "78ffed13-8dc2-4655-b1d5-cd20f42fea6e"
   },
   "outputs": [],
   "source": [
    "## SCENARIO PLOTS ##\n",
    "X_test = J9.drop(columns=dropcols)\n",
    "Y_test = J9['CHWTON/SQM']\n",
    "Y_pred = RF_base.predict(X_test)\n",
    "df = X_test.copy()\n",
    "df['Predicted'] = Y_pred\n",
    "df['Actual'] = Y_test\n",
    "df['Scenario'] = Y_scenpred\n",
    "df = undummify(df)\n",
    "for i in df['bldgname'].unique():\n",
    "    b = df[df['bldgname'] == i]\n",
    "    l = str(round(((b['Scenario'].mean() - \n",
    "                    b['Predicted'].mean())/b['Predicted'].mean())*100,2)) + \" %\"\n",
    "    ax = b.plot(y = 'Predicted', label = \"Predicted\", \n",
    "                ylabel = 'CHWTON/SQM', title = i + \"    [Avg Diff:  \" + l + ']')\n",
    "    b.plot(y = 'Scenario', label = 'Scenario', ax=ax)"
   ]
  },
  {
   "cell_type": "markdown",
   "id": "13dbd062-bcd5-42d7-ab8b-3bdffcc6e943",
   "metadata": {
    "tags": []
   },
   "source": [
    "## 3.2 Random Forests Tuned"
   ]
  },
  {
   "cell_type": "code",
   "execution_count": null,
   "id": "d66aabf6-2593-43de-93ad-e4f3c51ec242",
   "metadata": {},
   "outputs": [],
   "source": [
    "param_test = {'n_estimators': [100,200,300,400],\n",
    "              'criterion': ['squared_error', 'absolute_error', 'poisson'],\n",
    "              'max_depth': [None, 100,200,300],\n",
    "              'max_features': ['auto', 'log2', 0.1, 0.2, 0.3, 0.4, 0.5, 0.6, 0.7, 0.8, 0.9, 1]\n",
    "             }\n",
    "\n",
    "rf = RandomForestRegressor()\n",
    "rfgs = RandomizedSearchCV(\n",
    "    estimator = rf, param_distributions=param_test,\n",
    "    cv=3,\n",
    "    refit=True,\n",
    "    random_state=42,\n",
    "    verbose=True)\n",
    "rfgs.fit(X_train, y_train)"
   ]
  },
  {
   "cell_type": "code",
   "execution_count": null,
   "id": "270148c5-4c74-4e4c-b734-b07f707807e2",
   "metadata": {},
   "outputs": [],
   "source": [
    "rfgs.best_params_"
   ]
  },
  {
   "cell_type": "code",
   "execution_count": null,
   "id": "6226f1fd-3950-45eb-a832-72af3d29cbf7",
   "metadata": {},
   "outputs": [],
   "source": [
    "RF_tuned = RandomForestRegressor(n_estimators = 400,\n",
    "                                 max_features = 0.6,\n",
    "                                 random_state = 42,\n",
    "                                 max_depth = 300,\n",
    "                                 criterion = 'absolute_error')\n",
    "RF_tuned.fit(X_train, y_train)"
   ]
  },
  {
   "cell_type": "code",
   "execution_count": null,
   "id": "531fa6f7-6026-495e-83ee-1a7a5dc4b797",
   "metadata": {},
   "outputs": [],
   "source": [
    "# save the best model\n",
    "import pickle\n",
    "filename = 'rf_ali.sav'\n",
    "pickle.dump(RF_tuned, open(filename, 'wb'))\n",
    "\n",
    "# try load\n",
    "loaded_model_name = \"rf_ali\"\n",
    "loaded_model = pickle.load(open(filename, 'rb'))"
   ]
  },
  {
   "cell_type": "code",
   "execution_count": null,
   "id": "b7c11553-bd68-4a16-b3a5-7404766f00f4",
   "metadata": {
    "colab": {
     "base_uri": "https://localhost:8080/",
     "height": 488
    },
    "id": "UMn21YXAlTY2",
    "outputId": "c1921497-4955-4a8f-99b1-08f13b1bea8f"
   },
   "outputs": [],
   "source": [
    "## FEATURE IMPORTANCE ##\n",
    "pd.DataFrame({\"Features\":RF_tuned.feature_names_in_, \n",
    "              \"Feature Importance\":RF_tuned.feature_importances_}).sort_values(by='Feature Importance', ascending=False)"
   ]
  },
  {
   "cell_type": "code",
   "execution_count": null,
   "id": "a3c1f681-b700-4c8f-91cb-d05d8793ead7",
   "metadata": {
    "colab": {
     "base_uri": "https://localhost:8080/"
    },
    "id": "Cw0ykRTevhYT",
    "outputId": "beefacba-67c2-4ede-c5b2-d58798d1515e"
   },
   "outputs": [],
   "source": [
    "print('criterion: ', RF_tuned.criterion)\n",
    "print('max_depth: ', RF_tuned.max_depth)\n",
    "print('min_samples_split: ', RF_tuned.min_samples_split)\n",
    "print('min_samples_leaf: ', RF_tuned.min_samples_leaf)\n",
    "print('min_weight_fraction_leaf: ', RF_tuned.min_weight_fraction_leaf)\n",
    "print('max_features: ', RF_tuned.max_features)\n",
    "print('max_leaf_nodes: ', RF_tuned.max_leaf_nodes)\n",
    "print('min_impurity_decrease: ', RF_tuned.min_impurity_decrease)\n",
    "print('random_state: ', RF_tuned.random_state)\n",
    "print('ccp_alpha: ', RF_tuned.ccp_alpha)"
   ]
  },
  {
   "cell_type": "code",
   "execution_count": null,
   "id": "46789a90-1b40-4607-910a-39498aa195d9",
   "metadata": {
    "colab": {
     "base_uri": "https://localhost:8080/",
     "height": 144
    },
    "id": "LqKKrDyx-Me1",
    "outputId": "e0174ff1-8594-419a-dce2-e55de754239f"
   },
   "outputs": [],
   "source": [
    "## TEST AND VALIDATION SCORES ##\n",
    "\n",
    "# Validation Score on All\n",
    "scoreValidate = RF_tuned.score(X_validate, y_validate)\n",
    "\n",
    "# Test Score on All\n",
    "X_test = J9.drop(columns=dropcols)\n",
    "Y_test = J9['CHWTON/SQM']\n",
    "Y_pred = RF_tuned.predict(X_test)\n",
    "scoreTest = RF_tuned.score(X_test, Y_test)\n",
    "\n",
    "# J\n",
    "J9B = []\n",
    "ScoresT = []\n",
    "for i in ['ISTB 4', 'Psychology', 'Psychology North']:\n",
    "    b = J9[J9['bldgname_' + i] == 1]\n",
    "    J9B.append(b)\n",
    "    X_test = b.drop(columns=dropcols)\n",
    "    y_test = b['CHWTON/SQM']\n",
    "    ScoresT.append(RF_tuned.score(X_test, y_test))\n",
    "\n",
    "AllBuildingsTest = pd.DataFrame({'Building':['ISTB 4', 'Psychology', 'Psychology North'], \n",
    "                                 '[Test Scores (June 9) Individual]': ScoresT,\n",
    "                                 '[Test Score (June 9) All]' : scoreTest,\n",
    "                                 '[Validation Score All]': scoreValidate})\n",
    "AllBuildingsTest"
   ]
  },
  {
   "cell_type": "markdown",
   "id": "3756fe9d-3bb3-453d-8265-94f9f7a8f82c",
   "metadata": {},
   "source": [
    "# 4.0 Scenario Setting"
   ]
  },
  {
   "cell_type": "code",
   "execution_count": null,
   "id": "5cd00041-8a65-42ef-9df3-42785e333be5",
   "metadata": {
    "id": "cItsWtya1U3Q"
   },
   "outputs": [],
   "source": [
    "### JUNE 9 SENSITIVITY ###\n",
    "\n",
    "## AIR TEMP AND ABS HUM ##\n",
    "AirTdelta = -0.5\n",
    "AbsHdelta = -0.5\n",
    "Scen1 = J9.copy()\n",
    "Scen1['Air Temp'] = Scen1['Air Temp'] + AirTdelta\n",
    "# Scen1['Abs Hum'] = Scen1['Abs Hum'] + AbsHdelta\n",
    "\n",
    "## SHADING ##\n",
    "shadred = 0.2\n",
    "\n",
    "# SINGLE FACADE #\n",
    "# f = 'Shade East'\n",
    "# Scen1[f] = Scen1[f] + shadred\n",
    "# Scen1.loc[Scen1[f] > 1, f] = 1\n",
    "\n",
    "# ALL FACADES #\n",
    "# shadcol = ['Shade East', 'Shade West', 'Shade North', 'Shade South']\n",
    "# for i in shadcol: \n",
    "#     Scen1[i] = Scen1[i] + shadred\n",
    "#     Scen1.loc[Scen1[i] + shadred > 1, i] = 1\n",
    "\n",
    "\n",
    "X_scentest = Scen1.drop(columns=dropcols)\n",
    "Y_scenpred = RF_tuned.predict(X_scentest)"
   ]
  },
  {
   "cell_type": "markdown",
   "id": "2faf2255-04c4-4ed5-90d6-8a18d4df1544",
   "metadata": {},
   "source": [
    "# 4.1 Tuned Plot: Prediction VS Actual"
   ]
  },
  {
   "cell_type": "code",
   "execution_count": null,
   "id": "9dd62a44-06af-4176-927f-6e5684e924fe",
   "metadata": {
    "colab": {
     "base_uri": "https://localhost:8080/",
     "height": 851
    },
    "id": "e5W-bJNWGkzf",
    "outputId": "eabbce4a-f616-4351-aa45-9838b2cee3c8"
   },
   "outputs": [],
   "source": [
    "## PREDICTION PLOTS ##\n",
    "X_test = J9.drop(columns=dropcols)\n",
    "Y_test = J9['CHWTON/SQM']\n",
    "Y_pred = RF_tuned.predict(X_test)\n",
    "df = X_test.copy()\n",
    "df['Predicted'] = Y_pred\n",
    "df['Actual'] = Y_test\n",
    "df = undummify(df)\n",
    "blist = []\n",
    "for i in df['bldgname'].unique():\n",
    "    b = df[df['bldgname'] == i]\n",
    "    blist.append(b)\n",
    "    l = str(round(((b['Predicted'].mean() - \n",
    "                    b['Actual'].mean())/b['Actual'].mean())*100,2)) + \" %\"\n",
    "    ax = b.plot(y = 'Predicted', label = \"Predicted\", \n",
    "                ylabel = 'CHWTON/SQM', title = i + \"    [Avg Diff:  \" + l + ']')\n",
    "    b.plot(y = 'Actual', label = 'Actual', ax=ax)"
   ]
  },
  {
   "cell_type": "code",
   "execution_count": null,
   "id": "b2a68628-a160-4b62-94e5-a7af5972c666",
   "metadata": {
    "scrolled": true
   },
   "outputs": [],
   "source": [
    "# b = blist[2]\n",
    "\n",
    "# l = str(round(((b['Predicted'].mean() - \n",
    "#                 b['Actual'].mean())/b['Actual'].mean())*100,2)) + \" %\"\n",
    "# ax = b.plot(y = 'Predicted', label = \"Predicted\", \n",
    "#             ylabel = 'CHWTON/SQM', title = b['bldgname'][0] + \"    [Avg Diff:  \" + l + ']')\n",
    "# b.plot(y = 'Actual', label = 'Actual', ax=ax)"
   ]
  },
  {
   "cell_type": "code",
   "execution_count": null,
   "id": "9b8e4366",
   "metadata": {},
   "outputs": [],
   "source": [
    "# X_test['Shade North'].plot()"
   ]
  },
  {
   "cell_type": "code",
   "execution_count": null,
   "id": "139c02f9",
   "metadata": {},
   "outputs": [],
   "source": [
    "# X_scentest['Shade North'].plot()"
   ]
  },
  {
   "cell_type": "markdown",
   "id": "21eb3395-3233-4c14-92cc-c9738a321f9e",
   "metadata": {},
   "source": [
    "# 4.2 Scenario Plot"
   ]
  },
  {
   "cell_type": "markdown",
   "id": "b4a24389-90fb-4667-8430-5be96ff625d8",
   "metadata": {},
   "source": [
    "## 4.2.1 RF"
   ]
  },
  {
   "cell_type": "code",
   "execution_count": null,
   "id": "e74b82a2-b85c-4ab0-9155-13742671bf53",
   "metadata": {
    "colab": {
     "base_uri": "https://localhost:8080/",
     "height": 851
    },
    "id": "tJiIrXw9IRnF",
    "outputId": "78ffed13-8dc2-4655-b1d5-cd20f42fea6e"
   },
   "outputs": [],
   "source": [
    "## SCENARIO PLOTS RF ##\n",
    "X_test = J9.drop(columns=dropcols)\n",
    "Y_test = J9['CHWTON/SQM']\n",
    "\n",
    "\n",
    "Y_pred = RF_tuned.predict(X_test)\n",
    "\n",
    "df = X_test.copy()\n",
    "df['Predicted'] = Y_pred\n",
    "df['Scenario'] = Y_scenpred\n",
    "df = undummify(df)\n",
    "cols_to_keep = [\"bldgname\", \"Scenario\", \"Predicted\"]\n",
    "df = df.drop(df.columns.difference(cols_to_keep), 1)\n",
    "\n",
    "for i in df['bldgname'].unique():\n",
    "    b = df[df['bldgname'] == i]\n",
    "    l = str(round(((b['Scenario'].mean() - \n",
    "                    b['Predicted'].mean())/b['Predicted'].mean())*100,2)) + \" %\"\n",
    "    ax = b.plot(y = 'Predicted', label = \"Predicted\", \n",
    "                ylabel = 'CHWTON/SQM', title = i + \"    [Avg Diff:  \" + l + ']')\n",
    "    b.plot(y = 'Scenario', label = 'Scenario', ax=ax)\n"
   ]
  },
  {
   "cell_type": "markdown",
   "id": "eacdb85f-0592-43eb-b4ff-3f569ffdf365",
   "metadata": {},
   "source": [
    "## 4.2.2 CB"
   ]
  },
  {
   "cell_type": "code",
   "execution_count": null,
   "id": "2a6d6e74-9320-4e48-8d15-5bbab8a08d6c",
   "metadata": {},
   "outputs": [],
   "source": [
    "MODEL_PATH = 'cb_best.sav'\n",
    "cb_name = \"cb_best\"\n",
    "cb_best = pickle.load(open(MODEL_PATH, 'rb'))"
   ]
  },
  {
   "cell_type": "code",
   "execution_count": null,
   "id": "37e8e284-0114-45f8-8fd0-57d8f266fa5b",
   "metadata": {},
   "outputs": [],
   "source": [
    "### JUNE 9 SENSITIVITY ###\n",
    "\n",
    "## AIR TEMP AND ABS HUM ##\n",
    "AirTdelta = -0.5\n",
    "AbsHdelta = -0.5\n",
    "Scen1 = J9.copy()\n",
    "# Scen1['Air Temp'] = Scen1['Air Temp'] + AirTdelta\n",
    "# Scen1['Abs Hum'] = Scen1['Abs Hum'] + AbsHdelta\n",
    "\n",
    "## SHADING ##\n",
    "shadred = 0.2\n",
    "\n",
    "# SINGLE FACADE #\n",
    "f = 'Shade West'\n",
    "Scen1[f] = Scen1[f] + shadred\n",
    "Scen1.loc[Scen1[f] > 1, f] = 1\n",
    "\n",
    "# ALL FACADES #\n",
    "# shadcol = ['Shade East', 'Shade West', 'Shade North', 'Shade South']\n",
    "# for i in shadcol: \n",
    "#     Scen1[i] = Scen1[i] + shadred\n",
    "#     Scen1.loc[Scen1[i] + shadred > 1, i] = 1\n",
    "\n",
    "\n",
    "X_scentest = Scen1.drop(columns=dropcols)\n",
    "Y_scenpred = cb_best.predict(X_scentest)"
   ]
  },
  {
   "cell_type": "code",
   "execution_count": null,
   "id": "21b02e07-e81e-4c4f-a723-ba1f4b7d1d93",
   "metadata": {},
   "outputs": [],
   "source": [
    "## SCENARIO PLOTS CB##\n",
    "X_test = J9.drop(columns=dropcols)\n",
    "X_test_cb = X_test.drop(columns = [\"bldgname_ISTB 4\"])\n",
    "Y_test = J9['CHWTON/SQM']\n",
    "\n",
    "\n",
    "Y_pred = cb_best.predict(X_test_cb)\n",
    "\n",
    "df = X_test.copy()\n",
    "df[\"Actual\"] = Y_test\n",
    "df['Predicted'] = Y_pred\n",
    "df['Scenario'] = Y_scenpred\n",
    "df = undummify(df)\n",
    "cols_to_keep = [\"bldgname\", \"Scenario\", \"Predicted\", \"Actual\"]\n",
    "df = df.drop(df.columns.difference(cols_to_keep), 1)\n",
    "df\n"
   ]
  },
  {
   "cell_type": "code",
   "execution_count": null,
   "id": "9e122d89-10fe-4896-8c2f-2cbc2bc16c14",
   "metadata": {},
   "outputs": [],
   "source": [
    "for i in df['bldgname'].unique():\n",
    "    b = df[df['bldgname'] == i]\n",
    "    blist.append(b)\n",
    "    l = str(round(((b['Scenario'].mean() - \n",
    "                    b['Predicted'].mean())/b['Predicted'].mean())*100,2)) + \" %\"\n",
    "    ax = b.plot(y = 'Predicted', label = \"Predicted\", \n",
    "                ylabel = 'CHWTON/SQM', title = i + \"    [Avg Diff:  \" + l + ']')\n",
    "    b.plot(y = 'Scenario', label = 'Scenario', ax=ax)\n"
   ]
  },
  {
   "cell_type": "code",
   "execution_count": null,
   "id": "48dffc25-3412-4ee1-9d30-684b00244fb9",
   "metadata": {},
   "outputs": [],
   "source": [
    "# b = blist[2]\n",
    "# i = b['bldgname'][0]\n",
    "# l = str(round(((b['Scenario'].mean() - \n",
    "#                 b['Predicted'].mean())/b['Predicted'].mean())*100,2)) + \" %\"\n",
    "# ax = b.plot(y = 'Predicted', label = \"Predicted\", \n",
    "#             ylabel = 'CHWTON/SQM', title = i + \"    [Avg Diff:  \" + l + ']')\n",
    "# b.plot(y = 'Scenario', label = 'Scenario', ax=ax)"
   ]
  },
  {
   "cell_type": "code",
   "execution_count": null,
   "id": "8719de25-c48a-4be2-ac3b-f7fe1d4a65d9",
   "metadata": {},
   "outputs": [],
   "source": []
  },
  {
   "cell_type": "markdown",
   "id": "2106b93b",
   "metadata": {},
   "source": [
    "## Model Interpretation: SHAP"
   ]
  },
  {
   "cell_type": "code",
   "execution_count": null,
   "id": "c25927ba",
   "metadata": {},
   "outputs": [],
   "source": [
    "## Using Feature Importance\n",
    "feature_imp= pd.DataFrame(sorted(zip(RF_tuned.feature_importances_, X_train.columns), reverse = True), columns = ['Value', 'Feature'])\n",
    "\n",
    "plt.figure(figsize=(7,5))\n",
    "sns.barplot(x='Value', y='Feature', data=feature_imp[:20].sort_values(by='Value', ascending=False))\n",
    "plt.tight_layout()\n",
    "plt.show()"
   ]
  },
  {
   "cell_type": "code",
   "execution_count": null,
   "id": "6b2db8a9",
   "metadata": {},
   "outputs": [],
   "source": [
    "import math\n",
    "from sklearn.metrics import r2_score, mean_squared_error"
   ]
  },
  {
   "cell_type": "code",
   "execution_count": null,
   "id": "8b24f7bd-083a-43d7-8e3e-d0795847a1e1",
   "metadata": {},
   "outputs": [],
   "source": [
    "def MBE(y_true, y_pred):\n",
    "    '''\n",
    "    Parameters:\n",
    "        y_true (array): Array of observed values\n",
    "        y_pred (array): Array of prediction values\n",
    "\n",
    "    Returns:\n",
    "        mbe (float): Biais score\n",
    "    '''\n",
    "    y_true = np.array(y_true)\n",
    "    y_pred = np.array(y_pred)\n",
    "    y_true = y_true.reshape(len(y_true),1)\n",
    "    y_pred = y_pred.reshape(len(y_pred),1)   \n",
    "    diff = (y_pred-y_true)\n",
    "    mbe = diff.mean()\n",
    "    print('MBE = ', mbe)"
   ]
  },
  {
   "cell_type": "code",
   "execution_count": null,
   "id": "3d4560d0-5696-4eb8-9bed-57056420f877",
   "metadata": {},
   "outputs": [],
   "source": [
    "pred = RF_base.predict(X_test)\n",
    "r2 = r2_score(Y_test, pred)\n",
    "rmse = math.sqrt(mean_squared_error(Y_test, pred))\n",
    "MBE(Y_test, pred)\n",
    "print(\"r2 score: \", r2)\n",
    "print(\"rmse score: \", rmse)"
   ]
  },
  {
   "cell_type": "code",
   "execution_count": null,
   "id": "7c03d16c",
   "metadata": {},
   "outputs": [],
   "source": [
    "pred"
   ]
  },
  {
   "cell_type": "code",
   "execution_count": null,
   "id": "5bd521f1-1b8d-4214-bb6a-9823cd3769b6",
   "metadata": {},
   "outputs": [],
   "source": [
    "pred = RF_tuned.predict(X_test)\n",
    "r2 = r2_score(Y_test, pred)\n",
    "rmse = math.sqrt(mean_squared_error(Y_test, pred))\n",
    "MBE(Y_test, pred)\n",
    "print(\"tuned r2 score: \", r2)\n",
    "print(\"tuned rmse score: \", rmse)"
   ]
  },
  {
   "cell_type": "code",
   "execution_count": null,
   "id": "eb5c8374",
   "metadata": {},
   "outputs": [],
   "source": [
    "import shap\n",
    "explainer = shap.TreeExplainer(model=RF_tuned,\n",
    "                               data=None,\n",
    "                               model_output='raw',\n",
    "                               feature_perturbation='tree_path_dependent')\n",
    "\n",
    "shap_values = explainer.shap_values(X_test)"
   ]
  },
  {
   "cell_type": "code",
   "execution_count": null,
   "id": "cc47a7b4",
   "metadata": {
    "scrolled": true
   },
   "outputs": [],
   "source": [
    "# visualize the first prediction's explanation\n",
    "shap.initjs()\n",
    "i = 7\n",
    "shap.force_plot(explainer.expected_value, shap_values[i,:], X_test.iloc[i,:])"
   ]
  },
  {
   "cell_type": "code",
   "execution_count": null,
   "id": "e6350cd9",
   "metadata": {},
   "outputs": [],
   "source": [
    "# visualize the training set predictions\n",
    "shap.force_plot(explainer.expected_value, shap_values, X_test)"
   ]
  },
  {
   "cell_type": "code",
   "execution_count": null,
   "id": "f194e62d",
   "metadata": {},
   "outputs": [],
   "source": [
    "shap.summary_plot(shap_values, X_test, plot_size = [8,6], show = False)\n",
    "plt.gcf().axes[-1].set_aspect(10)\n",
    "plt.gcf().axes[-1].set_box_aspect(10)"
   ]
  },
  {
   "cell_type": "code",
   "execution_count": null,
   "id": "545e2623",
   "metadata": {},
   "outputs": [],
   "source": []
  },
  {
   "cell_type": "code",
   "execution_count": null,
   "id": "8cc926db",
   "metadata": {},
   "outputs": [],
   "source": []
  }
 ],
 "metadata": {
  "colab": {
   "name": "Random_Forest_Model.ipynb",
   "provenance": []
  },
  "kernelspec": {
   "display_name": "Python (myenv)",
   "language": "python",
   "name": "myenv"
  },
  "language_info": {
   "codemirror_mode": {
    "name": "ipython",
    "version": 3
   },
   "file_extension": ".py",
   "mimetype": "text/x-python",
   "name": "python",
   "nbconvert_exporter": "python",
   "pygments_lexer": "ipython3",
   "version": "3.10.13"
  },
  "toc-autonumbering": false,
  "toc-showcode": false
 },
 "nbformat": 4,
 "nbformat_minor": 5
}
