{
 "cells": [
  {
   "cell_type": "markdown",
   "id": "9f3bb8d3-2ed1-4114-8d99-c5f27c71add3",
   "metadata": {},
   "source": [
    "Catboost SHAP and prediction plot"
   ]
  },
  {
   "cell_type": "markdown",
   "id": "cd7c4246-31ff-40c9-972b-7338629c9d11",
   "metadata": {},
   "source": [
    "1) Figure 4. Actual vs model predicted results for test day (June 9, 2018) for (a) Psychology, (b) Psychology North, and (c) ISTB 4.\n",
    "\n",
    "2) Figure 5. Feature importance values for tuned model\n",
    "\n",
    "3) 3 SHAP\n",
    "\n",
    "4) Figure 9. Scenario predictions for 0.5 degree Celsius reduction in air temperature for (a) Psychology, (b) Psychology North, and (c) ISTB 4."
   ]
  },
  {
   "cell_type": "code",
   "execution_count": null,
   "id": "4342498f-07e7-4a5f-9a6e-65d2b8c98742",
   "metadata": {},
   "outputs": [],
   "source": [
    "import pandas as pd\n",
    "import numpy as np\n",
    "\n",
    "# models\n",
    "from sklearn.ensemble import RandomForestRegressor\n",
    "# uncomment to install the three models below >>>>>\n",
    "# !pip3 install catboost\n",
    "from catboost import CatBoostRegressor\n",
    "\n",
    "# processing\n",
    "from sklearn.model_selection import train_test_split\n",
    "from sklearn.model_selection import RepeatedKFold\n",
    "\n",
    "# scoring\n",
    "import math\n",
    "from sklearn.metrics import r2_score, mean_squared_error\n",
    "\n",
    "# viz\n",
    "import seaborn as sns\n",
    "import matplotlib.pyplot as plt\n",
    "import matplotlib.dates as mdates\n",
    "from matplotlib.pyplot import figure\n",
    "\n",
    "# explain\n",
    "import shap\n",
    "import datetime"
   ]
  }
 ],
 "metadata": {
  "kernelspec": {
   "display_name": "Python [conda env:root] *",
   "language": "python",
   "name": "conda-root-py"
  },
  "language_info": {
   "codemirror_mode": {
    "name": "ipython",
    "version": 3
   },
   "file_extension": ".py",
   "mimetype": "text/x-python",
   "name": "python",
   "nbconvert_exporter": "python",
   "pygments_lexer": "ipython3",
   "version": "3.9.7"
  }
 },
 "nbformat": 4,
 "nbformat_minor": 5
}
