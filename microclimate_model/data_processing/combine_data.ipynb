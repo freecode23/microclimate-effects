{
 "cells": [
  {
   "cell_type": "code",
   "execution_count": 444,
   "id": "3223e4d7",
   "metadata": {},
   "outputs": [],
   "source": [
    "import pandas as pd\n",
    "import numpy as np\n",
    "import pathlib\n",
    "import pickle\n",
    "from datetime import datetime\n",
    "import os"
   ]
  },
  {
   "cell_type": "code",
   "execution_count": 445,
   "id": "f6974fb6",
   "metadata": {},
   "outputs": [],
   "source": [
    "Envi = []\n",
    "BldEnrgy = []"
   ]
  },
  {
   "cell_type": "markdown",
   "id": "dc66d6bd",
   "metadata": {},
   "source": [
    "Read energy data for all building files"
   ]
  },
  {
   "cell_type": "code",
   "execution_count": 446,
   "id": "72da61ac",
   "metadata": {},
   "outputs": [],
   "source": [
    "for path in pathlib.Path(\"..microclimate_model/Building-Energy\").iterdir():\n",
    "        if path.is_file():\n",
    "            current_file = pd.read_csv(path)\n",
    "            BldEnrgy.append(current_file)"
   ]
  },
  {
   "cell_type": "markdown",
   "id": "c7e0347b",
   "metadata": {},
   "source": [
    "Read Envi data for all building files"
   ]
  },
  {
   "cell_type": "code",
   "execution_count": 447,
   "id": "749ea440",
   "metadata": {},
   "outputs": [],
   "source": [
    "for path in pathlib.Path(\"..microclimate_model/ENVI-met/processed data 1\").iterdir():\n",
    "        if path.is_file():\n",
    "            current_file = pd.read_csv(path)\n",
    "            Envi.append(current_file)"
   ]
  },
  {
   "cell_type": "markdown",
   "id": "343834b3",
   "metadata": {},
   "source": [
    "Rename file names to combine data"
   ]
  },
  {
   "cell_type": "code",
   "execution_count": 448,
   "id": "36f13f82",
   "metadata": {},
   "outputs": [
    {
     "name": "stdout",
     "output_type": "stream",
     "text": [
      "Noble Library\n",
      "Biodesign A\n",
      "Biodesign C\n",
      "Biodesign B\n",
      "Psychology\n",
      "Goldwater\n",
      "Schwada COB\n",
      "ISTB 2\n",
      "Bulldog Hall\n",
      "ISTB 4\n",
      "Psychology North\n"
     ]
    }
   ],
   "source": [
    "for i in range(len(BldEnrgy)):\n",
    "    # rename column names to combine data\n",
    "    # file 1\n",
    "    if BldEnrgy[i]['bldgname'][0] == 'Noble Science Library':\n",
    "        BldEnrgy[i]['bldgname'] = 'Noble Library'\n",
    "    # file 2\n",
    "    if BldEnrgy[i]['bldgname'][0] == 'Bio Design Institute A':\n",
    "        BldEnrgy[i]['bldgname'] = 'Biodesign A'\n",
    "    # file 3\n",
    "    if BldEnrgy[i]['bldgname'][0] == 'Bio Design Institute C':\n",
    "        BldEnrgy[i]['bldgname'] = 'Biodesign C'\n",
    "    # file 3\n",
    "    if BldEnrgy[i]['bldgname'][0] == 'Bio Design Institute B':\n",
    "        BldEnrgy[i]['bldgname'] = 'Biodesign B'\n",
    "\n",
    "    print(BldEnrgy[i]['bldgname'][0])"
   ]
  },
  {
   "cell_type": "code",
   "execution_count": 449,
   "id": "b3ec0203",
   "metadata": {
    "scrolled": false
   },
   "outputs": [
    {
     "name": "stdout",
     "output_type": "stream",
     "text": [
      "Rural Parking Structure\n",
      "Noble Library\n",
      "Biodesign C\n",
      "Biodesign A\n",
      "Schwada COB\n",
      "Combined Heating and Power Facility\n",
      "Psychology\n",
      "Rise-Blakely Hall\n",
      "Skyspace Ramada\n",
      "LDS Parking garage\n",
      "Goldwater\n",
      "LDS Church\n",
      "ISTB 2\n",
      "ISTB 7\n",
      "Tyler Parking Garage\n",
      "Armstrong Hall\n",
      "Bulldog Hall\n",
      "ISTB 4\n",
      "Psychology North\n",
      "Biodesign B\n"
     ]
    }
   ],
   "source": [
    "for i in range(len(Envi)):\n",
    "    # file 1\n",
    "    if Envi[i]['bldgname'][0] == 'Bidesign AB':\n",
    "        Envi[i]['bldgname'] = 'Biodesign A'\n",
    "    # file 2\n",
    "    if Envi[i]['bldgname'][0] == 'Schwada classroom office bldg':\n",
    "        Envi[i]['bldgname'] = 'Schwada COB'\n",
    "    # file 3\n",
    "    if Envi[i]['bldgname'][0] == 'Goldwater Engineering Center':\n",
    "        Envi[i]['bldgname'] = 'Goldwater'\n",
    "\n",
    "x = Envi[3].copy()\n",
    "x['bldgname'] = 'Biodesign B'\n",
    "Envi.append(x)\n",
    "\n",
    "for i in range(len(Envi)):\n",
    "    print(Envi[i]['bldgname'][0])"
   ]
  },
  {
   "cell_type": "markdown",
   "id": "ba33006a",
   "metadata": {},
   "source": [
    "Combine data frames"
   ]
  },
  {
   "cell_type": "code",
   "execution_count": 495,
   "id": "f239eb82",
   "metadata": {
    "scrolled": false
   },
   "outputs": [],
   "source": [
    "# new list of dataframes\n",
    "df_list = []\n",
    "for i in range(len(Envi)):\n",
    "    for x in range(len(BldEnrgy)):\n",
    "         if Envi[i]['bldgname'][0] == BldEnrgy[x]['bldgname'][0]:\n",
    "            result = pd.concat([Envi[i], BldEnrgy[x]], keys=[\"x\", \"y\"])\n",
    "            df_list.append(result)"
   ]
  },
  {
   "cell_type": "code",
   "execution_count": 496,
   "id": "5bddaf38",
   "metadata": {
    "scrolled": true
   },
   "outputs": [
    {
     "name": "stderr",
     "output_type": "stream",
     "text": [
      "<ipython-input-496-370bcb4b181b>:3: SettingWithCopyWarning: \n",
      "A value is trying to be set on a copy of a slice from a DataFrame\n",
      "\n",
      "See the caveats in the documentation: https://pandas.pydata.org/pandas-docs/stable/user_guide/indexing.html#returning-a-view-versus-a-copy\n",
      "  df_list[i]['Time'][['x']] = df_list[i]['Time'][['x']].str.replace('-',':')\n",
      "/Users/alialyakoob/opt/anaconda3/lib/python3.8/site-packages/pandas/core/indexing.py:1637: SettingWithCopyWarning: \n",
      "A value is trying to be set on a copy of a slice from a DataFrame\n",
      "\n",
      "See the caveats in the documentation: https://pandas.pydata.org/pandas-docs/stable/user_guide/indexing.html#returning-a-view-versus-a-copy\n",
      "  self._setitem_single_block(indexer, value, name)\n",
      "<ipython-input-496-370bcb4b181b>:4: SettingWithCopyWarning: \n",
      "A value is trying to be set on a copy of a slice from a DataFrame\n",
      "\n",
      "See the caveats in the documentation: https://pandas.pydata.org/pandas-docs/stable/user_guide/indexing.html#returning-a-view-versus-a-copy\n",
      "  df_list[i]['Time'][['x']] = df_list[i]['Time'][['x']].map(lambda x: str(x)[:-3])\n",
      "<ipython-input-496-370bcb4b181b>:5: SettingWithCopyWarning: \n",
      "A value is trying to be set on a copy of a slice from a DataFrame\n",
      "\n",
      "See the caveats in the documentation: https://pandas.pydata.org/pandas-docs/stable/user_guide/indexing.html#returning-a-view-versus-a-copy\n",
      "  df_list[i]['Time'][['x']] = pd.to_datetime(df_list[i]['Time'][['x']]).dt.strftime('%H:%M')\n",
      "<ipython-input-496-370bcb4b181b>:9: SettingWithCopyWarning: \n",
      "A value is trying to be set on a copy of a slice from a DataFrame\n",
      "\n",
      "See the caveats in the documentation: https://pandas.pydata.org/pandas-docs/stable/user_guide/indexing.html#returning-a-view-versus-a-copy\n",
      "  df_list[i]['Date'][['y']] = df_list[i]['tstamp'][['y']].str[:-13]\n",
      "<ipython-input-496-370bcb4b181b>:12: SettingWithCopyWarning: \n",
      "A value is trying to be set on a copy of a slice from a DataFrame\n",
      "\n",
      "See the caveats in the documentation: https://pandas.pydata.org/pandas-docs/stable/user_guide/indexing.html#returning-a-view-versus-a-copy\n",
      "  df_list[i]['Time'][['y']] = df_list[i]['tstamp'][['y']].str[11:16]\n"
     ]
    }
   ],
   "source": [
    "# format ENVI-met time\n",
    "for i in range(len(df_list)):\n",
    "    df_list[i]['Time'][['x']] = df_list[i]['Time'][['x']].str.replace('-',':')\n",
    "    df_list[i]['Time'][['x']] = df_list[i]['Time'][['x']].map(lambda x: str(x)[:-3])\n",
    "    df_list[i]['Time'][['x']] = pd.to_datetime(df_list[i]['Time'][['x']]).dt.strftime('%H:%M')\n",
    "\n",
    "# add date and time columns to energy data\n",
    "for i in range(len(df_list)):\n",
    "    df_list[i]['Date'][['y']] = df_list[i]['tstamp'][['y']].str[:-13]\n",
    "\n",
    "for i in range(len(df_list)):\n",
    "    df_list[i]['Time'][['y']] = df_list[i]['tstamp'][['y']].str[11:16]\n",
    "\n",
    "for i in range(len(df_list)):\n",
    "    df_list[i] = df_list[i].drop(columns=['Unnamed: 0', 'index', 'tstamp'])\n"
   ]
  },
  {
   "cell_type": "code",
   "execution_count": 497,
   "id": "5a50db4b",
   "metadata": {
    "scrolled": false
   },
   "outputs": [
    {
     "name": "stderr",
     "output_type": "stream",
     "text": [
      "<ipython-input-497-d3707efd86aa>:15: SettingWithCopyWarning: \n",
      "A value is trying to be set on a copy of a slice from a DataFrame\n",
      "\n",
      "See the caveats in the documentation: https://pandas.pydata.org/pandas-docs/stable/user_guide/indexing.html#returning-a-view-versus-a-copy\n",
      "  x['Date_Time'][x['Date_Time'].str.contains(\"05-16-2018 23:59\")] = '05-17-2018 00:00'\n",
      "<ipython-input-497-d3707efd86aa>:16: SettingWithCopyWarning: \n",
      "A value is trying to be set on a copy of a slice from a DataFrame\n",
      "\n",
      "See the caveats in the documentation: https://pandas.pydata.org/pandas-docs/stable/user_guide/indexing.html#returning-a-view-versus-a-copy\n",
      "  x['Date_Time'][x['Date_Time'].str.contains(\"06-07-2018 23:59\")] = '06-08-2018 00:00'\n",
      "<ipython-input-497-d3707efd86aa>:17: SettingWithCopyWarning: \n",
      "A value is trying to be set on a copy of a slice from a DataFrame\n",
      "\n",
      "See the caveats in the documentation: https://pandas.pydata.org/pandas-docs/stable/user_guide/indexing.html#returning-a-view-versus-a-copy\n",
      "  x['Date_Time'][x['Date_Time'].str.contains(\"06-08-2018 23:59\")] = '06-09-2018 00:00'\n",
      "<ipython-input-497-d3707efd86aa>:18: SettingWithCopyWarning: \n",
      "A value is trying to be set on a copy of a slice from a DataFrame\n",
      "\n",
      "See the caveats in the documentation: https://pandas.pydata.org/pandas-docs/stable/user_guide/indexing.html#returning-a-view-versus-a-copy\n",
      "  x['Date_Time'][x['Date_Time'].str.contains(\"06-20-2018 23:59\")] = '06-21-2018 00:00'\n",
      "<ipython-input-497-d3707efd86aa>:19: SettingWithCopyWarning: \n",
      "A value is trying to be set on a copy of a slice from a DataFrame\n",
      "\n",
      "See the caveats in the documentation: https://pandas.pydata.org/pandas-docs/stable/user_guide/indexing.html#returning-a-view-versus-a-copy\n",
      "  x['Date_Time'][x['Date_Time'].str.contains(\"06-21-2018 23:59\")] = '06-21-2018 00:00'\n",
      "<ipython-input-497-d3707efd86aa>:20: SettingWithCopyWarning: \n",
      "A value is trying to be set on a copy of a slice from a DataFrame\n",
      "\n",
      "See the caveats in the documentation: https://pandas.pydata.org/pandas-docs/stable/user_guide/indexing.html#returning-a-view-versus-a-copy\n",
      "  x['Date_Time'][x['Date_Time'].str.contains(\"06-25-2018 23:59\")] = '06-26-2018 00:00'\n",
      "<ipython-input-497-d3707efd86aa>:21: SettingWithCopyWarning: \n",
      "A value is trying to be set on a copy of a slice from a DataFrame\n",
      "\n",
      "See the caveats in the documentation: https://pandas.pydata.org/pandas-docs/stable/user_guide/indexing.html#returning-a-view-versus-a-copy\n",
      "  x['Date_Time'][x['Date_Time'].str.contains(\"09-11-2018 23:59\")] = '09-12-2018 00:00'\n",
      "<ipython-input-497-d3707efd86aa>:22: SettingWithCopyWarning: \n",
      "A value is trying to be set on a copy of a slice from a DataFrame\n",
      "\n",
      "See the caveats in the documentation: https://pandas.pydata.org/pandas-docs/stable/user_guide/indexing.html#returning-a-view-versus-a-copy\n",
      "  x['Date_Time'][x['Date_Time'].str.contains(\"09-29-2018 23:59\")] = '09-30-2018 00:00'\n",
      "<ipython-input-497-d3707efd86aa>:25: SettingWithCopyWarning: \n",
      "A value is trying to be set on a copy of a slice from a DataFrame\n",
      "\n",
      "See the caveats in the documentation: https://pandas.pydata.org/pandas-docs/stable/user_guide/indexing.html#returning-a-view-versus-a-copy\n",
      "  x['CHWTON'][i] = y['CHWTON'].loc[x['Date_Time'][i]]\n",
      "<ipython-input-497-d3707efd86aa>:26: SettingWithCopyWarning: \n",
      "A value is trying to be set on a copy of a slice from a DataFrame\n",
      "\n",
      "See the caveats in the documentation: https://pandas.pydata.org/pandas-docs/stable/user_guide/indexing.html#returning-a-view-versus-a-copy\n",
      "  x['KW'][i] = y['KW'].loc[x['Date_Time'][i]]\n",
      "<ipython-input-497-d3707efd86aa>:27: SettingWithCopyWarning: \n",
      "A value is trying to be set on a copy of a slice from a DataFrame\n",
      "\n",
      "See the caveats in the documentation: https://pandas.pydata.org/pandas-docs/stable/user_guide/indexing.html#returning-a-view-versus-a-copy\n",
      "  x['HTmmBTU'][i] = y['HTmmBTU'].loc[x['Date_Time'][i]]\n"
     ]
    }
   ],
   "source": [
    "new_list = []\n",
    "for i in range(len(df_list)):\n",
    "    x = df_list[i].loc[('x')].copy()\n",
    "    x['Date_Time'] = x['Date'] + ' ' + x['Time']\n",
    "    x.Date_Time = pd.to_datetime(x.Date_Time).dt.strftime('%m-%d-%Y %H:%M')\n",
    "    # x = x.set_index('Date_Time')\n",
    "    x = x.drop(columns = ['Date', 'Time'])\n",
    "    y = df_list[i].loc[('y')].copy()\n",
    "    y = y.drop(columns = ['bldgname', 'Air Temp', 'Rel Hum'])\n",
    "    y['Date_Time'] = y['Date'] + ' ' + y['Time']\n",
    "    y.Date_Time = pd.to_datetime(y.Date_Time).dt.strftime('%m-%d-%Y %H:%M')\n",
    "    y = y.set_index('Date_Time')\n",
    "    y = y.drop(columns = ['Date', 'Time'])\n",
    "    # change date_time of data with 23:59 to next day with 00:00\n",
    "    x['Date_Time'][x['Date_Time'].str.contains(\"05-16-2018 23:59\")] = '05-17-2018 00:00'\n",
    "    x['Date_Time'][x['Date_Time'].str.contains(\"06-07-2018 23:59\")] = '06-08-2018 00:00'\n",
    "    x['Date_Time'][x['Date_Time'].str.contains(\"06-08-2018 23:59\")] = '06-09-2018 00:00'\n",
    "    x['Date_Time'][x['Date_Time'].str.contains(\"06-20-2018 23:59\")] = '06-21-2018 00:00'\n",
    "    x['Date_Time'][x['Date_Time'].str.contains(\"06-21-2018 23:59\")] = '06-21-2018 00:00'\n",
    "    x['Date_Time'][x['Date_Time'].str.contains(\"06-25-2018 23:59\")] = '06-26-2018 00:00'\n",
    "    x['Date_Time'][x['Date_Time'].str.contains(\"09-11-2018 23:59\")] = '09-12-2018 00:00'\n",
    "    x['Date_Time'][x['Date_Time'].str.contains(\"09-29-2018 23:59\")] = '09-30-2018 00:00'\n",
    "    for i in range(len(x)):\n",
    "        try:\n",
    "            x['CHWTON'][i] = y['CHWTON'].loc[x['Date_Time'][i]]\n",
    "            x['KW'][i] = y['KW'].loc[x['Date_Time'][i]]\n",
    "            x['HTmmBTU'][i] = y['HTmmBTU'].loc[x['Date_Time'][i]]\n",
    "        except KeyError:\n",
    "            pass\n",
    "\n",
    "    new_list.append(x)"
   ]
  },
  {
   "cell_type": "code",
   "execution_count": 498,
   "id": "13e389ae",
   "metadata": {},
   "outputs": [
    {
     "data": {
      "text/plain": [
       "Series([], Name: Date_Time, dtype: object)"
      ]
     },
     "execution_count": 498,
     "metadata": {},
     "output_type": "execute_result"
    }
   ],
   "source": [
    "# check if any time format is in 23:59\n",
    "x['Date_Time'][x['Date_Time'].str.contains(\"23:59\")]"
   ]
  },
  {
   "cell_type": "code",
   "execution_count": 506,
   "id": "a392eda3",
   "metadata": {},
   "outputs": [],
   "source": [
    "# save combined energy and ENVI data\n",
    "for i in range(len(new_list)):\n",
    "    new_list[i].to_csv(\"..microclimate_model/Combined/dataset1/\" + new_list[i]['bldgname'][0] + \".csv\", index=True)\n",
    "    "
   ]
  }
 ],
 "metadata": {
  "kernelspec": {
   "display_name": "Python 3.8.8 64-bit ('base': conda)",
   "language": "python",
   "name": "python388jvsc74a57bd05743e2273c9542cf7022ebd3e101ce4ff09b272df8f3a22ea02f51200ed7a568"
  },
  "language_info": {
   "codemirror_mode": {
    "name": "ipython",
    "version": 3
   },
   "file_extension": ".py",
   "mimetype": "text/x-python",
   "name": "python",
   "nbconvert_exporter": "python",
   "pygments_lexer": "ipython3",
   "version": "3.8.8"
  }
 },
 "nbformat": 4,
 "nbformat_minor": 5
}
