{
 "cells": [
  {
   "cell_type": "markdown",
   "id": "433b530d-621a-4430-8700-e4ec27e57ade",
   "metadata": {},
   "source": [
    "# Sensitivity Analysis\n"
   ]
  },
  {
   "cell_type": "markdown",
   "id": "dae8141e-c78e-42b8-8e87-d9d2970e27f6",
   "metadata": {},
   "source": [
    "# 1. Import and Load"
   ]
  },
  {
   "cell_type": "code",
   "execution_count": null,
   "id": "2eaaaaa3-01b1-4c4c-acad-45b7bc27aae0",
   "metadata": {},
   "outputs": [],
   "source": [
    "from witwidget.notebook.visualization import WitWidget, WitConfigBuilder"
   ]
  },
  {
   "cell_type": "code",
   "execution_count": null,
   "id": "850f1a6c-e755-4f19-832e-6c0b282648ea",
   "metadata": {},
   "outputs": [],
   "source": [
    "import pandas as pd\n",
    "import numpy as np\n",
    "import seaborn as sns\n",
    "# import shap\n",
    "\n",
    "from scipy import stats\n",
    "from sklearn.preprocessing import LabelEncoder\n",
    "from sklearn.preprocessing import OneHotEncoder\n",
    "\n",
    "from sklearn.model_selection import train_test_split\n",
    "from sklearn.model_selection import cross_val_score\n",
    "\n",
    "# parameters search\n",
    "from sklearn.model_selection import RandomizedSearchCV\n",
    "from sklearn.model_selection import GridSearchCV\n",
    "\n",
    "# models\n",
    "from sklearn.ensemble import RandomForestRegressor\n",
    "\n",
    "# explain\n",
    "from sklearn.tree import export_graphviz\n",
    "import lime\n",
    "import lime.lime_tabular\n",
    "\n",
    "from datetime import datetime\n",
    "import os\n",
    "import pathlib\n",
    "import matplotlib.pyplot as plt\n",
    "from matplotlib.pyplot import figure\n",
    "\n",
    "from witwidget.notebook.visualization import WitWidget, WitConfigBuilder"
   ]
  },
  {
   "cell_type": "code",
   "execution_count": null,
   "id": "799a0b24-3c2e-4bdd-9694-780c97dda4bf",
   "metadata": {},
   "outputs": [],
   "source": [
    "Bldg = pd.read_csv(\"../Data/microclimate_model/Combined/all_buildings_9pm.csv\")\n",
    "Bldg = Bldg.drop(columns = ['Unnamed: 0','CHWTON', 'Minute', 'DSW Top',\n",
    "       'DSW North', 'DSW East', 'DSW South', 'DSW West'])"
   ]
  },
  {
   "cell_type": "code",
   "execution_count": null,
   "id": "8ae8d3f9-a8d0-476c-a763-21a7bb2a9868",
   "metadata": {},
   "outputs": [],
   "source": [
    "# only select 3 buildings\n",
    "Bldg = Bldg.loc[(Bldg['bldgname']=='Psychology North')].append(Bldg.loc[(Bldg['bldgname']=='Psychology')]).append(Bldg.loc[(Bldg['bldgname']=='ISTB 4')])\n",
    "Bldg.reset_index(inplace = True, drop = True)"
   ]
  },
  {
   "cell_type": "markdown",
   "id": "f25cad87-9c0c-43e6-a96a-941d5156d335",
   "metadata": {},
   "source": [
    "# 2. Feature Engineering Temperature and Humidity"
   ]
  },
  {
   "cell_type": "code",
   "execution_count": null,
   "id": "2063a9c6-2df9-44a7-93f7-78b290ecb4d7",
   "metadata": {},
   "outputs": [],
   "source": [
    "# Get Air Temp X Abs Hum\n",
    "Bldg = Bldg.drop(columns = ['Rel Hum'])\n",
    "\n",
    "Bldg['AirTempXAbsHum'] = Bldg['Air Temp'] * Bldg['Abs Hum']\n",
    "Bldg['AirTempSq'] = Bldg['Air Temp'] * Bldg['Air Temp']\n",
    "Bldg['AbsHumSq'] = Bldg['Abs Hum'] * Bldg['Abs Hum']\n",
    "Bldg = Bldg.drop(columns = ['Abs Hum'])\n",
    "\n",
    "# Remove August and September data\n",
    "Bldg = Bldg[~((Bldg['Month'] == 8) | (Bldg['Month'] == 9))]\n",
    "\n",
    "Bldg.reset_index(inplace = True, drop = True)"
   ]
  },
  {
   "cell_type": "markdown",
   "id": "bc0c1652-e8f4-4f9c-952f-d8ee2a6a02f4",
   "metadata": {},
   "source": [
    "# 3. EDA"
   ]
  },
  {
   "cell_type": "markdown",
   "id": "36ba04b3-2c9e-4400-8806-335ed655c4d1",
   "metadata": {},
   "source": [
    "## 3.1 Scatter Plots"
   ]
  },
  {
   "cell_type": "code",
   "execution_count": null,
   "id": "8605456f-9184-4591-94e6-46b214fbe792",
   "metadata": {},
   "outputs": [],
   "source": [
    "g = sns.FacetGrid(Bldg, col=\"bldgname\")\n",
    "g.map(sns.scatterplot, \"Air Temp\", \"CHWTON/SQFT\", alpha = 0.8)\n",
    "g.add_legend()"
   ]
  },
  {
   "cell_type": "markdown",
   "id": "876bc811-e83b-402d-a8f6-99b28f91c206",
   "metadata": {},
   "source": [
    "## 3.2 Normalisation and pearson's R"
   ]
  },
  {
   "cell_type": "code",
   "execution_count": null,
   "id": "69571f6c-0e9e-405b-9afd-aa990ed28312",
   "metadata": {},
   "outputs": [],
   "source": [
    "# apply the maximum absolute scaling in Pandas using the .abs() and .max() methods\n",
    "def max_absolute_scaling(df):\n",
    "    # copy the dataframe\n",
    "    df_scaled = df.copy()\n",
    "    # apply maximum absolute scaling\n",
    "    for column in df_scaled.columns:\n",
    "        df_scaled[column] = df_scaled[column]  / df_scaled[column].abs().max()\n",
    "    return df_scaled\n",
    "    \n"
   ]
  },
  {
   "cell_type": "code",
   "execution_count": null,
   "id": "3e6ac35c-9d15-4969-8112-d5a77faf7cab",
   "metadata": {},
   "outputs": [],
   "source": [
    "Bldg_airtemp_chwton = Bldg[['Air Temp' , 'CHWTON/SQFT']]"
   ]
  },
  {
   "cell_type": "code",
   "execution_count": null,
   "id": "489c3209-25c4-4f6c-95a1-88808b0fc70a",
   "metadata": {},
   "outputs": [],
   "source": [
    "# scale 2 columns\n",
    "Bldg_airtemp_chwton_scaled = max_absolute_scaling(Bldg_airtemp_chwton)"
   ]
  },
  {
   "cell_type": "code",
   "execution_count": null,
   "id": "3796435c-ce55-408e-84d3-f82fef142a12",
   "metadata": {},
   "outputs": [],
   "source": [
    "Bldg_airtemp_chwton_scaled['bldgname'] = Bldg['bldgname']\n",
    "Bldg_scaled = Bldg_airtemp_chwton_scaled[['bldgname', 'Air Temp' , 'CHWTON/SQFT' ]]"
   ]
  },
  {
   "cell_type": "code",
   "execution_count": null,
   "id": "8ef296c8-b18f-463e-9f63-a405a85349e4",
   "metadata": {},
   "outputs": [],
   "source": [
    "psych = Bldg_scaled[Bldg_scaled['bldgname'] == 'Psychology']\n",
    "psych_north = Bldg_scaled[Bldg_scaled['bldgname'] == 'Psychology North']\n",
    "istb4 = Bldg_scaled[Bldg_scaled['bldgname'] == 'ISTB 4']"
   ]
  },
  {
   "cell_type": "markdown",
   "id": "2e4c449b-9c20-44c1-a602-8c87a95c74f0",
   "metadata": {},
   "source": [
    "### 3.2.1 using Scipy stats.pearsonr"
   ]
  },
  {
   "cell_type": "code",
   "execution_count": null,
   "id": "9d2c01d8-7c18-4c4f-aa81-6dcc371ced4d",
   "metadata": {},
   "outputs": [],
   "source": [
    "print('Psych: \\n',stats.pearsonr(psych['Air Temp'], psych['CHWTON/SQFT']))\n",
    "print('Psych North: \\n',stats.pearsonr(psych_north['Air Temp'], psych_north['CHWTON/SQFT']))\n",
    "print('ISTB 4: \\n',stats.pearsonr(istb4['Air Temp'], istb4['CHWTON/SQFT']))\n"
   ]
  },
  {
   "cell_type": "markdown",
   "id": "97dc9cf6-3f69-4323-8ff9-b412cd669402",
   "metadata": {},
   "source": [
    "### 3.2.2 using Numpy's np.corrcoef(x,y)"
   ]
  },
  {
   "cell_type": "code",
   "execution_count": null,
   "id": "66edcf76-2650-4806-95f4-a03755c40964",
   "metadata": {},
   "outputs": [],
   "source": [
    "# convert df to numpy\n",
    "psych_num = psych.drop(columns = ['bldgname'])\n",
    "psychN_num = psych_north.drop(columns = ['bldgname'])\n",
    "istb4_num = istb4.drop(columns = ['bldgname'])\n"
   ]
  },
  {
   "cell_type": "code",
   "execution_count": null,
   "id": "1502ff89-178b-4848-908a-b3b380d15a18",
   "metadata": {},
   "outputs": [],
   "source": [
    "# psych\n",
    "psych_airtemp = psych_num['Air Temp'].to_numpy()\n",
    "psych_chwton = psych_num['CHWTON/SQFT'].to_numpy()\n",
    "\n",
    "# psych_north\n",
    "psychN_airtemp = psychN_num['Air Temp'].to_numpy()\n",
    "psychN_chwton = psychN_num['CHWTON/SQFT'].to_numpy()\n",
    "\n",
    "# istb4\n",
    "istb4_airtemp = istb4_num['Air Temp'].to_numpy()\n",
    "istb4_chwton = istb4_num['CHWTON/SQFT'].to_numpy()"
   ]
  },
  {
   "cell_type": "code",
   "execution_count": null,
   "id": "432dba4c-7997-4626-9f2b-c6176632a808",
   "metadata": {},
   "outputs": [],
   "source": [
    "print('Psych: \\n', np.corrcoef(psych_airtemp, psych_chwton))\n",
    "print('Psych North: \\n', np.corrcoef(psychN_airtemp, psychN_chwton))\n",
    "print('ISTB4: \\n', np.corrcoef(istb4_airtemp, istb4_chwton))\n"
   ]
  },
  {
   "cell_type": "markdown",
   "id": "95c4f918-c447-4609-b351-f3b4aaafb138",
   "metadata": {},
   "source": [
    "Observation:\n",
    "1. Pearson’s r\n",
    "2. A p-value. This is the probability that the true value of r is zero (no correlation).\n",
    "\n",
    "We conclude that there is a strong linear relationship between air temperature and CHWTON/SQFT"
   ]
  },
  {
   "cell_type": "markdown",
   "id": "53e8c7e4-cfe0-4799-a77a-dbd14ee0d7a5",
   "metadata": {},
   "source": [
    "# 4. Training"
   ]
  },
  {
   "cell_type": "markdown",
   "id": "09554c9c-c120-47d0-97d5-896fb9c5f59f",
   "metadata": {},
   "source": [
    "## 4.1 Data preparation"
   ]
  },
  {
   "cell_type": "code",
   "execution_count": null,
   "id": "cbb33f2b-19e8-4957-a537-f2af4e86c551",
   "metadata": {},
   "outputs": [],
   "source": [
    "# Extract Test data (June 9th)\n",
    "Test_df = Bldg[(Bldg['Month'] == 6) & (Bldg['Day'] == 9)]\n",
    "Test_df.reset_index(drop = True, inplace = True)\n",
    "Test_df\n",
    "\n",
    "# Remove Test From Bldg df \n",
    "Bldg = Bldg[~((Bldg['Month'] == 6) & (Bldg['Day'] == 9))]\n",
    "Bldg.reset_index(drop = True, inplace = True)\n",
    "\n",
    "# Check if the day is still there\n",
    "Bldg[(Bldg['Month'] == 6) & (Bldg['Day'] == 9)]"
   ]
  },
  {
   "cell_type": "code",
   "execution_count": null,
   "id": "09df850b-c69f-4a86-901a-8607357d0d2c",
   "metadata": {},
   "outputs": [],
   "source": [
    "corrMatrix = Bldg.corr(method = 'pearson')\n",
    "plt.figure(figsize=(15,15))\n",
    "sns.heatmap(corrMatrix, cmap='RdYlGn', annot = True, linewidths = 1)\n",
    "plt.show()"
   ]
  },
  {
   "cell_type": "code",
   "execution_count": 1,
   "id": "fc740b84-1c3f-4c5e-9833-202d60a33b1e",
   "metadata": {},
   "outputs": [
    {
     "name": "stdout",
     "output_type": "stream",
     "text": []
    },
    {
     "name": "stdout",
     "output_type": "stream",
     "text": []
    },
    {
     "name": "stdout",
     "output_type": "stream",
     "text": [
      "Building jupyterlab assets (production, minimized)\n"
     ]
    }
   ],
   "source": [
    "!jupyter labextension install @jupyter-widgets/jupyterlab-manager"
   ]
  },
  {
   "cell_type": "code",
   "execution_count": null,
   "id": "04033b6a-e9ce-4834-95c1-752a3c7a1235",
   "metadata": {},
   "outputs": [],
   "source": []
  }
 ],
 "metadata": {
  "kernelspec": {
   "display_name": "Python [conda env:anaconda3]",
   "language": "python",
   "name": "conda-env-anaconda3-py"
  },
  "language_info": {
   "codemirror_mode": {
    "name": "ipython",
    "version": 3
   },
   "file_extension": ".py",
   "mimetype": "text/x-python",
   "name": "python",
   "nbconvert_exporter": "python",
   "pygments_lexer": "ipython3",
   "version": "3.9.7"
  }
 },
 "nbformat": 4,
 "nbformat_minor": 5
}
