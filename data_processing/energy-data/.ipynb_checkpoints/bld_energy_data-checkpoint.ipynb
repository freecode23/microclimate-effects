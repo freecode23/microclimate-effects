{
 "cells": [
  {
   "cell_type": "code",
   "execution_count": 2,
   "id": "e1780b96",
   "metadata": {},
   "outputs": [],
   "source": [
    "import pandas as pd\n",
    "import numpy as np\n",
    "import pathlib\n",
    "import pickle\n",
    "from datetime import datetime\n",
    "import os"
   ]
  },
  {
   "cell_type": "markdown",
   "id": "68eecbcd",
   "metadata": {},
   "source": [
    "Preprocess all building files"
   ]
  },
  {
   "cell_type": "code",
   "execution_count": 12,
   "id": "8ccd5c32",
   "metadata": {},
   "outputs": [],
   "source": [
    "for path in pathlib.Path(\"/..microclimate_model/Building-Energy/\").iterdir():\n",
    "        if path.is_file():\n",
    "            # Perform any processing here for chosen date file\n",
    "            current_file = pd.read_csv(path)\n",
    "            current_file = current_file[['bldgname', 'tstamp', 'KW', 'CHWTON', 'HTmmBTU']]\n",
    "            current_file.to_csv(\"/Users/alialyakoob/Desktop/ASU/RA/Data/Model_Data/microclimate_model/Building-Energy/\" + path.name, index=False)"
   ]
  }
 ],
 "metadata": {
  "kernelspec": {
   "display_name": "Python 3.8.8 64-bit ('base': conda)",
   "language": "python",
   "name": "python388jvsc74a57bd05743e2273c9542cf7022ebd3e101ce4ff09b272df8f3a22ea02f51200ed7a568"
  },
  "language_info": {
   "codemirror_mode": {
    "name": "ipython",
    "version": 3
   },
   "file_extension": ".py",
   "mimetype": "text/x-python",
   "name": "python",
   "nbconvert_exporter": "python",
   "pygments_lexer": "ipython3",
   "version": "3.8.8"
  }
 },
 "nbformat": 4,
 "nbformat_minor": 5
}
