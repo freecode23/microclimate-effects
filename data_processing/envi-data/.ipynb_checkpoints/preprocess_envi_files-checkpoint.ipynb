{
 "cells": [
  {
   "cell_type": "code",
   "execution_count": 1,
   "id": "a8afdf6d",
   "metadata": {},
   "outputs": [],
   "source": [
    "import pandas as pd\n",
    "import numpy as np\n",
    "import pathlib\n",
    "import pickle\n",
    "from datetime import datetime\n",
    "import os"
   ]
  },
  {
   "cell_type": "code",
   "execution_count": 67,
   "id": "2e68c889",
   "metadata": {},
   "outputs": [
    {
     "name": "stdout",
     "output_type": "stream",
     "text": [
      "{'1': '2018_0516', '2': '2018_0607', '3': '2018_0608', '4': '2018_0620', '5': '2018_0621', '6': '2018_0625', '7': '2018_0911', '8': '2018_0929'}\n",
      "Enter a number corrosponding to date: 6\n",
      "you chose:  2018_0625\n"
     ]
    }
   ],
   "source": [
    "dates = {\n",
    "  \"1\": \"2018_0516\",\n",
    "  \"2\": \"2018_0607\",\n",
    "  \"3\": \"2018_0608\",\n",
    "  \"4\": \"2018_0620\",\n",
    "  \"5\": \"2018_0621\",\n",
    "  \"6\": \"2018_0625\",\n",
    "  \"7\": \"2018_0911\",\n",
    "  \"8\": \"2018_0929\",\n",
    "}\n",
    "print(dates)\n",
    "\n",
    "n = input(\"Enter a number corrosponding to date: \")\n",
    "\n",
    "print(\"you chose:  \" + dates[n])"
   ]
  },
  {
   "cell_type": "code",
   "execution_count": 68,
   "id": "f12bb854",
   "metadata": {},
   "outputs": [],
   "source": [
    "for path in pathlib.Path(\"..microclimate_model/ENVI-met/\" + dates[n] + \"/base_micro\").iterdir():\n",
    "        if path.is_file():\n",
    "            # Perform any processing here for chosen date file\n",
    "#             current_file = pd.read_csv(path)\n",
    "#             current_file['Date']='2018-06-25'\n",
    "            current_file.to_csv(\"..microclimate_model/ENVI-met/\" + dates[n] + \"/base_micro/\" + path.name, index=False)"
   ]
  }
 ],
 "metadata": {
  "kernelspec": {
   "display_name": "Python 3.8.8 64-bit ('base': conda)",
   "language": "python",
   "name": "python388jvsc74a57bd05743e2273c9542cf7022ebd3e101ce4ff09b272df8f3a22ea02f51200ed7a568"
  },
  "language_info": {
   "codemirror_mode": {
    "name": "ipython",
    "version": 3
   },
   "file_extension": ".py",
   "mimetype": "text/x-python",
   "name": "python",
   "nbconvert_exporter": "python",
   "pygments_lexer": "ipython3",
   "version": "3.8.8"
  }
 },
 "nbformat": 4,
 "nbformat_minor": 5
}
