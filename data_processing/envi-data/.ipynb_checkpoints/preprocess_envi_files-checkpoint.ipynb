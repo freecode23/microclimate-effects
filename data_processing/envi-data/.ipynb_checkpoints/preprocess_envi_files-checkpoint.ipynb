{
 "cells": [
  {
   "cell_type": "code",
   "execution_count": 78,
   "id": "a8afdf6d",
   "metadata": {},
   "outputs": [],
   "source": [
    "import pandas as pd\n",
    "import numpy as np\n",
    "import pathlib\n",
    "import pickle\n",
    "from datetime import datetime\n",
    "import os"
   ]
  },
  {
   "cell_type": "markdown",
   "id": "14fed67b",
   "metadata": {},
   "source": [
    "Define date files from ENVI-met simulation run and choose file to edit"
   ]
  },
  {
   "cell_type": "code",
   "execution_count": 79,
   "id": "2e68c889",
   "metadata": {},
   "outputs": [
    {
     "name": "stdout",
     "output_type": "stream",
     "text": [
      "{'1': '2018_0516', '2': '2018_0607', '3': '2018_0608', '4': '2018_0620', '5': '2018_0621', '6': '2018_0625', '7': '2018_0911', '8': '2018_0929'}\n",
      "Enter a number corrosponding to date: 5\n",
      "you chose:  2018_0621\n"
     ]
    }
   ],
   "source": [
    "dates = {\n",
    "  \"1\": \"2018_0516\",\n",
    "  \"2\": \"2018_0607\",\n",
    "  \"3\": \"2018_0608\",\n",
    "  \"4\": \"2018_0620\",\n",
    "  \"5\": \"2018_0621\",\n",
    "  \"6\": \"2018_0625\",\n",
    "  \"7\": \"2018_0911\",\n",
    "  \"8\": \"2018_0929\",\n",
    "}\n",
    "print(dates)\n",
    "\n",
    "n = input(\"Enter a number corrosponding to date: \")\n",
    "\n",
    "print(\"you chose:  \" + dates[n])"
   ]
  },
  {
   "cell_type": "markdown",
   "id": "ec4daaee",
   "metadata": {},
   "source": [
    "Preprocess on single date file"
   ]
  },
  {
   "cell_type": "code",
   "execution_count": 68,
   "id": "f12bb854",
   "metadata": {},
   "outputs": [],
   "source": [
    "for path in pathlib.Path(\"..microclimate_model/ENVI-met (Raw)/\" + dates[n] + \"/base_micro\").iterdir():\n",
    "        if path.is_file():\n",
    "            current_file = pd.read_csv(path)\n",
    "             # Perform any processing here for chosen date file\n",
    "            current_file.to_csv(\"..microclimate_model/ENVI-met/\" + dates[n] + \"/base_micro/\" + path.name, index=False)"
   ]
  },
  {
   "cell_type": "markdown",
   "id": "b9afad6e",
   "metadata": {},
   "source": [
    "Preprocess on all date files"
   ]
  },
  {
   "cell_type": "code",
   "execution_count": 250,
   "id": "78ec911b",
   "metadata": {
    "scrolled": true
   },
   "outputs": [],
   "source": [
    "onepd = pd.DataFrame()\n",
    "for i in range(len(dates)):\n",
    "    for path in pathlib.Path(\"..microclimate_model/ENVI-met(Raw)/\" + dates[str(i+1)] + \"/base_micro\").iterdir():\n",
    "            if path.is_file():\n",
    "                # Choose specific ENVI-met variables and rename columns and date files\n",
    "                current_file = pd.read_csv(path)        \n",
    "                try:\n",
    "                    current_file = current_file[['Date','Time','AirTempInFrontOfAllFacades_MEAN','RelativeAirHumidityInFrontOfAllFacades_MEAN']]\n",
    "                except KeyError:\n",
    "                    pass\n",
    "                current_file.rename(columns = {'AirTempInFrontOfAllFacades_MEAN':'Air Temp', 'RelativeAirHumidityInFrontOfAllFacades_MEAN':'Rel Hum'}, inplace = True)\n",
    "                current_file.to_csv(\"..microclimate_model/ENVI-met/\" + dates[str(i+1)] + \"/base_micro/\" + path.name, index=False)\n",
    "                # get all data in pandas dataframe for further processing\n",
    "                current_file['bldgname'] = path.name[:-4]\n",
    "                first_column = current_file.pop('bldgname')\n",
    "                current_file.insert(0, 'bldgname', first_column)\n",
    "                onepd = onepd.append(current_file)\n",
    "onepd = onepd.drop(columns=['Unnamed: 0'])\n"
   ]
  },
  {
   "cell_type": "code",
   "execution_count": 251,
   "id": "a4187b86",
   "metadata": {},
   "outputs": [
    {
     "data": {
      "text/html": [
       "<div>\n",
       "<style scoped>\n",
       "    .dataframe tbody tr th:only-of-type {\n",
       "        vertical-align: middle;\n",
       "    }\n",
       "\n",
       "    .dataframe tbody tr th {\n",
       "        vertical-align: top;\n",
       "    }\n",
       "\n",
       "    .dataframe thead th {\n",
       "        text-align: right;\n",
       "    }\n",
       "</style>\n",
       "<table border=\"1\" class=\"dataframe\">\n",
       "  <thead>\n",
       "    <tr style=\"text-align: right;\">\n",
       "      <th></th>\n",
       "      <th>bldgname</th>\n",
       "      <th>Date</th>\n",
       "      <th>Time</th>\n",
       "      <th>Air Temp</th>\n",
       "      <th>Rel Hum</th>\n",
       "    </tr>\n",
       "  </thead>\n",
       "  <tbody>\n",
       "    <tr>\n",
       "      <th>0</th>\n",
       "      <td>Rural Parking Structure</td>\n",
       "      <td>2018-05-16</td>\n",
       "      <td>05-00-00</td>\n",
       "      <td>22.875623</td>\n",
       "      <td>22.385364</td>\n",
       "    </tr>\n",
       "    <tr>\n",
       "      <th>1</th>\n",
       "      <td>Rural Parking Structure</td>\n",
       "      <td>2018-05-16</td>\n",
       "      <td>05-15-00</td>\n",
       "      <td>24.302229</td>\n",
       "      <td>24.132087</td>\n",
       "    </tr>\n",
       "    <tr>\n",
       "      <th>2</th>\n",
       "      <td>Rural Parking Structure</td>\n",
       "      <td>2018-05-16</td>\n",
       "      <td>05-30-01</td>\n",
       "      <td>24.074092</td>\n",
       "      <td>23.740702</td>\n",
       "    </tr>\n",
       "    <tr>\n",
       "      <th>3</th>\n",
       "      <td>Rural Parking Structure</td>\n",
       "      <td>2018-05-16</td>\n",
       "      <td>05-45-01</td>\n",
       "      <td>23.922866</td>\n",
       "      <td>23.751795</td>\n",
       "    </tr>\n",
       "    <tr>\n",
       "      <th>4</th>\n",
       "      <td>Rural Parking Structure</td>\n",
       "      <td>2018-05-16</td>\n",
       "      <td>06-00-01</td>\n",
       "      <td>23.781094</td>\n",
       "      <td>24.007169</td>\n",
       "    </tr>\n",
       "    <tr>\n",
       "      <th>...</th>\n",
       "      <td>...</td>\n",
       "      <td>...</td>\n",
       "      <td>...</td>\n",
       "      <td>...</td>\n",
       "      <td>...</td>\n",
       "    </tr>\n",
       "    <tr>\n",
       "      <th>72</th>\n",
       "      <td>Psychology North</td>\n",
       "      <td>2018-09-29</td>\n",
       "      <td>23-00-01</td>\n",
       "      <td>32.777761</td>\n",
       "      <td>22.255655</td>\n",
       "    </tr>\n",
       "    <tr>\n",
       "      <th>73</th>\n",
       "      <td>Psychology North</td>\n",
       "      <td>2018-09-29</td>\n",
       "      <td>23-15-01</td>\n",
       "      <td>32.615956</td>\n",
       "      <td>22.203585</td>\n",
       "    </tr>\n",
       "    <tr>\n",
       "      <th>74</th>\n",
       "      <td>Psychology North</td>\n",
       "      <td>2018-09-29</td>\n",
       "      <td>23-30-01</td>\n",
       "      <td>32.418783</td>\n",
       "      <td>22.603495</td>\n",
       "    </tr>\n",
       "    <tr>\n",
       "      <th>75</th>\n",
       "      <td>Psychology North</td>\n",
       "      <td>2018-09-29</td>\n",
       "      <td>23-45-01</td>\n",
       "      <td>32.190174</td>\n",
       "      <td>23.121666</td>\n",
       "    </tr>\n",
       "    <tr>\n",
       "      <th>76</th>\n",
       "      <td>Psychology North</td>\n",
       "      <td>2018-09-29</td>\n",
       "      <td>23-59-59</td>\n",
       "      <td>31.968686</td>\n",
       "      <td>23.668870</td>\n",
       "    </tr>\n",
       "  </tbody>\n",
       "</table>\n",
       "<p>12331 rows × 5 columns</p>\n",
       "</div>"
      ],
      "text/plain": [
       "                   bldgname        Date      Time   Air Temp    Rel Hum\n",
       "0   Rural Parking Structure  2018-05-16  05-00-00  22.875623  22.385364\n",
       "1   Rural Parking Structure  2018-05-16  05-15-00  24.302229  24.132087\n",
       "2   Rural Parking Structure  2018-05-16  05-30-01  24.074092  23.740702\n",
       "3   Rural Parking Structure  2018-05-16  05-45-01  23.922866  23.751795\n",
       "4   Rural Parking Structure  2018-05-16  06-00-01  23.781094  24.007169\n",
       "..                      ...         ...       ...        ...        ...\n",
       "72         Psychology North  2018-09-29  23-00-01  32.777761  22.255655\n",
       "73         Psychology North  2018-09-29  23-15-01  32.615956  22.203585\n",
       "74         Psychology North  2018-09-29  23-30-01  32.418783  22.603495\n",
       "75         Psychology North  2018-09-29  23-45-01  32.190174  23.121666\n",
       "76         Psychology North  2018-09-29  23-59-59  31.968686  23.668870\n",
       "\n",
       "[12331 rows x 5 columns]"
      ]
     },
     "execution_count": 251,
     "metadata": {},
     "output_type": "execute_result"
    }
   ],
   "source": [
    "onepd"
   ]
  },
  {
   "cell_type": "code",
   "execution_count": 276,
   "id": "a05708ec",
   "metadata": {},
   "outputs": [
    {
     "data": {
      "text/plain": [
       "(12331, 5)"
      ]
     },
     "execution_count": 276,
     "metadata": {},
     "output_type": "execute_result"
    }
   ],
   "source": [
    "onepd.shape"
   ]
  },
  {
   "cell_type": "markdown",
   "id": "ffe80a7d",
   "metadata": {},
   "source": [
    "Create a csv file for each building"
   ]
  },
  {
   "cell_type": "code",
   "execution_count": 301,
   "id": "5cebf205",
   "metadata": {},
   "outputs": [],
   "source": [
    "def create_building_csv(df):\n",
    "    unique = df['bldgname'].unique()\n",
    "    for i in range(len(unique)):\n",
    "            x = df.loc[df['bldgname'] == unique[i]]\n",
    "            x.reset_index(inplace=True)\n",
    "            x.to_csv('..microclimate_model/ENVI-met/processed data 1/' + unique[i] + '.csv')\n",
    "            print(len(x))"
   ]
  },
  {
   "cell_type": "code",
   "execution_count": 302,
   "id": "e25137c6",
   "metadata": {
    "scrolled": true
   },
   "outputs": [
    {
     "name": "stdout",
     "output_type": "stream",
     "text": [
      "649\n",
      "649\n",
      "649\n",
      "649\n",
      "649\n",
      "649\n",
      "649\n",
      "649\n",
      "649\n",
      "649\n",
      "649\n",
      "649\n",
      "649\n",
      "649\n",
      "649\n",
      "649\n",
      "649\n",
      "649\n",
      "649\n"
     ]
    }
   ],
   "source": [
    "create_building_csv(onepd)"
   ]
  }
 ],
 "metadata": {
  "kernelspec": {
   "display_name": "Python 3.8.8 64-bit ('base': conda)",
   "language": "python",
   "name": "python388jvsc74a57bd05743e2273c9542cf7022ebd3e101ce4ff09b272df8f3a22ea02f51200ed7a568"
  },
  "language_info": {
   "codemirror_mode": {
    "name": "ipython",
    "version": 3
   },
   "file_extension": ".py",
   "mimetype": "text/x-python",
   "name": "python",
   "nbconvert_exporter": "python",
   "pygments_lexer": "ipython3",
   "version": "3.8.8"
  }
 },
 "nbformat": 4,
 "nbformat_minor": 5
}
