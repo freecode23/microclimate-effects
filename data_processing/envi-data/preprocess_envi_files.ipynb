{
 "cells": [
  {
   "cell_type": "code",
   "execution_count": 5,
   "id": "a8afdf6d",
   "metadata": {},
   "outputs": [],
   "source": [
    "import pandas as pd\n",
    "import numpy as np\n",
    "import pathlib\n",
    "import pickle\n",
    "from datetime import datetime\n",
    "import os"
   ]
  },
  {
   "cell_type": "code",
   "execution_count": 2,
   "id": "2e68c889",
   "metadata": {},
   "outputs": [
    {
     "name": "stdout",
     "output_type": "stream",
     "text": [
      "{'1': '2018_0516', '2': '2018_0607', '3': '2018_0608', '4': '2018_0620', '5': '2018_0621', '6': '2018_0625', '7': '2018_0911', '8': '2018_0929'}\n",
      "Enter a number corrosponding to date: 3\n",
      "you chose:  2018_0608\n"
     ]
    }
   ],
   "source": [
    "dates = {\n",
    "  \"1\": \"2018_0516\",\n",
    "  \"2\": \"2018_0607\",\n",
    "  \"3\": \"2018_0608\",\n",
    "  \"4\": \"2018_0620\",\n",
    "  \"5\": \"2018_0621\",\n",
    "  \"6\": \"2018_0625\",\n",
    "  \"7\": \"2018_0911\",\n",
    "  \"8\": \"2018_0929\",\n",
    "}\n",
    "print(dates)\n",
    "\n",
    "n = input(\"Enter a number corrosponding to date: \")\n",
    "\n",
    "print(\"you chose:  \" + dates[n])"
   ]
  },
  {
   "cell_type": "markdown",
   "id": "ec4daaee",
   "metadata": {},
   "source": [
    "Preprocess on single date"
   ]
  },
  {
   "cell_type": "code",
   "execution_count": 68,
   "id": "f12bb854",
   "metadata": {},
   "outputs": [],
   "source": [
    "for path in pathlib.Path(\"..microclimate_model/ENVI-met/\" + dates[n] + \"/base_micro\").iterdir():\n",
    "        if path.is_file():\n",
    "            current_file = pd.read_csv(path)\n",
    "             # Perform any processing here for chosen date file\n",
    "            current_file.to_csv(\"..microclimate_model/ENVI-met/\" + dates[n] + \"/base_micro/\" + path.name, index=False)"
   ]
  },
  {
   "cell_type": "markdown",
   "id": "b9afad6e",
   "metadata": {},
   "source": [
    "Preprocess on all dates"
   ]
  },
  {
   "cell_type": "code",
   "execution_count": 58,
   "id": "78ec911b",
   "metadata": {},
   "outputs": [
    {
     "name": "stdout",
     "output_type": "stream",
     "text": [
      "/Users/alialyakoob/Desktop/ASU/RA/Data/Model_Data/microclimate_model/ENVI-met/2018_0516/base_micro/Mistake Structure.csv\n",
      "/Users/alialyakoob/Desktop/ASU/RA/Data/Model_Data/microclimate_model/ENVI-met/2018_0607/base_micro/Rural Parking Structure.csv\n",
      "/Users/alialyakoob/Desktop/ASU/RA/Data/Model_Data/microclimate_model/ENVI-met/2018_0607/base_micro/Noble Library.csv\n",
      "/Users/alialyakoob/Desktop/ASU/RA/Data/Model_Data/microclimate_model/ENVI-met/2018_0607/base_micro/Biodesign C.csv\n",
      "/Users/alialyakoob/Desktop/ASU/RA/Data/Model_Data/microclimate_model/ENVI-met/2018_0607/base_micro/Bidesign AB.csv\n",
      "/Users/alialyakoob/Desktop/ASU/RA/Data/Model_Data/microclimate_model/ENVI-met/2018_0607/base_micro/Schwada classroom office bldg.csv\n",
      "/Users/alialyakoob/Desktop/ASU/RA/Data/Model_Data/microclimate_model/ENVI-met/2018_0607/base_micro/.DS_Store\n",
      "/Users/alialyakoob/Desktop/ASU/RA/Data/Model_Data/microclimate_model/ENVI-met/2018_0607/base_micro/Combined Heating and Power Facility.csv\n",
      "/Users/alialyakoob/Desktop/ASU/RA/Data/Model_Data/microclimate_model/ENVI-met/2018_0607/base_micro/Psychology.csv\n",
      "/Users/alialyakoob/Desktop/ASU/RA/Data/Model_Data/microclimate_model/ENVI-met/2018_0607/base_micro/Rise-Blakely Hall.csv\n",
      "/Users/alialyakoob/Desktop/ASU/RA/Data/Model_Data/microclimate_model/ENVI-met/2018_0607/base_micro/Skyspace Ramada.csv\n",
      "/Users/alialyakoob/Desktop/ASU/RA/Data/Model_Data/microclimate_model/ENVI-met/2018_0607/base_micro/LDS Parking garage.csv\n",
      "/Users/alialyakoob/Desktop/ASU/RA/Data/Model_Data/microclimate_model/ENVI-met/2018_0607/base_micro/Goldwater Engineering Center.csv\n",
      "/Users/alialyakoob/Desktop/ASU/RA/Data/Model_Data/microclimate_model/ENVI-met/2018_0607/base_micro/LDS Church.csv\n",
      "/Users/alialyakoob/Desktop/ASU/RA/Data/Model_Data/microclimate_model/ENVI-met/2018_0607/base_micro/ISTB 2.csv\n",
      "/Users/alialyakoob/Desktop/ASU/RA/Data/Model_Data/microclimate_model/ENVI-met/2018_0607/base_micro/ISTB 7.csv\n",
      "/Users/alialyakoob/Desktop/ASU/RA/Data/Model_Data/microclimate_model/ENVI-met/2018_0607/base_micro/Tyler Parking Garage.csv\n",
      "/Users/alialyakoob/Desktop/ASU/RA/Data/Model_Data/microclimate_model/ENVI-met/2018_0607/base_micro/Armstrong Hall.csv\n",
      "/Users/alialyakoob/Desktop/ASU/RA/Data/Model_Data/microclimate_model/ENVI-met/2018_0607/base_micro/Bulldog Hall.csv\n",
      "/Users/alialyakoob/Desktop/ASU/RA/Data/Model_Data/microclimate_model/ENVI-met/2018_0607/base_micro/ISTB 4.csv\n",
      "/Users/alialyakoob/Desktop/ASU/RA/Data/Model_Data/microclimate_model/ENVI-met/2018_0607/base_micro/Psychology North.csv\n",
      "/Users/alialyakoob/Desktop/ASU/RA/Data/Model_Data/microclimate_model/ENVI-met/2018_0608/base_micro/.DS_Store\n",
      "/Users/alialyakoob/Desktop/ASU/RA/Data/Model_Data/microclimate_model/ENVI-met/2018_0620/base_micro/.DS_Store\n",
      "/Users/alialyakoob/Desktop/ASU/RA/Data/Model_Data/microclimate_model/ENVI-met/2018_0621/base_micro/.DS_Store\n",
      "/Users/alialyakoob/Desktop/ASU/RA/Data/Model_Data/microclimate_model/ENVI-met/2018_0625/base_micro/.DS_Store\n",
      "/Users/alialyakoob/Desktop/ASU/RA/Data/Model_Data/microclimate_model/ENVI-met/2018_0911/base_micro/.DS_Store\n",
      "/Users/alialyakoob/Desktop/ASU/RA/Data/Model_Data/microclimate_model/ENVI-met/2018_0929/base_micro/.DS_Store\n"
     ]
    }
   ],
   "source": [
    "for i in range(len(dates)):\n",
    "    for path in pathlib.Path(\"/Users/alialyakoob/Desktop/ASU/RA/Data/Model_Data/microclimate_model/ENVI-met/\" + dates[str(i+1)] + \"/base_micro\").iterdir():\n",
    "            if path.is_file():\n",
    "                current_file = pd.read_csv(path)\n",
    "                # Perform any processing here for all date files\n",
    "#                 try:\n",
    "#                     current_file = current_file[['Date','Time','AirTempInFrontOfAllFacades_MEAN','RelativeAirHumidityInFrontOfAllFacades_MEAN']]\n",
    "#                 except KeyError:\n",
    "#                     pass\n",
    "#                 current_file.rename(columns = {'AirTempInFrontOfAllFacades_MEAN':'Air Temp', 'RelativeAirHumidityInFrontOfAllFacades_MEAN':'Rel Hum'}, inplace = True)\n",
    "                 current_file.to_csv(\"/Users/alialyakoob/Desktop/ASU/RA/Data/Model_Data/microclimate_model/ENVI-met/\" + dates[str(i+1)] + \"/base_micro/\" + path.name, index=False)"
   ]
  },
  {
   "cell_type": "code",
   "execution_count": null,
   "id": "c4ad6d4c",
   "metadata": {},
   "outputs": [],
   "source": []
  }
 ],
 "metadata": {
  "kernelspec": {
   "display_name": "Python 3.8.8 64-bit ('base': conda)",
   "language": "python",
   "name": "python388jvsc74a57bd05743e2273c9542cf7022ebd3e101ce4ff09b272df8f3a22ea02f51200ed7a568"
  },
  "language_info": {
   "codemirror_mode": {
    "name": "ipython",
    "version": 3
   },
   "file_extension": ".py",
   "mimetype": "text/x-python",
   "name": "python",
   "nbconvert_exporter": "python",
   "pygments_lexer": "ipython3",
   "version": "3.8.8"
  }
 },
 "nbformat": 4,
 "nbformat_minor": 5
}
