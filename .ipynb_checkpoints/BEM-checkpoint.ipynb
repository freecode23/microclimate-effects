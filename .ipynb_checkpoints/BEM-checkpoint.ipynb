{
 "cells": [
  {
   "cell_type": "markdown",
   "metadata": {},
   "source": [
    "There is a micro-climate research group at ASU called Shade Labs. They have developed a model for ASU campus. They  used in-situ observations collected throughout different areas on campus from a mobile device that measures different parameters. They used these measurements to develop a simulated model for the entire campus that provides micro-climate weather data at different locations."
   ]
  },
  {
   "cell_type": "markdown",
   "metadata": {},
   "source": [
    "The purpose behind understanding micro-climate is to study the Urban Heat Island effect for different urban designs (residential/commercial areas) and figure out design approaches that reduce this effect. If you need some information on UHI please let me know, I have some articles I can share.\n",
    "One method used to understand micro-climate effects is to compare urban areas to its rural surroundings.\n",
    "Where do I come in the picture? Since I have some background with Building Energy Modeling, I was introduced to the team to assist in developing a building simulation model for asu buildings that simulates energy use under micro-climate conditions."
   ]
  },
  {
   "cell_type": "markdown",
   "metadata": {},
   "source": [
    "We initially wanted to try modeling ASU buildings using BEM software such as eQuest and energyPlus. However, it turns out this difficult especially since ASU buildings are much more complicated than the average buildings. There was some hope in getting an already built model for one of the buildings at ASU but we still did not get it. Even if we do, it would only be specific to that one building. We want to develop a general model that can compare energy use under rural and microclimate conditions."
   ]
  },
  {
   "cell_type": "markdown",
   "metadata": {},
   "source": [
    "This is where Random Forests comes into the picture. I have hourly microclimate data for a specific day for half of the buildings at ASU. I also got energy/cooling consumption data from the Campus Metabolism website for some of the buildings. Buildings with consumption data that correlates with the microclimate were selected since they were mostly impacted by climate conditions rather than internal energy consumption. The RF model is developed by training the model to predict cooling energy based on microclimate conditions. Once the model is able to make predictions with good accuracy it is then used to make predictions using rural weather station data rather than the microclimate data to observe the difference in cooling requirements.\n",
    "Another model I built uses the reverse approach. Training the model using rural weather station data, then predicting cooling energy using micro-climate data.\n",
    "I know this is a lot to take in, but please read through it and let me know if you have any questions."
   ]
  },
  {
   "cell_type": "code",
   "execution_count": null,
   "metadata": {},
   "outputs": [],
   "source": []
  }
 ],
 "metadata": {
  "kernelspec": {
   "display_name": "Python [conda env:root] *",
   "language": "python",
   "name": "conda-root-py"
  },
  "language_info": {
   "codemirror_mode": {
    "name": "ipython",
    "version": 3
   },
   "file_extension": ".py",
   "mimetype": "text/x-python",
   "name": "python",
   "nbconvert_exporter": "python",
   "pygments_lexer": "ipython3",
   "version": "3.8.5"
  }
 },
 "nbformat": 4,
 "nbformat_minor": 4
}
