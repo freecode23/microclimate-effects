{
 "cells": [
  {
   "cell_type": "markdown",
   "metadata": {},
   "source": [
    "# 1. Import"
   ]
  },
  {
   "cell_type": "code",
   "execution_count": 1,
   "metadata": {},
   "outputs": [],
   "source": [
    "import pandas as pd\n",
    "import seaborn as sns\n",
    "import numpy as np\n",
    "import pickle\n",
    "\n",
    "# graph\n",
    "import pathlib\n",
    "import matplotlib.pyplot as plt\n",
    "from matplotlib.pyplot import cm\n",
    "from datetime import datetime\n",
    "\n",
    "\n",
    "# model\n",
    "from sklearn.ensemble import RandomForestRegressor\n",
    "from sklearn import metrics\n",
    "\n",
    "#  for multicolinearity\n",
    "from statsmodels.stats.outliers_influence import variance_inflation_factor "
   ]
  },
  {
   "cell_type": "markdown",
   "metadata": {},
   "source": [
    "# 2. Import Files"
   ]
  },
  {
   "cell_type": "code",
   "execution_count": 3,
   "metadata": {},
   "outputs": [],
   "source": [
    "# 1. to make sure month and time column is read as string\n",
    "string_cols = ['Month', 'Time']\n",
    "dict_dtypes = {x : 'str'  for x in string_cols}\n",
    "\n",
    "# 2. get all year data\n",
    "all_year = pd.read_csv('./Data/station.csv', index_col = 0, dtype = dict_dtypes)\n",
    "weather_j9 = pd.read_csv('./Data/station_j9.csv', index_col = 0, dtype = dict_dtypes)\n",
    "envi_j9 = pd.read_csv('./Data/envimet_j9.csv', index_col = 0, dtype = dict_dtypes)\n",
    "\n",
    "# 3. get score data\n",
    "# scores_df = pd.read_csv('./Data/score', index_col = 0)"
   ]
  },
  {
   "cell_type": "markdown",
   "metadata": {},
   "source": [
    "# 3. XG Boost"
   ]
  },
  {
   "cell_type": "code",
   "execution_count": 18,
   "metadata": {},
   "outputs": [],
   "source": [
    "all_year.drop(columns = ['Month', 'Time'], inplace = True)"
   ]
  },
  {
   "cell_type": "code",
   "execution_count": 19,
   "metadata": {},
   "outputs": [],
   "source": [
    "Y = all_year['CHWTON']\n",
    "X = all_year.drop(labels = ['CHWTON'], axis = 1)"
   ]
  },
  {
   "cell_type": "code",
   "execution_count": 26,
   "metadata": {},
   "outputs": [
    {
     "data": {
      "text/html": [
       "<div>\n",
       "<style scoped>\n",
       "    .dataframe tbody tr th:only-of-type {\n",
       "        vertical-align: middle;\n",
       "    }\n",
       "\n",
       "    .dataframe tbody tr th {\n",
       "        vertical-align: top;\n",
       "    }\n",
       "\n",
       "    .dataframe thead th {\n",
       "        text-align: right;\n",
       "    }\n",
       "</style>\n",
       "<table border=\"1\" class=\"dataframe\">\n",
       "  <thead>\n",
       "    <tr style=\"text-align: right;\">\n",
       "      <th></th>\n",
       "      <th>Month_num</th>\n",
       "      <th>Hour_num</th>\n",
       "      <th>Minute_num</th>\n",
       "      <th>Air Temp</th>\n",
       "      <th>Rel Humid</th>\n",
       "      <th>KW</th>\n",
       "      <th>CHWTON</th>\n",
       "    </tr>\n",
       "  </thead>\n",
       "  <tbody>\n",
       "    <tr>\n",
       "      <th>01/01/2018 00:00</th>\n",
       "      <td>1</td>\n",
       "      <td>0</td>\n",
       "      <td>0</td>\n",
       "      <td>11.0</td>\n",
       "      <td>40.24</td>\n",
       "      <td>138.33</td>\n",
       "      <td>1.09</td>\n",
       "    </tr>\n",
       "    <tr>\n",
       "      <th>01/01/2018 00:15</th>\n",
       "      <td>1</td>\n",
       "      <td>0</td>\n",
       "      <td>15</td>\n",
       "      <td>11.0</td>\n",
       "      <td>40.24</td>\n",
       "      <td>90.14</td>\n",
       "      <td>0.99</td>\n",
       "    </tr>\n",
       "    <tr>\n",
       "      <th>01/01/2018 00:30</th>\n",
       "      <td>1</td>\n",
       "      <td>0</td>\n",
       "      <td>30</td>\n",
       "      <td>10.0</td>\n",
       "      <td>43.01</td>\n",
       "      <td>80.49</td>\n",
       "      <td>1.01</td>\n",
       "    </tr>\n",
       "    <tr>\n",
       "      <th>01/01/2018 00:45</th>\n",
       "      <td>1</td>\n",
       "      <td>0</td>\n",
       "      <td>45</td>\n",
       "      <td>9.0</td>\n",
       "      <td>46.00</td>\n",
       "      <td>84.88</td>\n",
       "      <td>0.90</td>\n",
       "    </tr>\n",
       "    <tr>\n",
       "      <th>01/01/2018 01:00</th>\n",
       "      <td>1</td>\n",
       "      <td>1</td>\n",
       "      <td>0</td>\n",
       "      <td>9.0</td>\n",
       "      <td>46.00</td>\n",
       "      <td>85.83</td>\n",
       "      <td>0.87</td>\n",
       "    </tr>\n",
       "    <tr>\n",
       "      <th>...</th>\n",
       "      <td>...</td>\n",
       "      <td>...</td>\n",
       "      <td>...</td>\n",
       "      <td>...</td>\n",
       "      <td>...</td>\n",
       "      <td>...</td>\n",
       "      <td>...</td>\n",
       "    </tr>\n",
       "    <tr>\n",
       "      <th>12/31/2018 22:00</th>\n",
       "      <td>12</td>\n",
       "      <td>22</td>\n",
       "      <td>0</td>\n",
       "      <td>6.0</td>\n",
       "      <td>93.30</td>\n",
       "      <td>124.28</td>\n",
       "      <td>0.00</td>\n",
       "    </tr>\n",
       "    <tr>\n",
       "      <th>12/31/2018 22:15</th>\n",
       "      <td>12</td>\n",
       "      <td>22</td>\n",
       "      <td>15</td>\n",
       "      <td>5.0</td>\n",
       "      <td>100.00</td>\n",
       "      <td>127.61</td>\n",
       "      <td>0.00</td>\n",
       "    </tr>\n",
       "    <tr>\n",
       "      <th>12/31/2018 22:30</th>\n",
       "      <td>12</td>\n",
       "      <td>22</td>\n",
       "      <td>30</td>\n",
       "      <td>5.0</td>\n",
       "      <td>100.00</td>\n",
       "      <td>130.48</td>\n",
       "      <td>0.00</td>\n",
       "    </tr>\n",
       "    <tr>\n",
       "      <th>12/31/2018 22:45</th>\n",
       "      <td>12</td>\n",
       "      <td>22</td>\n",
       "      <td>45</td>\n",
       "      <td>6.0</td>\n",
       "      <td>93.30</td>\n",
       "      <td>133.01</td>\n",
       "      <td>0.00</td>\n",
       "    </tr>\n",
       "    <tr>\n",
       "      <th>12/31/2018 23:00</th>\n",
       "      <td>12</td>\n",
       "      <td>23</td>\n",
       "      <td>0</td>\n",
       "      <td>6.0</td>\n",
       "      <td>93.30</td>\n",
       "      <td>130.59</td>\n",
       "      <td>0.00</td>\n",
       "    </tr>\n",
       "  </tbody>\n",
       "</table>\n",
       "<p>34623 rows × 7 columns</p>\n",
       "</div>"
      ],
      "text/plain": [
       "                  Month_num  Hour_num  Minute_num  Air Temp  Rel Humid  \\\n",
       "01/01/2018 00:00          1         0           0      11.0      40.24   \n",
       "01/01/2018 00:15          1         0          15      11.0      40.24   \n",
       "01/01/2018 00:30          1         0          30      10.0      43.01   \n",
       "01/01/2018 00:45          1         0          45       9.0      46.00   \n",
       "01/01/2018 01:00          1         1           0       9.0      46.00   \n",
       "...                     ...       ...         ...       ...        ...   \n",
       "12/31/2018 22:00         12        22           0       6.0      93.30   \n",
       "12/31/2018 22:15         12        22          15       5.0     100.00   \n",
       "12/31/2018 22:30         12        22          30       5.0     100.00   \n",
       "12/31/2018 22:45         12        22          45       6.0      93.30   \n",
       "12/31/2018 23:00         12        23           0       6.0      93.30   \n",
       "\n",
       "                      KW  CHWTON  \n",
       "01/01/2018 00:00  138.33    1.09  \n",
       "01/01/2018 00:15   90.14    0.99  \n",
       "01/01/2018 00:30   80.49    1.01  \n",
       "01/01/2018 00:45   84.88    0.90  \n",
       "01/01/2018 01:00   85.83    0.87  \n",
       "...                  ...     ...  \n",
       "12/31/2018 22:00  124.28    0.00  \n",
       "12/31/2018 22:15  127.61    0.00  \n",
       "12/31/2018 22:30  130.48    0.00  \n",
       "12/31/2018 22:45  133.01    0.00  \n",
       "12/31/2018 23:00  130.59    0.00  \n",
       "\n",
       "[34623 rows x 7 columns]"
      ]
     },
     "execution_count": 26,
     "metadata": {},
     "output_type": "execute_result"
    }
   ],
   "source": [
    "all_year"
   ]
  },
  {
   "cell_type": "markdown",
   "metadata": {},
   "source": [
    "## 4.2 Randomized Search"
   ]
  },
  {
   "cell_type": "code",
   "execution_count": 13,
   "metadata": {},
   "outputs": [],
   "source": [
    "from xgboost import XGBRegressor\n",
    "from sklearn.model_selection import train_test_split\n",
    "from sklearn.model_selection import RandomizedSearchCV\n",
    "import time"
   ]
  },
  {
   "cell_type": "code",
   "execution_count": 22,
   "metadata": {},
   "outputs": [],
   "source": [
    "# Train test split\n",
    "# 1. Split into train test data\n",
    "X_train, X_test, Y_train, Y_test = train_test_split(X, Y, test_size=0.2, random_state=20)"
   ]
  },
  {
   "cell_type": "code",
   "execution_count": 23,
   "metadata": {
    "scrolled": true,
    "tags": []
   },
   "outputs": [
    {
     "name": "stdout",
     "output_type": "stream",
     "text": [
      "Fitting 5 folds for each of 20 candidates, totalling 100 fits\n"
     ]
    },
    {
     "name": "stderr",
     "output_type": "stream",
     "text": [
      "[Parallel(n_jobs=-1)]: Using backend LokyBackend with 4 concurrent workers.\n",
      "[Parallel(n_jobs=-1)]: Done  33 tasks      | elapsed:   34.4s\n",
      "[Parallel(n_jobs=-1)]: Done 100 out of 100 | elapsed:  2.4min finished\n"
     ]
    },
    {
     "name": "stdout",
     "output_type": "stream",
     "text": [
      "RandomizedSearchCV took 188.19 seconds for 20 candidates parameter settings.\n"
     ]
    }
   ],
   "source": [
    "# A parameter grid for XGBoost\n",
    "params = {\n",
    "    'n_estimators':[50, 100 , 250],\n",
    "    'min_child_weight':[4,5], \n",
    "    'gamma':[i/10.0 for i in range(3,6)],  \n",
    "    'subsample':[i/10.0 for i in range(6,11)],\n",
    "    'colsample_bytree':[i/10.0 for i in range(6,11)], \n",
    "    'max_depth': [2,3,4,6,7],\n",
    "    'objective': ['reg:squarederror', 'reg:tweedie'],\n",
    "    'booster': ['gbtree', 'gblinear'],\n",
    "    'eval_metric': ['rmse'],\n",
    "    'eta': [i/10.0 for i in range(3,6)],\n",
    "}\n",
    "\n",
    "reg = XGBRegressor()\n",
    "\n",
    "n_iter_search = 20\n",
    "xgb_random = RandomizedSearchCV(reg,\n",
    "                                param_distributions = params,\n",
    "                                n_iter = n_iter_search,\n",
    "                                cv = 5,\n",
    "                                verbose = 2,\n",
    "                                random_state = 20,\n",
    "                                scoring ='r2',\n",
    "                                n_jobs = -1)\n",
    "\n",
    "start = time.time()\n",
    "xgb_random.fit(X_train, Y_train)\n",
    "print(\"RandomizedSearchCV took %.2f seconds for %d candidates\"\n",
    "      \" parameter settings.\" % ((time.time() - start), n_iter_search))\n",
    "\n"
   ]
  },
  {
   "cell_type": "code",
   "execution_count": 25,
   "metadata": {},
   "outputs": [
    {
     "name": "stdout",
     "output_type": "stream",
     "text": [
      "{'objective': 'reg:squarederror', 'base_score': 0.5, 'booster': 'gbtree', 'colsample_bylevel': 1, 'colsample_bynode': 1, 'colsample_bytree': 1.0, 'gamma': 0.3, 'gpu_id': -1, 'importance_type': 'gain', 'interaction_constraints': '', 'learning_rate': 0.300000012, 'max_delta_step': 0, 'max_depth': 6, 'min_child_weight': 4, 'missing': nan, 'monotone_constraints': '()', 'n_estimators': 250, 'n_jobs': 0, 'num_parallel_tree': 1, 'random_state': 0, 'reg_alpha': 0, 'reg_lambda': 1, 'scale_pos_weight': 1, 'subsample': 0.9, 'tree_method': 'exact', 'validate_parameters': 1, 'verbosity': None, 'eval_metric': 'rmse', 'eta': 0.3}\n",
      "0.9205243432644133\n"
     ]
    }
   ],
   "source": [
    "# 1. print winning set of hyperparameters\n",
    "print(xgb_random.best_estimator_.get_params())\n",
    "print(xgb_random.best_score_)\n",
    "\n",
    "# 2. save model\n",
    "xgb_best = xgb_random.best_estimator_"
   ]
  },
  {
   "cell_type": "code",
   "execution_count": null,
   "metadata": {},
   "outputs": [],
   "source": [
    "# June 9th prediction\n",
    "# 1. get X\n",
    "X_j9_dum = j9_dum.drop(labels = ['CHWTON', 'Month', 'Time'], axis = 1)\n",
    "\n",
    "# 2. Ypred\n",
    "Y_pred_xgb_j9 = xgb_best.predict(X_j9_dum)\n",
    "\n",
    "# 3. Score\n",
    "R2_j9_xgb = xgb_best.score(X_j9_dum, Y_j9)\n",
    "RMSE_j9_xgb = np.sqrt(metrics.mean_squared_error(Y_j9, Y_pred_xgb_j9))\n",
    "\n",
    "# 4. append to score df\n",
    "score_J9_xgb = [R2_j9_xgb, RMSE_j9_xgb]\n",
    "scores_df['XGB_J9_AZ'] = score_J9_xgb\n",
    "scores_df"
   ]
  },
  {
   "cell_type": "code",
   "execution_count": null,
   "metadata": {},
   "outputs": [],
   "source": []
  }
 ],
 "metadata": {
  "kernelspec": {
   "display_name": "Python [conda env:root] *",
   "language": "python",
   "name": "conda-root-py"
  },
  "language_info": {
   "codemirror_mode": {
    "name": "ipython",
    "version": 3
   },
   "file_extension": ".py",
   "mimetype": "text/x-python",
   "name": "python",
   "nbconvert_exporter": "python",
   "pygments_lexer": "ipython3",
   "version": "3.8.5"
  }
 },
 "nbformat": 4,
 "nbformat_minor": 4
}
